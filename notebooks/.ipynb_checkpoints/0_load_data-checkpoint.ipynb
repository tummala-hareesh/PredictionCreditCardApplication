{
 "cells": [
  {
   "cell_type": "markdown",
   "metadata": {},
   "source": [
    "# Sneak-Peak into Credit Card Dataset"
   ]
  },
  {
   "cell_type": "markdown",
   "metadata": {},
   "source": [
    "#### In here, we peform two simple but essential sets in any Data Science project. \n",
    "- Firstly, we are going to download [credit card data](https://archive.ics.uci.edu/ml/datasets/default+of+credit+card+clients) from UCI's Machine Learning Repository. \n",
    "- Secondly, we are going to dig into different data types that are at our disposal in the credit card dataset.  "
   ]
  },
  {
   "cell_type": "markdown",
   "metadata": {},
   "source": [
    "### 1. Download credit card data from UCI ML Repository"
   ]
  },
  {
   "cell_type": "code",
   "execution_count": 5,
   "metadata": {},
   "outputs": [],
   "source": [
    "#!pip install wget"
   ]
  },
  {
   "cell_type": "code",
   "execution_count": 54,
   "metadata": {},
   "outputs": [],
   "source": [
    "# Modules to import\n",
    "import wget\n",
    "import os \n",
    "import pandas as pd"
   ]
  },
  {
   "cell_type": "code",
   "execution_count": 50,
   "metadata": {},
   "outputs": [],
   "source": [
    "# Weblinks directing to the data to be downloaded\n",
    "url = 'https://archive.ics.uci.edu/ml/machine-learning-databases/credit-screening'\n",
    "data_file = 'crx.data'\n",
    "names_file = 'crx.names'\n",
    "url_data  = url+'/'+data_file\n",
    "url_names = url+'/'+names_file"
   ]
  },
  {
   "cell_type": "code",
   "execution_count": 51,
   "metadata": {},
   "outputs": [
    {
     "name": "stdout",
     "output_type": "stream",
     "text": [
      " Downloading data... <START>\n",
      " - crx.data\n",
      " - crx.names\n",
      " Downloading data... <FINISH>\n"
     ]
    }
   ],
   "source": [
    "# Dowloads datafiles if not already present\n",
    "path_raw_data = '../data/raw_data'\n",
    "if os.path.isfile(path_raw_data+'/'+'crx.data'):\n",
    "    print(\" Data already present.\")\n",
    "else:\n",
    "    print(\" Downloading data... <START>\")\n",
    "    crxdata  = wget.download(url_data, path_raw_data)\n",
    "    print(\" - {}\".format(data_file))\n",
    "    crxnames = wget.download(url_names, path_raw_data)\n",
    "    print(\" - {}\".format(names_file))\n",
    "    print(\" Downloading data... <FINISH>\")    "
   ]
  },
  {
   "cell_type": "markdown",
   "metadata": {},
   "source": [
    "***"
   ]
  },
  {
   "cell_type": "markdown",
   "metadata": {},
   "source": [
    "### 2. Load data using Pandas and investigate datatypes"
   ]
  },
  {
   "cell_type": "markdown",
   "metadata": {},
   "source": [
    "Now that we have successfully downloaded data, let's investigate the datatypes in the dataset."
   ]
  },
  {
   "cell_type": "code",
   "execution_count": 58,
   "metadata": {},
   "outputs": [
    {
     "name": "stdout",
     "output_type": "stream",
     "text": [
      "  0      1      2  3  4  5  6     7  8  9   10 11 12     13   14 15\n",
      "0  b  30.83  0.000  u  g  w  v  1.25  t  t   1  f  g  00202    0  +\n",
      "1  a  58.67  4.460  u  g  q  h  3.04  t  t   6  f  g  00043  560  +\n",
      "2  a  24.50  0.500  u  g  q  h  1.50  t  f   0  f  g  00280  824  +\n",
      "3  b  27.83  1.540  u  g  w  v  3.75  t  t   5  t  g  00100    3  +\n",
      "4  b  20.17  5.625  u  g  w  v  1.71  t  f   0  f  s  00120    0  +\n"
     ]
    }
   ],
   "source": [
    "ccard_df = pd.read_table(path_raw_data+'/'+data_file, sep=',', header=None)\n",
    "print(ccard_df.head())"
   ]
  },
  {
   "cell_type": "markdown",
   "metadata": {},
   "source": [
    "Looks like due to the propritary nature of credit card information, all the header details have been omitted from the dataset. But, it is quite possible to decode this information with little effort. To do so, I ran a quick google search and end up with all the header information I needed about the dataset from this [website](http://rstudio-pubs-static.s3.amazonaws.com/73039_9946de135c0a49daa7a0a9eda4a67a72.html). "
   ]
  },
  {
   "cell_type": "markdown",
   "metadata": {},
   "source": [
    "### Column data information and the datatypes they need to be:\n",
    "- Col:0 - **Gender** - Categorical\n",
    "- Col:1 - **Age**    - Numerical\n",
    "- Col:2 - **Debt**   - Numerical\n",
    "- Col:3 - **Marital status** - Categorical\n",
    "- Col:4 - **Bank Customer**  - Categorical\n",
    "- Col:5 - **Education level** - Categorical\n",
    "- Col:6 - **Ethnicity** - Categorical\n",
    "- Col:7 - **YearsEmployed** - Numerical\n",
    "- Col:8 - **PriorDefault** - Numerical\n",
    "- Col:9 - **Employed** - Numerical\n",
    "- Col:10 - **Credit Score** - Numerical \n",
    "- Col:11 - **Drivers License** - Categorical\n",
    "- Col:12 - **Citizenship** - Categorical\n",
    "- Col:13 - **Zipcode** - Categorical\n",
    "- Col:14 - **Income** - Numerical\n",
    "- Col:15 - **Approved** - Categorical"
   ]
  },
  {
   "cell_type": "markdown",
   "metadata": {},
   "source": [
    "The data types we have are:"
   ]
  },
  {
   "cell_type": "code",
   "execution_count": 63,
   "metadata": {},
   "outputs": [
    {
     "data": {
      "text/plain": [
       "0      object\n",
       "1      object\n",
       "2     float64\n",
       "3      object\n",
       "4      object\n",
       "5      object\n",
       "6      object\n",
       "7     float64\n",
       "8      object\n",
       "9      object\n",
       "10      int64\n",
       "11     object\n",
       "12     object\n",
       "13     object\n",
       "14      int64\n",
       "15     object\n",
       "dtype: object"
      ]
     },
     "execution_count": 63,
     "metadata": {},
     "output_type": "execute_result"
    }
   ],
   "source": [
    "ccard_df.dtypes"
   ]
  },
  {
   "cell_type": "markdown",
   "metadata": {},
   "source": [
    "All the data types except the Col:1 - Age are not in agreement. Let's look into the issue we may face while embarking to tidy the data in 1_tidy_data.ipynb notebook. "
   ]
  },
  {
   "cell_type": "code",
   "execution_count": 71,
   "metadata": {},
   "outputs": [
    {
     "data": {
      "text/plain": [
       "(690, 16)"
      ]
     },
     "execution_count": 71,
     "metadata": {},
     "output_type": "execute_result"
    }
   ],
   "source": [
    "ccard_df.shape"
   ]
  },
  {
   "cell_type": "code",
   "execution_count": 70,
   "metadata": {},
   "outputs": [
    {
     "data": {
      "text/html": [
       "<div>\n",
       "<style scoped>\n",
       "    .dataframe tbody tr th:only-of-type {\n",
       "        vertical-align: middle;\n",
       "    }\n",
       "\n",
       "    .dataframe tbody tr th {\n",
       "        vertical-align: top;\n",
       "    }\n",
       "\n",
       "    .dataframe thead th {\n",
       "        text-align: right;\n",
       "    }\n",
       "</style>\n",
       "<table border=\"1\" class=\"dataframe\">\n",
       "  <thead>\n",
       "    <tr style=\"text-align: right;\">\n",
       "      <th></th>\n",
       "      <th>0</th>\n",
       "      <th>1</th>\n",
       "      <th>2</th>\n",
       "      <th>3</th>\n",
       "      <th>4</th>\n",
       "      <th>5</th>\n",
       "      <th>6</th>\n",
       "      <th>7</th>\n",
       "      <th>8</th>\n",
       "      <th>9</th>\n",
       "      <th>10</th>\n",
       "      <th>11</th>\n",
       "      <th>12</th>\n",
       "      <th>13</th>\n",
       "      <th>14</th>\n",
       "      <th>15</th>\n",
       "    </tr>\n",
       "  </thead>\n",
       "  <tbody>\n",
       "    <tr>\n",
       "      <th>count</th>\n",
       "      <td>690</td>\n",
       "      <td>690</td>\n",
       "      <td>690.000000</td>\n",
       "      <td>690</td>\n",
       "      <td>690</td>\n",
       "      <td>690</td>\n",
       "      <td>690</td>\n",
       "      <td>690.000000</td>\n",
       "      <td>690</td>\n",
       "      <td>690</td>\n",
       "      <td>690.00000</td>\n",
       "      <td>690</td>\n",
       "      <td>690</td>\n",
       "      <td>690</td>\n",
       "      <td>690.000000</td>\n",
       "      <td>690</td>\n",
       "    </tr>\n",
       "    <tr>\n",
       "      <th>unique</th>\n",
       "      <td>3</td>\n",
       "      <td>350</td>\n",
       "      <td>NaN</td>\n",
       "      <td>4</td>\n",
       "      <td>4</td>\n",
       "      <td>15</td>\n",
       "      <td>10</td>\n",
       "      <td>NaN</td>\n",
       "      <td>2</td>\n",
       "      <td>2</td>\n",
       "      <td>NaN</td>\n",
       "      <td>2</td>\n",
       "      <td>3</td>\n",
       "      <td>171</td>\n",
       "      <td>NaN</td>\n",
       "      <td>2</td>\n",
       "    </tr>\n",
       "    <tr>\n",
       "      <th>top</th>\n",
       "      <td>b</td>\n",
       "      <td>?</td>\n",
       "      <td>NaN</td>\n",
       "      <td>u</td>\n",
       "      <td>g</td>\n",
       "      <td>c</td>\n",
       "      <td>v</td>\n",
       "      <td>NaN</td>\n",
       "      <td>t</td>\n",
       "      <td>f</td>\n",
       "      <td>NaN</td>\n",
       "      <td>f</td>\n",
       "      <td>g</td>\n",
       "      <td>00000</td>\n",
       "      <td>NaN</td>\n",
       "      <td>-</td>\n",
       "    </tr>\n",
       "    <tr>\n",
       "      <th>freq</th>\n",
       "      <td>468</td>\n",
       "      <td>12</td>\n",
       "      <td>NaN</td>\n",
       "      <td>519</td>\n",
       "      <td>519</td>\n",
       "      <td>137</td>\n",
       "      <td>399</td>\n",
       "      <td>NaN</td>\n",
       "      <td>361</td>\n",
       "      <td>395</td>\n",
       "      <td>NaN</td>\n",
       "      <td>374</td>\n",
       "      <td>625</td>\n",
       "      <td>132</td>\n",
       "      <td>NaN</td>\n",
       "      <td>383</td>\n",
       "    </tr>\n",
       "    <tr>\n",
       "      <th>mean</th>\n",
       "      <td>NaN</td>\n",
       "      <td>NaN</td>\n",
       "      <td>4.758725</td>\n",
       "      <td>NaN</td>\n",
       "      <td>NaN</td>\n",
       "      <td>NaN</td>\n",
       "      <td>NaN</td>\n",
       "      <td>2.223406</td>\n",
       "      <td>NaN</td>\n",
       "      <td>NaN</td>\n",
       "      <td>2.40000</td>\n",
       "      <td>NaN</td>\n",
       "      <td>NaN</td>\n",
       "      <td>NaN</td>\n",
       "      <td>1017.385507</td>\n",
       "      <td>NaN</td>\n",
       "    </tr>\n",
       "    <tr>\n",
       "      <th>std</th>\n",
       "      <td>NaN</td>\n",
       "      <td>NaN</td>\n",
       "      <td>4.978163</td>\n",
       "      <td>NaN</td>\n",
       "      <td>NaN</td>\n",
       "      <td>NaN</td>\n",
       "      <td>NaN</td>\n",
       "      <td>3.346513</td>\n",
       "      <td>NaN</td>\n",
       "      <td>NaN</td>\n",
       "      <td>4.86294</td>\n",
       "      <td>NaN</td>\n",
       "      <td>NaN</td>\n",
       "      <td>NaN</td>\n",
       "      <td>5210.102598</td>\n",
       "      <td>NaN</td>\n",
       "    </tr>\n",
       "    <tr>\n",
       "      <th>min</th>\n",
       "      <td>NaN</td>\n",
       "      <td>NaN</td>\n",
       "      <td>0.000000</td>\n",
       "      <td>NaN</td>\n",
       "      <td>NaN</td>\n",
       "      <td>NaN</td>\n",
       "      <td>NaN</td>\n",
       "      <td>0.000000</td>\n",
       "      <td>NaN</td>\n",
       "      <td>NaN</td>\n",
       "      <td>0.00000</td>\n",
       "      <td>NaN</td>\n",
       "      <td>NaN</td>\n",
       "      <td>NaN</td>\n",
       "      <td>0.000000</td>\n",
       "      <td>NaN</td>\n",
       "    </tr>\n",
       "    <tr>\n",
       "      <th>25%</th>\n",
       "      <td>NaN</td>\n",
       "      <td>NaN</td>\n",
       "      <td>1.000000</td>\n",
       "      <td>NaN</td>\n",
       "      <td>NaN</td>\n",
       "      <td>NaN</td>\n",
       "      <td>NaN</td>\n",
       "      <td>0.165000</td>\n",
       "      <td>NaN</td>\n",
       "      <td>NaN</td>\n",
       "      <td>0.00000</td>\n",
       "      <td>NaN</td>\n",
       "      <td>NaN</td>\n",
       "      <td>NaN</td>\n",
       "      <td>0.000000</td>\n",
       "      <td>NaN</td>\n",
       "    </tr>\n",
       "    <tr>\n",
       "      <th>50%</th>\n",
       "      <td>NaN</td>\n",
       "      <td>NaN</td>\n",
       "      <td>2.750000</td>\n",
       "      <td>NaN</td>\n",
       "      <td>NaN</td>\n",
       "      <td>NaN</td>\n",
       "      <td>NaN</td>\n",
       "      <td>1.000000</td>\n",
       "      <td>NaN</td>\n",
       "      <td>NaN</td>\n",
       "      <td>0.00000</td>\n",
       "      <td>NaN</td>\n",
       "      <td>NaN</td>\n",
       "      <td>NaN</td>\n",
       "      <td>5.000000</td>\n",
       "      <td>NaN</td>\n",
       "    </tr>\n",
       "    <tr>\n",
       "      <th>75%</th>\n",
       "      <td>NaN</td>\n",
       "      <td>NaN</td>\n",
       "      <td>7.207500</td>\n",
       "      <td>NaN</td>\n",
       "      <td>NaN</td>\n",
       "      <td>NaN</td>\n",
       "      <td>NaN</td>\n",
       "      <td>2.625000</td>\n",
       "      <td>NaN</td>\n",
       "      <td>NaN</td>\n",
       "      <td>3.00000</td>\n",
       "      <td>NaN</td>\n",
       "      <td>NaN</td>\n",
       "      <td>NaN</td>\n",
       "      <td>395.500000</td>\n",
       "      <td>NaN</td>\n",
       "    </tr>\n",
       "    <tr>\n",
       "      <th>max</th>\n",
       "      <td>NaN</td>\n",
       "      <td>NaN</td>\n",
       "      <td>28.000000</td>\n",
       "      <td>NaN</td>\n",
       "      <td>NaN</td>\n",
       "      <td>NaN</td>\n",
       "      <td>NaN</td>\n",
       "      <td>28.500000</td>\n",
       "      <td>NaN</td>\n",
       "      <td>NaN</td>\n",
       "      <td>67.00000</td>\n",
       "      <td>NaN</td>\n",
       "      <td>NaN</td>\n",
       "      <td>NaN</td>\n",
       "      <td>100000.000000</td>\n",
       "      <td>NaN</td>\n",
       "    </tr>\n",
       "  </tbody>\n",
       "</table>\n",
       "</div>"
      ],
      "text/plain": [
       "         0    1           2    3    4    5    6           7    8    9   \\\n",
       "count   690  690  690.000000  690  690  690  690  690.000000  690  690   \n",
       "unique    3  350         NaN    4    4   15   10         NaN    2    2   \n",
       "top       b    ?         NaN    u    g    c    v         NaN    t    f   \n",
       "freq    468   12         NaN  519  519  137  399         NaN  361  395   \n",
       "mean    NaN  NaN    4.758725  NaN  NaN  NaN  NaN    2.223406  NaN  NaN   \n",
       "std     NaN  NaN    4.978163  NaN  NaN  NaN  NaN    3.346513  NaN  NaN   \n",
       "min     NaN  NaN    0.000000  NaN  NaN  NaN  NaN    0.000000  NaN  NaN   \n",
       "25%     NaN  NaN    1.000000  NaN  NaN  NaN  NaN    0.165000  NaN  NaN   \n",
       "50%     NaN  NaN    2.750000  NaN  NaN  NaN  NaN    1.000000  NaN  NaN   \n",
       "75%     NaN  NaN    7.207500  NaN  NaN  NaN  NaN    2.625000  NaN  NaN   \n",
       "max     NaN  NaN   28.000000  NaN  NaN  NaN  NaN   28.500000  NaN  NaN   \n",
       "\n",
       "               10   11   12     13             14   15  \n",
       "count   690.00000  690  690    690     690.000000  690  \n",
       "unique        NaN    2    3    171            NaN    2  \n",
       "top           NaN    f    g  00000            NaN    -  \n",
       "freq          NaN  374  625    132            NaN  383  \n",
       "mean      2.40000  NaN  NaN    NaN    1017.385507  NaN  \n",
       "std       4.86294  NaN  NaN    NaN    5210.102598  NaN  \n",
       "min       0.00000  NaN  NaN    NaN       0.000000  NaN  \n",
       "25%       0.00000  NaN  NaN    NaN       0.000000  NaN  \n",
       "50%       0.00000  NaN  NaN    NaN       5.000000  NaN  \n",
       "75%       3.00000  NaN  NaN    NaN     395.500000  NaN  \n",
       "max      67.00000  NaN  NaN    NaN  100000.000000  NaN  "
      ]
     },
     "execution_count": 70,
     "metadata": {},
     "output_type": "execute_result"
    }
   ],
   "source": [
    "ccard_df.describe(include='all')"
   ]
  },
  {
   "cell_type": "markdown",
   "metadata": {},
   "source": [
    "***"
   ]
  },
  {
   "cell_type": "markdown",
   "metadata": {},
   "source": [
    "### List of tasks to tidy the data\n",
    "1. Replace '?' in **Col:0** with b.\n",
    "2. Replace '?' in **Col:1** with mean age of cusotmer in the dataset. \n",
    "3. Replace '?' in **Col:3** with categorical variables that has more counts. \n",
    "4. Replace '?' in **Col:4** with categorical variables that has more counts.\n",
    "5. Replace '?' in **Col:5** with categorical variables that has more counts.\n",
    "6. Replace '?' in **Col:6** with categorical variables that has more counts.\n",
    "7. Replace '?' in **Col:3** with categorical variables that has more counts."
   ]
  },
  {
   "cell_type": "code",
   "execution_count": null,
   "metadata": {},
   "outputs": [],
   "source": []
  },
  {
   "cell_type": "code",
   "execution_count": null,
   "metadata": {},
   "outputs": [],
   "source": []
  }
 ],
 "metadata": {
  "kernelspec": {
   "display_name": "Python 3",
   "language": "python",
   "name": "python3"
  },
  "language_info": {
   "codemirror_mode": {
    "name": "ipython",
    "version": 3
   },
   "file_extension": ".py",
   "mimetype": "text/x-python",
   "name": "python",
   "nbconvert_exporter": "python",
   "pygments_lexer": "ipython3",
   "version": "3.6.9"
  }
 },
 "nbformat": 4,
 "nbformat_minor": 2
}
