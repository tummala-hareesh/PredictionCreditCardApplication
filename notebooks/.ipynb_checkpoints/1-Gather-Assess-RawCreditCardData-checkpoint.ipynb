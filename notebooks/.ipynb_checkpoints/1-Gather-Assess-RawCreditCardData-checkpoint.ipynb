{
 "cells": [
  {
   "cell_type": "markdown",
   "metadata": {},
   "source": [
    "### Gather data: \n",
    "We are going to use [credit card data](https://archive.ics.uci.edu/ml/datasets/default+of+credit+card+clients) from UCI's Machine Learning Repository for this project. Let us gather required data into a folder, `datasets`. "
   ]
  },
  {
   "cell_type": "markdown",
   "metadata": {},
   "source": [
    "Let's first load the python modules needed for gather credit card data."
   ]
  },
  {
   "cell_type": "code",
   "execution_count": 58,
   "metadata": {},
   "outputs": [],
   "source": [
    "# Modules required to gather data\n",
    "import wget\n",
    "import os \n",
    "import pandas as pd\n",
    "import numpy as np"
   ]
  },
  {
   "cell_type": "code",
   "execution_count": 101,
   "metadata": {},
   "outputs": [],
   "source": [
    "# Load helper functions from utils.py to run on jupyter-notebook\n",
    "%run ../src/utils-gather-assess.py"
   ]
  },
  {
   "cell_type": "markdown",
   "metadata": {},
   "source": [
    "In here, I am reading the weblinks into variables url_data and url_names.  "
   ]
  },
  {
   "cell_type": "code",
   "execution_count": 60,
   "metadata": {},
   "outputs": [],
   "source": [
    "# Weblink directing to credit card dataset\n",
    "url = 'https://archive.ics.uci.edu/ml/machine-learning-databases/credit-screening'\n",
    "\n",
    "# Names of files in credit card dataset\n",
    "data_file = 'crx.data'\n",
    "names_file = 'crx.names'"
   ]
  },
  {
   "cell_type": "markdown",
   "metadata": {},
   "source": [
    "Organizing data from the beginning will save time for productive data analysis in the later stages of the project. Downloaded (2) data files are given the same name as specified above.    "
   ]
  },
  {
   "cell_type": "code",
   "execution_count": 61,
   "metadata": {},
   "outputs": [],
   "source": [
    "# Local directory to save data\n",
    "path_data = '../datasets'"
   ]
  },
  {
   "cell_type": "markdown",
   "metadata": {},
   "source": [
    "OK. We are all set to gather the data we need for this project. I am going to write a very simple python function to check and download the data needed. "
   ]
  },
  {
   "cell_type": "markdown",
   "metadata": {},
   "source": [
    "Now, let us call the check_download function twice on two datafiles needed."
   ]
  },
  {
   "cell_type": "code",
   "execution_count": 62,
   "metadata": {},
   "outputs": [
    {
     "name": "stdout",
     "output_type": "stream",
     "text": [
      " Folder exists: ../datasets\n",
      " Datafile already present: ../datasets/crx.data\n"
     ]
    }
   ],
   "source": [
    "# Call function on data_file\n",
    "check_download(url, data_file, path_data)"
   ]
  },
  {
   "cell_type": "code",
   "execution_count": 63,
   "metadata": {},
   "outputs": [
    {
     "name": "stdout",
     "output_type": "stream",
     "text": [
      " Folder exists: ../datasets\n",
      " Datafile already present: ../datasets/crx.names\n"
     ]
    }
   ],
   "source": [
    "# Call function on names_file\n",
    "check_download(url, names_file, path_data)"
   ]
  },
  {
   "cell_type": "markdown",
   "metadata": {},
   "source": [
    "Required datafiles for this project are now downloaded into `datasets` folder. How about a quick sneak-peak into the `datasets` folder? "
   ]
  },
  {
   "cell_type": "code",
   "execution_count": 64,
   "metadata": {},
   "outputs": [
    {
     "name": "stdout",
     "output_type": "stream",
     "text": [
      " datasets/\n",
      "       - crx.data\n",
      "       - crx.names\n",
      "       - crx.data_named.csv\n"
     ]
    }
   ],
   "source": [
    "show_files_in_datasets(path_data)"
   ]
  },
  {
   "cell_type": "markdown",
   "metadata": {},
   "source": [
    "***"
   ]
  },
  {
   "cell_type": "markdown",
   "metadata": {},
   "source": [
    "### Assess data:\n",
    "In here, we load the credit card data and assess the data for `Quality` and `Tidiness`."
   ]
  },
  {
   "cell_type": "code",
   "execution_count": 65,
   "metadata": {},
   "outputs": [],
   "source": [
    "path_datafile = path_data + '/' + data_file"
   ]
  },
  {
   "cell_type": "code",
   "execution_count": 79,
   "metadata": {},
   "outputs": [
    {
     "data": {
      "text/html": [
       "<div>\n",
       "<style scoped>\n",
       "    .dataframe tbody tr th:only-of-type {\n",
       "        vertical-align: middle;\n",
       "    }\n",
       "\n",
       "    .dataframe tbody tr th {\n",
       "        vertical-align: top;\n",
       "    }\n",
       "\n",
       "    .dataframe thead th {\n",
       "        text-align: right;\n",
       "    }\n",
       "</style>\n",
       "<table border=\"1\" class=\"dataframe\">\n",
       "  <thead>\n",
       "    <tr style=\"text-align: right;\">\n",
       "      <th></th>\n",
       "      <th>0</th>\n",
       "      <th>1</th>\n",
       "      <th>2</th>\n",
       "      <th>3</th>\n",
       "      <th>4</th>\n",
       "      <th>5</th>\n",
       "      <th>6</th>\n",
       "      <th>7</th>\n",
       "      <th>8</th>\n",
       "      <th>9</th>\n",
       "      <th>10</th>\n",
       "      <th>11</th>\n",
       "      <th>12</th>\n",
       "      <th>13</th>\n",
       "      <th>14</th>\n",
       "      <th>15</th>\n",
       "    </tr>\n",
       "  </thead>\n",
       "  <tbody>\n",
       "    <tr>\n",
       "      <th>0</th>\n",
       "      <td>b</td>\n",
       "      <td>30.83</td>\n",
       "      <td>0.000</td>\n",
       "      <td>u</td>\n",
       "      <td>g</td>\n",
       "      <td>w</td>\n",
       "      <td>v</td>\n",
       "      <td>1.25</td>\n",
       "      <td>t</td>\n",
       "      <td>t</td>\n",
       "      <td>1</td>\n",
       "      <td>f</td>\n",
       "      <td>g</td>\n",
       "      <td>00202</td>\n",
       "      <td>0</td>\n",
       "      <td>+</td>\n",
       "    </tr>\n",
       "    <tr>\n",
       "      <th>1</th>\n",
       "      <td>a</td>\n",
       "      <td>58.67</td>\n",
       "      <td>4.460</td>\n",
       "      <td>u</td>\n",
       "      <td>g</td>\n",
       "      <td>q</td>\n",
       "      <td>h</td>\n",
       "      <td>3.04</td>\n",
       "      <td>t</td>\n",
       "      <td>t</td>\n",
       "      <td>6</td>\n",
       "      <td>f</td>\n",
       "      <td>g</td>\n",
       "      <td>00043</td>\n",
       "      <td>560</td>\n",
       "      <td>+</td>\n",
       "    </tr>\n",
       "    <tr>\n",
       "      <th>2</th>\n",
       "      <td>a</td>\n",
       "      <td>24.50</td>\n",
       "      <td>0.500</td>\n",
       "      <td>u</td>\n",
       "      <td>g</td>\n",
       "      <td>q</td>\n",
       "      <td>h</td>\n",
       "      <td>1.50</td>\n",
       "      <td>t</td>\n",
       "      <td>f</td>\n",
       "      <td>0</td>\n",
       "      <td>f</td>\n",
       "      <td>g</td>\n",
       "      <td>00280</td>\n",
       "      <td>824</td>\n",
       "      <td>+</td>\n",
       "    </tr>\n",
       "    <tr>\n",
       "      <th>3</th>\n",
       "      <td>b</td>\n",
       "      <td>27.83</td>\n",
       "      <td>1.540</td>\n",
       "      <td>u</td>\n",
       "      <td>g</td>\n",
       "      <td>w</td>\n",
       "      <td>v</td>\n",
       "      <td>3.75</td>\n",
       "      <td>t</td>\n",
       "      <td>t</td>\n",
       "      <td>5</td>\n",
       "      <td>t</td>\n",
       "      <td>g</td>\n",
       "      <td>00100</td>\n",
       "      <td>3</td>\n",
       "      <td>+</td>\n",
       "    </tr>\n",
       "    <tr>\n",
       "      <th>4</th>\n",
       "      <td>b</td>\n",
       "      <td>20.17</td>\n",
       "      <td>5.625</td>\n",
       "      <td>u</td>\n",
       "      <td>g</td>\n",
       "      <td>w</td>\n",
       "      <td>v</td>\n",
       "      <td>1.71</td>\n",
       "      <td>t</td>\n",
       "      <td>f</td>\n",
       "      <td>0</td>\n",
       "      <td>f</td>\n",
       "      <td>s</td>\n",
       "      <td>00120</td>\n",
       "      <td>0</td>\n",
       "      <td>+</td>\n",
       "    </tr>\n",
       "  </tbody>\n",
       "</table>\n",
       "</div>"
      ],
      "text/plain": [
       "  0      1      2  3  4  5  6     7  8  9   10 11 12     13   14 15\n",
       "0  b  30.83  0.000  u  g  w  v  1.25  t  t   1  f  g  00202    0  +\n",
       "1  a  58.67  4.460  u  g  q  h  3.04  t  t   6  f  g  00043  560  +\n",
       "2  a  24.50  0.500  u  g  q  h  1.50  t  f   0  f  g  00280  824  +\n",
       "3  b  27.83  1.540  u  g  w  v  3.75  t  t   5  t  g  00100    3  +\n",
       "4  b  20.17  5.625  u  g  w  v  1.71  t  f   0  f  s  00120    0  +"
      ]
     },
     "execution_count": 79,
     "metadata": {},
     "output_type": "execute_result"
    }
   ],
   "source": [
    "# Load credit card data into a DataFrame - cc_df  \n",
    "cc_df = load_csv_df(path_datafile)\n",
    "cc_df.head(5)"
   ]
  },
  {
   "cell_type": "code",
   "execution_count": 80,
   "metadata": {},
   "outputs": [
    {
     "data": {
      "text/plain": [
       "(690, 16)"
      ]
     },
     "execution_count": 80,
     "metadata": {},
     "output_type": "execute_result"
    }
   ],
   "source": [
    "cc_df.shape"
   ]
  },
  {
   "cell_type": "markdown",
   "metadata": {},
   "source": [
    "No. of instances and features/attributes exactly match what is given in the details file. So, we can move further into our assessment. "
   ]
  },
  {
   "cell_type": "markdown",
   "metadata": {},
   "source": [
    "As column names provided no additional information in this dataset, we load the dataframe with no header. This means, our column names are simply numbers starting from 0 to 16. A quick google search directed me to a [Credit Card Analysis Page by Ryan Kuhn](http://rstudio-pubs-static.s3.amazonaws.com/73039_9946de135c0a49daa7a0a9eda4a67a72.html), where the author assigned names to the variables. The first 15 variables are the credit application features/attributes. Final, 16th, approved variable is the credit approval status. We are going to use these names as our column names.     "
   ]
  },
  {
   "cell_type": "code",
   "execution_count": 81,
   "metadata": {},
   "outputs": [
    {
     "data": {
      "text/plain": [
       "Int64Index([0, 1, 2, 3, 4, 5, 6, 7, 8, 9, 10, 11, 12, 13, 14, 15], dtype='int64')"
      ]
     },
     "execution_count": 81,
     "metadata": {},
     "output_type": "execute_result"
    }
   ],
   "source": [
    "# Old column names\n",
    "cc_df.columns"
   ]
  },
  {
   "cell_type": "code",
   "execution_count": 91,
   "metadata": {},
   "outputs": [],
   "source": [
    "# Define a list with new column names\n",
    "new_column_names = ['Gender', 'Age', 'Debt', 'Married', 'BankCustomer', 'EducationLevel', 'Ethnicity', 'YearsEmployed', 'PriorDefaulter', 'Employed','CreditScore', 'DriversLicense','Citizen','ZipCode','Income','Approved']\n",
    "cc_df.columns = new_column_names"
   ]
  },
  {
   "cell_type": "markdown",
   "metadata": {},
   "source": [
    "Print information to show connection between column id and column names."
   ]
  },
  {
   "cell_type": "code",
   "execution_count": 92,
   "metadata": {},
   "outputs": [
    {
     "data": {
      "text/html": [
       "<div>\n",
       "<style scoped>\n",
       "    .dataframe tbody tr th:only-of-type {\n",
       "        vertical-align: middle;\n",
       "    }\n",
       "\n",
       "    .dataframe tbody tr th {\n",
       "        vertical-align: top;\n",
       "    }\n",
       "\n",
       "    .dataframe thead th {\n",
       "        text-align: right;\n",
       "    }\n",
       "</style>\n",
       "<table border=\"1\" class=\"dataframe\">\n",
       "  <thead>\n",
       "    <tr style=\"text-align: right;\">\n",
       "      <th></th>\n",
       "      <th>Gender</th>\n",
       "      <th>Age</th>\n",
       "      <th>Debt</th>\n",
       "      <th>Married</th>\n",
       "      <th>BankCustomer</th>\n",
       "      <th>EducationLevel</th>\n",
       "      <th>Ethnicity</th>\n",
       "      <th>YearsEmployed</th>\n",
       "      <th>PriorDefaulter</th>\n",
       "      <th>Employed</th>\n",
       "      <th>CreditScore</th>\n",
       "      <th>DriversLicense</th>\n",
       "      <th>Citizen</th>\n",
       "      <th>ZipCode</th>\n",
       "      <th>Income</th>\n",
       "      <th>Approved</th>\n",
       "    </tr>\n",
       "  </thead>\n",
       "  <tbody>\n",
       "    <tr>\n",
       "      <th>0</th>\n",
       "      <td>b</td>\n",
       "      <td>30.83</td>\n",
       "      <td>0.000</td>\n",
       "      <td>u</td>\n",
       "      <td>g</td>\n",
       "      <td>w</td>\n",
       "      <td>v</td>\n",
       "      <td>1.25</td>\n",
       "      <td>t</td>\n",
       "      <td>t</td>\n",
       "      <td>1</td>\n",
       "      <td>f</td>\n",
       "      <td>g</td>\n",
       "      <td>00202</td>\n",
       "      <td>0</td>\n",
       "      <td>+</td>\n",
       "    </tr>\n",
       "    <tr>\n",
       "      <th>1</th>\n",
       "      <td>a</td>\n",
       "      <td>58.67</td>\n",
       "      <td>4.460</td>\n",
       "      <td>u</td>\n",
       "      <td>g</td>\n",
       "      <td>q</td>\n",
       "      <td>h</td>\n",
       "      <td>3.04</td>\n",
       "      <td>t</td>\n",
       "      <td>t</td>\n",
       "      <td>6</td>\n",
       "      <td>f</td>\n",
       "      <td>g</td>\n",
       "      <td>00043</td>\n",
       "      <td>560</td>\n",
       "      <td>+</td>\n",
       "    </tr>\n",
       "    <tr>\n",
       "      <th>2</th>\n",
       "      <td>a</td>\n",
       "      <td>24.50</td>\n",
       "      <td>0.500</td>\n",
       "      <td>u</td>\n",
       "      <td>g</td>\n",
       "      <td>q</td>\n",
       "      <td>h</td>\n",
       "      <td>1.50</td>\n",
       "      <td>t</td>\n",
       "      <td>f</td>\n",
       "      <td>0</td>\n",
       "      <td>f</td>\n",
       "      <td>g</td>\n",
       "      <td>00280</td>\n",
       "      <td>824</td>\n",
       "      <td>+</td>\n",
       "    </tr>\n",
       "    <tr>\n",
       "      <th>3</th>\n",
       "      <td>b</td>\n",
       "      <td>27.83</td>\n",
       "      <td>1.540</td>\n",
       "      <td>u</td>\n",
       "      <td>g</td>\n",
       "      <td>w</td>\n",
       "      <td>v</td>\n",
       "      <td>3.75</td>\n",
       "      <td>t</td>\n",
       "      <td>t</td>\n",
       "      <td>5</td>\n",
       "      <td>t</td>\n",
       "      <td>g</td>\n",
       "      <td>00100</td>\n",
       "      <td>3</td>\n",
       "      <td>+</td>\n",
       "    </tr>\n",
       "    <tr>\n",
       "      <th>4</th>\n",
       "      <td>b</td>\n",
       "      <td>20.17</td>\n",
       "      <td>5.625</td>\n",
       "      <td>u</td>\n",
       "      <td>g</td>\n",
       "      <td>w</td>\n",
       "      <td>v</td>\n",
       "      <td>1.71</td>\n",
       "      <td>t</td>\n",
       "      <td>f</td>\n",
       "      <td>0</td>\n",
       "      <td>f</td>\n",
       "      <td>s</td>\n",
       "      <td>00120</td>\n",
       "      <td>0</td>\n",
       "      <td>+</td>\n",
       "    </tr>\n",
       "  </tbody>\n",
       "</table>\n",
       "</div>"
      ],
      "text/plain": [
       "  Gender    Age   Debt Married BankCustomer EducationLevel Ethnicity  \\\n",
       "0      b  30.83  0.000       u            g              w         v   \n",
       "1      a  58.67  4.460       u            g              q         h   \n",
       "2      a  24.50  0.500       u            g              q         h   \n",
       "3      b  27.83  1.540       u            g              w         v   \n",
       "4      b  20.17  5.625       u            g              w         v   \n",
       "\n",
       "   YearsEmployed PriorDefaulter Employed  CreditScore DriversLicense Citizen  \\\n",
       "0           1.25              t        t            1              f       g   \n",
       "1           3.04              t        t            6              f       g   \n",
       "2           1.50              t        f            0              f       g   \n",
       "3           3.75              t        t            5              t       g   \n",
       "4           1.71              t        f            0              f       s   \n",
       "\n",
       "  ZipCode  Income Approved  \n",
       "0   00202       0        +  \n",
       "1   00043     560        +  \n",
       "2   00280     824        +  \n",
       "3   00100       3        +  \n",
       "4   00120       0        +  "
      ]
     },
     "execution_count": 92,
     "metadata": {},
     "output_type": "execute_result"
    }
   ],
   "source": [
    "cc_df.head(5)"
   ]
  },
  {
   "cell_type": "code",
   "execution_count": 93,
   "metadata": {},
   "outputs": [],
   "source": [
    "# Saved the names DataFrame into a file\n",
    "cc_df.to_csv('../datasets/crx.data_named.csv')"
   ]
  },
  {
   "cell_type": "code",
   "execution_count": 94,
   "metadata": {},
   "outputs": [
    {
     "name": "stdout",
     "output_type": "stream",
     "text": [
      "Column id:   0 \tName: Gender       \tDataType: object\n",
      "Column id:   1 \tName: Age          \tDataType: object\n",
      "Column id:   2 \tName: Debt         \tDataType: float64\n",
      "Column id:   3 \tName: Married      \tDataType: object\n",
      "Column id:   4 \tName: BankCustomer \tDataType: object\n",
      "Column id:   5 \tName: EducationLevel \tDataType: object\n",
      "Column id:   6 \tName: Ethnicity    \tDataType: object\n",
      "Column id:   7 \tName: YearsEmployed \tDataType: float64\n",
      "Column id:   8 \tName: PriorDefaulter \tDataType: object\n",
      "Column id:   9 \tName: Employed     \tDataType: object\n",
      "Column id:  10 \tName: CreditScore  \tDataType: int64\n",
      "Column id:  11 \tName: DriversLicense \tDataType: object\n",
      "Column id:  12 \tName: Citizen      \tDataType: object\n",
      "Column id:  13 \tName: ZipCode      \tDataType: object\n",
      "Column id:  14 \tName: Income       \tDataType: int64\n",
      "Column id:  15 \tName: Approved     \tDataType: object\n"
     ]
    }
   ],
   "source": [
    "# Show Features and their Data types \n",
    "show_features_datatypes(cc_df)"
   ]
  },
  {
   "cell_type": "code",
   "execution_count": 102,
   "metadata": {},
   "outputs": [
    {
     "name": "stdout",
     "output_type": "stream",
     "text": [
      "There are 0 duplicated rows in the dataset.\n"
     ]
    }
   ],
   "source": [
    "drop_duplicate_rows(cc_df)"
   ]
  },
  {
   "cell_type": "markdown",
   "metadata": {},
   "source": [
    "Let's get an overview of the complete dataframe. "
   ]
  },
  {
   "cell_type": "code",
   "execution_count": 103,
   "metadata": {},
   "outputs": [
    {
     "name": "stdout",
     "output_type": "stream",
     "text": [
      "<class 'pandas.core.frame.DataFrame'>\n",
      "RangeIndex: 690 entries, 0 to 689\n",
      "Data columns (total 16 columns):\n",
      "Gender            690 non-null object\n",
      "Age               690 non-null object\n",
      "Debt              690 non-null float64\n",
      "Married           690 non-null object\n",
      "BankCustomer      690 non-null object\n",
      "EducationLevel    690 non-null object\n",
      "Ethnicity         690 non-null object\n",
      "YearsEmployed     690 non-null float64\n",
      "PriorDefaulter    690 non-null object\n",
      "Employed          690 non-null object\n",
      "CreditScore       690 non-null int64\n",
      "DriversLicense    690 non-null object\n",
      "Citizen           690 non-null object\n",
      "ZipCode           690 non-null object\n",
      "Income            690 non-null int64\n",
      "Approved          690 non-null object\n",
      "dtypes: float64(2), int64(2), object(12)\n",
      "memory usage: 86.4+ KB\n"
     ]
    }
   ],
   "source": [
    "cc_df.info()"
   ]
  },
  {
   "cell_type": "markdown",
   "metadata": {},
   "source": [
    "There are no missing values in any attribute of the dataframe. Features are distributed as below:\n",
    "- 2 Float datatypes\n",
    "- 2 Integer datatypes\n",
    "- 12 Object datatypes"
   ]
  },
  {
   "cell_type": "markdown",
   "metadata": {},
   "source": [
    "Now, let's check each attribute in detail. Details on `Quality` or `Tidiness` issues are documented here. "
   ]
  },
  {
   "cell_type": "code",
   "execution_count": 1,
   "metadata": {},
   "outputs": [],
   "source": [
    "def get_uniquevalues(df, colname):\n",
    "    \"\"\"\n",
    "        Returns a list with all unique values in the column of datafram df\n",
    "    \"\"\"\n",
    "    return list(dict(df[colname].value_counts(ascending=False, dropna=False)).keys())\n",
    "\n",
    "\n",
    "def get_uniquecounts(df, colname):\n",
    "    \"\"\"\n",
    "        Returns a list with all counts of unique values in the column of datafram df\n",
    "    \"\"\"\n",
    "    return list(dict(df[colname].value_counts(ascending=False, dropna=False)).values())"
   ]
  },
  {
   "cell_type": "code",
   "execution_count": 490,
   "metadata": {},
   "outputs": [],
   "source": [
    "# Function to get brief of individual data attribute\n",
    "def show_details(df, colname):\n",
    "    \"\"\"\n",
    "        Function to display all necessary information to fix missing data\n",
    "    \"\"\"\n",
    "    print(' Details of column:',colname)\n",
    "    print('        - datatype:',df[colname].dtypes)\n",
    "    print('        - col.size:',df[colname].shape)\n",
    "    print('        - NaN.vals:',df[colname].isnull().sum())\n",
    "    print('        - uniqvals:',get_uniquevalues(df, colname))\n",
    "    print('        - cnt.vals:',get_uniquecounts(df, colname))"
   ]
  },
  {
   "cell_type": "code",
   "execution_count": 491,
   "metadata": {},
   "outputs": [],
   "source": [
    "# Function to change datatype of a column\n",
    "def change_datatype(df, colname, dtype_new):\n",
    "    \"\"\"\n",
    "        Function to modify data type of a column \n",
    "    \"\"\"\n",
    "    if dtype_new in [object, int, float]:\n",
    "        print(' Details of column:',colname)\n",
    "        print('        - dtype(o):',df[colname].dtypes)\n",
    "        # Change of data type is done here!\n",
    "        df[colname] = df[colname].astype(dtype_new)\n",
    "        print('        - dtype(n):',df[colname].dtypes)\n",
    "    else:\n",
    "        print(' Details of column:',colname)\n",
    "        print('        - >>>Error:',dtype_new) "
   ]
  },
  {
   "cell_type": "code",
   "execution_count": 502,
   "metadata": {},
   "outputs": [],
   "source": [
    "# Function to replace one value with other (according to datatype) in a column \n",
    "def replace_missingvalues(df, colname, old_val):\n",
    "    \"\"\"\n",
    "        Function to replace old_val with new_val (according to datatype) in a column of DataFrame\n",
    "    \"\"\"\n",
    "    if (old_val in df[colname].unique()):\n",
    "        print(' Details of column:',colname)\n",
    "        print('      - uniqval(o):',get_uniquecounts(df, colname))\n",
    "        print('      - cnt.val(o):',get_uniquevalues(df, colname))\n",
    "        \n",
    "        # Replace old_val with new_val in df[colname]\n",
    "        if (df[colname].dtype == object):\n",
    "            new_val = df[colname].value_counts(ascending=False).index[0]\n",
    "        else:\n",
    "            new_val = df[colname].mean()\n",
    "        df[colname].replace(old_val, new_val,inplace=True)       \n",
    "        print('      - uniqval(n):',get_uniquecounts(df, colname))\n",
    "        print('      - cnt.val(n):',get_uniquevalues(df, colname))\n",
    "        \n",
    "    else:\n",
    "        print(' Details of column:',colname)\n",
    "        print('        - >>>Error:',old_val) \n"
   ]
  },
  {
   "cell_type": "markdown",
   "metadata": {},
   "source": [
    "- **Gender** attribute generally spans in Male, Female or Neutral. We can simplify the column data by only considering two options for Gender (either Male of Female). Futher, simplification to numeric is also possible. But, we will leave that task to sklearn.encoders. "
   ]
  },
  {
   "cell_type": "code",
   "execution_count": 476,
   "metadata": {},
   "outputs": [
    {
     "name": "stdout",
     "output_type": "stream",
     "text": [
      " Details of column: Gender\n",
      "        - datatype: object\n",
      "        - col.size: (690,)\n",
      "        - NaN.vals: 0\n",
      "        - uniqvals: ['b', 'a', '?']\n",
      "        - cnt.vals: [468, 210, 12]\n"
     ]
    }
   ],
   "source": [
    "show_details(ccdata, 'Gender')"
   ]
  },
  {
   "cell_type": "code",
   "execution_count": 477,
   "metadata": {},
   "outputs": [
    {
     "name": "stdout",
     "output_type": "stream",
     "text": [
      " Details of column: Gender\n",
      "      - uniqval(o): [468, 210, 12]\n",
      "      - cnt.val(o): ['b', 'a', '?']\n",
      "      - uniqval(o): [480, 210]\n",
      "      - cnt.val(o): ['b', 'a']\n"
     ]
    }
   ],
   "source": [
    "# Replace '?' with max.occurance of Gender - call to replace_missingvalues\n",
    "replace_missingvalues(ccdata, 'Gender', '?')"
   ]
  },
  {
   "cell_type": "code",
   "execution_count": 478,
   "metadata": {},
   "outputs": [
    {
     "name": "stdout",
     "output_type": "stream",
     "text": [
      " Details of column: Gender\n",
      "        - datatype: object\n",
      "        - col.size: (690,)\n",
      "        - NaN.vals: 0\n",
      "        - uniqvals: ['b', 'a']\n",
      "        - cnt.vals: [480, 210]\n"
     ]
    }
   ],
   "source": [
    "show_details(ccdata, 'Gender')"
   ]
  },
  {
   "cell_type": "markdown",
   "metadata": {},
   "source": [
    "- Common sense says that **Age** attribute should be an float datatype. But, looks like it is an Object datatype instead. In Pandas, missing values such as '?' can alter the data type to an object. "
   ]
  },
  {
   "cell_type": "code",
   "execution_count": 493,
   "metadata": {
    "scrolled": true
   },
   "outputs": [
    {
     "name": "stdout",
     "output_type": "stream",
     "text": [
      " Details of column: Age\n",
      "        - datatype: object\n",
      "        - col.size: (690,)\n",
      "        - NaN.vals: 0\n",
      "        - uniqvals: ['?', '22.67', '20.42', '23.58', '22.50', '25.00', '24.50', '18.83', '19.17', '20.67', '27.67', '23.25', '23.00', '27.83', '33.17', '23.08', '32.33', '23.50', '20.00', '26.17', '24.75', '22.92', '27.25', '25.17', '20.75', '34.17', '24.58', '22.08', '25.67', '28.58', '41.17', '29.50', '35.17', '26.67', '19.50', '20.50', '22.17', '21.92', '48.17', '28.17', '29.58', '36.67', '18.17', '28.25', '23.42', '21.08', '23.92', '28.75', '22.25', '25.75', '37.50', '40.92', '24.08', '34.00', '21.17', '28.67', '34.83', '37.33', '17.08', '39.92', '19.67', '20.17', '36.75', '17.92', '39.17', '27.58', '25.25', '34.08', '33.67', '16.33', '36.17', '40.58', '31.25', '20.08', '19.42', '26.75', '19.58', '32.25', '22.75', '29.83', '23.17', '20.83', '18.08', '30.17', '22.58', '21.50', '33.58', '18.58', '23.75', '21.83', '32.00', '64.08', '42.83', '16.92', '44.33', '22.83', '21.25', '19.33', '29.25', '27.42', '29.67', '39.58', '47.42', '17.67', '39.50', '22.00', '21.33', '41.00', '33.25', '41.33', '33.75', '31.08', '28.00', '27.00', '21.67', '32.75', '27.75', '26.92', '35.00', '40.33', '32.42', '48.08', '52.50', '31.67', '41.58', '16.25', '43.25', '21.75', '42.75', '28.92', '37.75', '38.25', '31.83', '34.42', '16.50', '36.33', '44.25', '24.33', '30.67', '31.92', '51.83', '35.25', '29.42', '34.92', '35.75', '32.67', '21.00', '17.58', '15.83', '30.58', '16.00', '34.25', '28.50', '48.75', '39.08', '18.92', '25.08', '34.75', '48.58', '25.33', '22.42', '43.17', '33.08', '16.08', '23.33', '42.00', '25.58', '18.25', '40.83', '32.08', '19.00', '24.42', '24.83', '18.42', '25.42', '57.08', '38.58', '45.00', '38.92', '47.67', '13.75', '56.42', '37.42', '51.58', '47.33', '39.33', '48.25', '43.08', '65.42', '29.92', '22.33', '57.58', '45.33', '18.33', '57.42', '30.00', '36.00', '46.67', '34.58', '38.17', '58.42', '50.75', '31.33', '67.75', '39.25', '60.08', '32.83', '38.75', '74.83', '80.25', '56.58', '36.58', '59.67', '30.08', '30.25', '24.17', '60.58', '37.17', '40.00', '38.42', '15.75', '53.33', '31.75', '42.50', '48.50', '65.17', '27.17', '51.42', '36.50', '33.00', '47.17', '17.83', '45.17', '18.67', '32.17', '18.75', '30.42', '35.58', '26.83', '47.75', '62.50', '51.92', '62.75', '31.42', '53.92', '57.83', '69.50', '41.75', '51.33', '60.92', '46.08', '39.42', '59.50', '44.83', '15.92', '21.42', '73.42', '43.00', '56.50', '38.33', '31.00', '52.42', '55.75', '18.50', '44.00', '28.42', '30.83', '34.67', '49.50', '49.58', '25.92', '40.25', '26.33', '52.83', '26.50', '26.08', '50.08', '36.25', '52.17', '56.00', '33.92', '47.25', '48.33', '17.25', '32.92', '41.42', '55.92', '24.92', '25.50', '68.67', '42.25', '42.17', '26.25', '37.58', '76.75', '47.83', '69.17', '58.33', '15.17', '54.42', '25.83', '29.17', '28.08', '46.00', '49.83', '49.00', '19.75', '27.33', '54.58', '30.33', '47.00', '28.33', '71.58', '39.00', '34.50', '17.42', '17.33', '38.67', '42.08', '36.08', '52.33', '35.42', '36.42', '31.58', '41.50', '41.92', '45.83', '58.67', '56.75', '17.50', '33.50', '54.83', '39.83', '44.17', '30.75', '63.33', '20.33', '29.75', '26.58', '49.17', '30.50', '18.00', '58.58', '16.17', '56.83', '21.58', '20.25', '50.25', '54.33', '26.00']\n",
      "        - cnt.vals: [12, 9, 7, 6, 6, 6, 6, 6, 6, 6, 5, 5, 5, 5, 5, 5, 4, 4, 4, 4, 4, 4, 4, 4, 4, 4, 4, 4, 4, 4, 4, 4, 4, 4, 3, 3, 3, 3, 3, 3, 3, 3, 3, 3, 3, 3, 3, 3, 3, 3, 3, 3, 3, 3, 3, 3, 3, 3, 3, 3, 3, 3, 3, 3, 3, 3, 3, 3, 3, 3, 3, 3, 3, 3, 3, 3, 3, 3, 3, 3, 3, 3, 3, 3, 3, 3, 3, 3, 3, 3, 2, 2, 2, 2, 2, 2, 2, 2, 2, 2, 2, 2, 2, 2, 2, 2, 2, 2, 2, 2, 2, 2, 2, 2, 2, 2, 2, 2, 2, 2, 2, 2, 2, 2, 2, 2, 2, 2, 2, 2, 2, 2, 2, 2, 2, 2, 2, 2, 2, 2, 2, 2, 2, 2, 2, 2, 2, 2, 2, 2, 2, 2, 2, 2, 2, 2, 2, 2, 2, 2, 2, 2, 2, 2, 2, 2, 2, 2, 2, 2, 2, 2, 2, 2, 2, 2, 2, 2, 2, 2, 1, 1, 1, 1, 1, 1, 1, 1, 1, 1, 1, 1, 1, 1, 1, 1, 1, 1, 1, 1, 1, 1, 1, 1, 1, 1, 1, 1, 1, 1, 1, 1, 1, 1, 1, 1, 1, 1, 1, 1, 1, 1, 1, 1, 1, 1, 1, 1, 1, 1, 1, 1, 1, 1, 1, 1, 1, 1, 1, 1, 1, 1, 1, 1, 1, 1, 1, 1, 1, 1, 1, 1, 1, 1, 1, 1, 1, 1, 1, 1, 1, 1, 1, 1, 1, 1, 1, 1, 1, 1, 1, 1, 1, 1, 1, 1, 1, 1, 1, 1, 1, 1, 1, 1, 1, 1, 1, 1, 1, 1, 1, 1, 1, 1, 1, 1, 1, 1, 1, 1, 1, 1, 1, 1, 1, 1, 1, 1, 1, 1, 1, 1, 1, 1, 1, 1, 1, 1, 1, 1, 1, 1, 1, 1, 1, 1, 1, 1, 1, 1, 1, 1, 1, 1, 1, 1, 1, 1, 1, 1, 1, 1, 1, 1, 1, 1, 1, 1, 1, 1]\n"
     ]
    }
   ],
   "source": [
    "detail_datacolumn(ccdata, 'Age')"
   ]
  },
  {
   "cell_type": "code",
   "execution_count": 495,
   "metadata": {
    "scrolled": true
   },
   "outputs": [
    {
     "name": "stdout",
     "output_type": "stream",
     "text": [
      " Details of column: Age\n",
      "        - dtype(o): object\n",
      "        - dtype(n): float64\n",
      " Details of column: Age\n",
      "      - uniqval(o): [12, 9, 7, 6, 6, 6, 6, 6, 6, 6, 5, 5, 5, 5, 5, 5, 4, 4, 4, 4, 4, 4, 4, 4, 4, 4, 4, 4, 4, 4, 4, 4, 4, 4, 3, 3, 3, 3, 3, 3, 3, 3, 3, 3, 3, 3, 3, 3, 3, 3, 3, 3, 3, 3, 3, 3, 3, 3, 3, 3, 3, 3, 3, 3, 3, 3, 3, 3, 3, 3, 3, 3, 3, 3, 3, 3, 3, 3, 3, 3, 3, 3, 3, 3, 3, 3, 3, 3, 3, 3, 2, 2, 2, 2, 2, 2, 2, 2, 2, 2, 2, 2, 2, 2, 2, 2, 2, 2, 2, 2, 2, 2, 2, 2, 2, 2, 2, 2, 2, 2, 2, 2, 2, 2, 2, 2, 2, 2, 2, 2, 2, 2, 2, 2, 2, 2, 2, 2, 2, 2, 2, 2, 2, 2, 2, 2, 2, 2, 2, 2, 2, 2, 2, 2, 2, 2, 2, 2, 2, 2, 2, 2, 2, 2, 2, 2, 2, 2, 2, 2, 2, 2, 2, 2, 2, 2, 2, 2, 2, 2, 1, 1, 1, 1, 1, 1, 1, 1, 1, 1, 1, 1, 1, 1, 1, 1, 1, 1, 1, 1, 1, 1, 1, 1, 1, 1, 1, 1, 1, 1, 1, 1, 1, 1, 1, 1, 1, 1, 1, 1, 1, 1, 1, 1, 1, 1, 1, 1, 1, 1, 1, 1, 1, 1, 1, 1, 1, 1, 1, 1, 1, 1, 1, 1, 1, 1, 1, 1, 1, 1, 1, 1, 1, 1, 1, 1, 1, 1, 1, 1, 1, 1, 1, 1, 1, 1, 1, 1, 1, 1, 1, 1, 1, 1, 1, 1, 1, 1, 1, 1, 1, 1, 1, 1, 1, 1, 1, 1, 1, 1, 1, 1, 1, 1, 1, 1, 1, 1, 1, 1, 1, 1, 1, 1, 1, 1, 1, 1, 1, 1, 1, 1, 1, 1, 1, 1, 1, 1, 1, 1, 1, 1, 1, 1, 1, 1, 1, 1, 1, 1, 1, 1, 1, 1, 1, 1, 1, 1, 1, 1, 1, 1, 1, 1, 1, 1, 1, 1, 1, 1]\n",
      "      - cnt.val(o): [0.0, 22.67, 20.42, 24.5, 22.5, 25.0, 18.83, 23.58, 20.67, 19.17, 27.67, 27.83, 33.17, 23.25, 23.08, 23.0, 26.17, 28.58, 32.33, 27.25, 24.58, 25.17, 35.17, 26.67, 41.17, 20.0, 25.67, 22.92, 23.5, 24.75, 22.08, 20.75, 34.17, 29.5, 18.58, 29.58, 19.42, 20.83, 28.17, 21.83, 17.92, 22.17, 36.75, 36.17, 16.33, 32.25, 34.83, 23.92, 39.17, 19.58, 20.5, 28.25, 36.67, 25.75, 21.5, 34.0, 28.75, 37.5, 22.75, 31.25, 20.17, 25.25, 27.58, 26.75, 19.5, 22.25, 23.75, 30.17, 18.17, 40.58, 19.67, 37.33, 28.67, 21.17, 21.92, 20.08, 48.17, 29.83, 17.08, 39.92, 18.08, 40.92, 23.17, 22.58, 33.67, 34.08, 24.08, 33.58, 23.42, 21.08, 31.08, 48.58, 25.08, 25.58, 39.5, 31.67, 45.0, 16.25, 39.08, 31.83, 36.33, 21.75, 21.25, 47.42, 27.0, 29.67, 32.0, 48.08, 27.42, 17.58, 28.0, 16.5, 19.0, 64.08, 34.92, 44.33, 24.42, 24.83, 17.67, 25.33, 38.92, 16.08, 30.67, 22.0, 32.67, 21.0, 34.42, 15.83, 18.25, 21.33, 18.42, 35.0, 26.92, 38.58, 23.33, 25.42, 16.0, 40.33, 19.33, 51.83, 21.67, 38.25, 22.42, 39.58, 28.5, 29.25, 35.75, 33.25, 42.0, 34.75, 42.75, 29.42, 18.92, 40.83, 42.83, 33.08, 16.92, 27.75, 31.92, 47.67, 41.0, 30.58, 28.92, 24.33, 44.25, 37.75, 57.08, 22.83, 32.42, 41.33, 35.25, 33.75, 32.08, 43.25, 34.25, 32.75, 52.5, 48.75, 43.17, 41.58, 39.0, 15.92, 29.75, 42.5, 38.33, 47.83, 26.5, 21.42, 36.5, 51.42, 56.58, 36.42, 17.42, 49.5, 13.75, 46.0, 20.25, 30.0, 59.5, 21.58, 48.5, 17.25, 15.75, 47.0, 37.42, 56.5, 36.0, 34.67, 34.5, 30.08, 18.5, 18.75, 29.92, 54.83, 33.5, 57.58, 19.75, 31.0, 40.0, 56.0, 41.42, 16.17, 30.83, 44.0, 30.5, 18.0, 26.33, 62.5, 49.0, 41.5, 26.25, 33.0, 30.25, 47.33, 26.0, 43.0, 30.75, 25.5, 49.58, 39.42, 17.5, 46.67, 60.08, 31.75, 32.17, 54.33, 74.83, 60.92, 40.25, 48.25, 41.75, 27.17, 36.25, 58.67, 56.75, 58.33, 25.92, 47.75, 76.75, 53.33, 27.33, 73.42, 36.08, 30.42, 37.17, 24.17, 39.83, 53.92, 24.92, 52.17, 56.42, 50.75, 22.33, 37.58, 41.92, 32.92, 48.33, 26.58, 35.42, 35.58, 52.42, 69.17, 57.83, 45.17, 63.33, 51.58, 62.75, 42.17, 47.17, 36.58, 50.25, 38.75, 42.25, 55.75, 39.25, 47.25, 69.5, 54.58, 31.33, 49.83, 55.92, 57.42, 80.25, 58.42, 45.83, 29.17, 31.42, 44.17, 45.33, 58.58, 25.83, 18.33, 68.67, 38.67, 39.33, 38.17, 42.08, 52.33, 59.67, 43.08, 28.08, 49.17, 51.92, 71.58, 52.83, 28.33, 32.83, 26.83, 67.75, 51.33, 38.42, 30.33, 15.17, 65.42, 33.92, 65.17, 54.42, 26.08, 46.08, 28.42, 56.83, 18.67, 31.58, 17.33, 17.83, 44.83, 60.58, 50.08, 34.58, 20.33]\n",
      "      - uniqval(o): [12, 9, 7, 6, 6, 6, 6, 6, 6, 6, 5, 5, 5, 5, 5, 5, 4, 4, 4, 4, 4, 4, 4, 4, 4, 4, 4, 4, 4, 4, 4, 4, 4, 4, 3, 3, 3, 3, 3, 3, 3, 3, 3, 3, 3, 3, 3, 3, 3, 3, 3, 3, 3, 3, 3, 3, 3, 3, 3, 3, 3, 3, 3, 3, 3, 3, 3, 3, 3, 3, 3, 3, 3, 3, 3, 3, 3, 3, 3, 3, 3, 3, 3, 3, 3, 3, 3, 3, 3, 3, 2, 2, 2, 2, 2, 2, 2, 2, 2, 2, 2, 2, 2, 2, 2, 2, 2, 2, 2, 2, 2, 2, 2, 2, 2, 2, 2, 2, 2, 2, 2, 2, 2, 2, 2, 2, 2, 2, 2, 2, 2, 2, 2, 2, 2, 2, 2, 2, 2, 2, 2, 2, 2, 2, 2, 2, 2, 2, 2, 2, 2, 2, 2, 2, 2, 2, 2, 2, 2, 2, 2, 2, 2, 2, 2, 2, 2, 2, 2, 2, 2, 2, 2, 2, 2, 2, 2, 2, 2, 2, 1, 1, 1, 1, 1, 1, 1, 1, 1, 1, 1, 1, 1, 1, 1, 1, 1, 1, 1, 1, 1, 1, 1, 1, 1, 1, 1, 1, 1, 1, 1, 1, 1, 1, 1, 1, 1, 1, 1, 1, 1, 1, 1, 1, 1, 1, 1, 1, 1, 1, 1, 1, 1, 1, 1, 1, 1, 1, 1, 1, 1, 1, 1, 1, 1, 1, 1, 1, 1, 1, 1, 1, 1, 1, 1, 1, 1, 1, 1, 1, 1, 1, 1, 1, 1, 1, 1, 1, 1, 1, 1, 1, 1, 1, 1, 1, 1, 1, 1, 1, 1, 1, 1, 1, 1, 1, 1, 1, 1, 1, 1, 1, 1, 1, 1, 1, 1, 1, 1, 1, 1, 1, 1, 1, 1, 1, 1, 1, 1, 1, 1, 1, 1, 1, 1, 1, 1, 1, 1, 1, 1, 1, 1, 1, 1, 1, 1, 1, 1, 1, 1, 1, 1, 1, 1, 1, 1, 1, 1, 1, 1, 1, 1, 1, 1, 1, 1, 1, 1, 1]\n",
      "      - cnt.val(o): [31.019159420289856, 22.67, 20.42, 24.5, 22.5, 25.0, 18.83, 20.67, 23.58, 19.17, 27.67, 27.83, 33.17, 23.25, 23.08, 23.0, 25.17, 35.17, 34.17, 41.17, 28.58, 26.17, 32.33, 27.25, 24.58, 26.67, 29.5, 23.5, 20.75, 25.67, 20.0, 22.92, 24.75, 22.08, 36.75, 20.83, 29.58, 18.58, 19.42, 32.25, 21.83, 36.17, 17.92, 16.33, 22.17, 34.83, 23.92, 28.17, 39.17, 19.58, 20.5, 28.25, 36.67, 25.75, 21.5, 34.0, 28.75, 37.5, 22.75, 31.25, 20.17, 25.25, 27.58, 26.75, 19.5, 22.25, 23.75, 30.17, 18.17, 40.58, 19.67, 37.33, 28.67, 21.17, 21.92, 18.08, 40.92, 21.08, 29.83, 33.58, 23.42, 24.08, 34.08, 39.92, 17.08, 48.17, 20.08, 33.67, 22.58, 23.17, 31.67, 39.08, 39.5, 25.08, 48.58, 31.08, 45.0, 16.25, 25.58, 36.33, 21.75, 31.83, 47.42, 21.25, 29.67, 27.0, 48.08, 27.42, 17.58, 32.0, 28.0, 16.5, 51.83, 18.25, 34.92, 44.33, 24.42, 24.83, 17.67, 25.33, 38.92, 16.08, 30.67, 22.0, 32.67, 21.0, 34.42, 15.83, 64.08, 21.33, 18.42, 35.0, 26.92, 38.58, 23.33, 25.42, 19.33, 16.0, 40.33, 21.67, 19.0, 38.25, 22.42, 34.75, 42.0, 28.92, 47.67, 28.5, 29.25, 35.75, 33.25, 31.92, 39.58, 48.75, 27.75, 42.75, 29.42, 16.92, 40.83, 18.92, 33.08, 52.5, 41.0, 57.08, 32.42, 34.25, 24.33, 41.33, 43.25, 30.58, 43.17, 32.75, 42.83, 44.25, 35.25, 33.75, 32.08, 22.83, 37.75, 41.58, 15.92, 26.5, 34.67, 21.42, 51.42, 39.0, 17.42, 56.58, 43.0, 49.5, 15.75, 47.83, 42.5, 38.33, 36.42, 37.42, 47.0, 36.5, 13.75, 48.5, 21.58, 59.5, 30.0, 20.25, 46.0, 29.75, 36.0, 17.25, 19.75, 18.0, 54.83, 18.5, 29.92, 18.75, 33.5, 57.58, 34.5, 47.33, 40.0, 56.0, 41.42, 16.17, 30.83, 44.0, 56.5, 30.08, 62.5, 31.75, 49.0, 41.5, 31.0, 26.25, 33.0, 30.25, 26.0, 30.5, 25.5, 49.58, 30.75, 39.42, 26.33, 17.5, 60.08, 46.67, 32.17, 54.33, 74.83, 60.92, 40.25, 48.25, 41.75, 27.17, 36.25, 58.67, 56.75, 58.33, 25.92, 47.75, 76.75, 53.33, 27.33, 73.42, 36.08, 30.42, 37.17, 24.17, 39.83, 53.92, 24.92, 52.17, 56.42, 50.75, 22.33, 37.58, 41.92, 32.92, 48.33, 26.58, 35.42, 35.58, 52.42, 69.17, 57.83, 45.17, 63.33, 51.58, 62.75, 42.17, 47.17, 36.58, 50.25, 38.75, 42.25, 55.75, 39.25, 47.25, 69.5, 54.58, 31.33, 49.83, 55.92, 57.42, 80.25, 58.42, 45.83, 29.17, 31.42, 44.17, 45.33, 58.58, 25.83, 18.33, 68.67, 38.67, 39.33, 38.17, 42.08, 52.33, 59.67, 43.08, 28.08, 49.17, 51.92, 71.58, 52.83, 28.33, 32.83, 26.83, 67.75, 51.33, 38.42, 30.33, 15.17, 65.42, 33.92, 65.17, 54.42, 26.08, 46.08, 28.42, 56.83, 18.67, 31.58, 17.33, 17.83, 44.83, 60.58, 50.08, 34.58, 20.33]\n"
     ]
    }
   ],
   "source": [
    "# Replace '?' with mean age of applicants in the dataset & change datatype to integer\n",
    "ccdata.Age.replace('?', 0.0, inplace=True)\n",
    "modify_datatype(ccdata, 'Age', float)\n",
    "replace_missingvalues(ccdata, 'Age', 0.0)"
   ]
  },
  {
   "cell_type": "code",
   "execution_count": 496,
   "metadata": {
    "scrolled": true
   },
   "outputs": [
    {
     "name": "stdout",
     "output_type": "stream",
     "text": [
      " Details of column: Age\n",
      "        - datatype: float64\n",
      "        - col.size: (690,)\n",
      "        - NaN.vals: 0\n",
      "        - uniqvals: [31.019159420289856, 22.67, 20.42, 24.5, 22.5, 25.0, 18.83, 20.67, 23.58, 19.17, 27.67, 27.83, 33.17, 23.25, 23.08, 23.0, 25.17, 35.17, 34.17, 41.17, 28.58, 26.17, 32.33, 27.25, 24.58, 26.67, 29.5, 23.5, 20.75, 25.67, 20.0, 22.92, 24.75, 22.08, 36.75, 20.83, 29.58, 18.58, 19.42, 32.25, 21.83, 36.17, 17.92, 16.33, 22.17, 34.83, 23.92, 28.17, 39.17, 19.58, 20.5, 28.25, 36.67, 25.75, 21.5, 34.0, 28.75, 37.5, 22.75, 31.25, 20.17, 25.25, 27.58, 26.75, 19.5, 22.25, 23.75, 30.17, 18.17, 40.58, 19.67, 37.33, 28.67, 21.17, 21.92, 18.08, 40.92, 21.08, 29.83, 33.58, 23.42, 24.08, 34.08, 39.92, 17.08, 48.17, 20.08, 33.67, 22.58, 23.17, 31.67, 39.08, 39.5, 25.08, 48.58, 31.08, 45.0, 16.25, 25.58, 36.33, 21.75, 31.83, 47.42, 21.25, 29.67, 27.0, 48.08, 27.42, 17.58, 32.0, 28.0, 16.5, 51.83, 18.25, 34.92, 44.33, 24.42, 24.83, 17.67, 25.33, 38.92, 16.08, 30.67, 22.0, 32.67, 21.0, 34.42, 15.83, 64.08, 21.33, 18.42, 35.0, 26.92, 38.58, 23.33, 25.42, 19.33, 16.0, 40.33, 21.67, 19.0, 38.25, 22.42, 34.75, 42.0, 28.92, 47.67, 28.5, 29.25, 35.75, 33.25, 31.92, 39.58, 48.75, 27.75, 42.75, 29.42, 16.92, 40.83, 18.92, 33.08, 52.5, 41.0, 57.08, 32.42, 34.25, 24.33, 41.33, 43.25, 30.58, 43.17, 32.75, 42.83, 44.25, 35.25, 33.75, 32.08, 22.83, 37.75, 41.58, 15.92, 26.5, 34.67, 21.42, 51.42, 39.0, 17.42, 56.58, 43.0, 49.5, 15.75, 47.83, 42.5, 38.33, 36.42, 37.42, 47.0, 36.5, 13.75, 48.5, 21.58, 59.5, 30.0, 20.25, 46.0, 29.75, 36.0, 17.25, 19.75, 18.0, 54.83, 18.5, 29.92, 18.75, 33.5, 57.58, 34.5, 47.33, 40.0, 56.0, 41.42, 16.17, 30.83, 44.0, 56.5, 30.08, 62.5, 31.75, 49.0, 41.5, 31.0, 26.25, 33.0, 30.25, 26.0, 30.5, 25.5, 49.58, 30.75, 39.42, 26.33, 17.5, 60.08, 46.67, 32.17, 54.33, 74.83, 60.92, 40.25, 48.25, 41.75, 27.17, 36.25, 58.67, 56.75, 58.33, 25.92, 47.75, 76.75, 53.33, 27.33, 73.42, 36.08, 30.42, 37.17, 24.17, 39.83, 53.92, 24.92, 52.17, 56.42, 50.75, 22.33, 37.58, 41.92, 32.92, 48.33, 26.58, 35.42, 35.58, 52.42, 69.17, 57.83, 45.17, 63.33, 51.58, 62.75, 42.17, 47.17, 36.58, 50.25, 38.75, 42.25, 55.75, 39.25, 47.25, 69.5, 54.58, 31.33, 49.83, 55.92, 57.42, 80.25, 58.42, 45.83, 29.17, 31.42, 44.17, 45.33, 58.58, 25.83, 18.33, 68.67, 38.67, 39.33, 38.17, 42.08, 52.33, 59.67, 43.08, 28.08, 49.17, 51.92, 71.58, 52.83, 28.33, 32.83, 26.83, 67.75, 51.33, 38.42, 30.33, 15.17, 65.42, 33.92, 65.17, 54.42, 26.08, 46.08, 28.42, 56.83, 18.67, 31.58, 17.33, 17.83, 44.83, 60.58, 50.08, 34.58, 20.33]\n",
      "        - cnt.vals: [12, 9, 7, 6, 6, 6, 6, 6, 6, 6, 5, 5, 5, 5, 5, 5, 4, 4, 4, 4, 4, 4, 4, 4, 4, 4, 4, 4, 4, 4, 4, 4, 4, 4, 3, 3, 3, 3, 3, 3, 3, 3, 3, 3, 3, 3, 3, 3, 3, 3, 3, 3, 3, 3, 3, 3, 3, 3, 3, 3, 3, 3, 3, 3, 3, 3, 3, 3, 3, 3, 3, 3, 3, 3, 3, 3, 3, 3, 3, 3, 3, 3, 3, 3, 3, 3, 3, 3, 3, 3, 2, 2, 2, 2, 2, 2, 2, 2, 2, 2, 2, 2, 2, 2, 2, 2, 2, 2, 2, 2, 2, 2, 2, 2, 2, 2, 2, 2, 2, 2, 2, 2, 2, 2, 2, 2, 2, 2, 2, 2, 2, 2, 2, 2, 2, 2, 2, 2, 2, 2, 2, 2, 2, 2, 2, 2, 2, 2, 2, 2, 2, 2, 2, 2, 2, 2, 2, 2, 2, 2, 2, 2, 2, 2, 2, 2, 2, 2, 2, 2, 2, 2, 2, 2, 2, 2, 2, 2, 2, 2, 1, 1, 1, 1, 1, 1, 1, 1, 1, 1, 1, 1, 1, 1, 1, 1, 1, 1, 1, 1, 1, 1, 1, 1, 1, 1, 1, 1, 1, 1, 1, 1, 1, 1, 1, 1, 1, 1, 1, 1, 1, 1, 1, 1, 1, 1, 1, 1, 1, 1, 1, 1, 1, 1, 1, 1, 1, 1, 1, 1, 1, 1, 1, 1, 1, 1, 1, 1, 1, 1, 1, 1, 1, 1, 1, 1, 1, 1, 1, 1, 1, 1, 1, 1, 1, 1, 1, 1, 1, 1, 1, 1, 1, 1, 1, 1, 1, 1, 1, 1, 1, 1, 1, 1, 1, 1, 1, 1, 1, 1, 1, 1, 1, 1, 1, 1, 1, 1, 1, 1, 1, 1, 1, 1, 1, 1, 1, 1, 1, 1, 1, 1, 1, 1, 1, 1, 1, 1, 1, 1, 1, 1, 1, 1, 1, 1, 1, 1, 1, 1, 1, 1, 1, 1, 1, 1, 1, 1, 1, 1, 1, 1, 1, 1, 1, 1, 1, 1, 1, 1]\n"
     ]
    }
   ],
   "source": [
    "show_details(ccdata, 'Age')"
   ]
  },
  {
   "cell_type": "markdown",
   "metadata": {},
   "source": [
    "- **Debt** should also be a float. Let's see if there are any missing values in that column."
   ]
  },
  {
   "cell_type": "code",
   "execution_count": 497,
   "metadata": {},
   "outputs": [
    {
     "name": "stdout",
     "output_type": "stream",
     "text": [
      " Details of column: Debt\n",
      "        - datatype: float64\n",
      "        - col.size: (690,)\n",
      "        - NaN.vals: 0\n",
      "        - uniqvals: [1.5, 0.0, 3.0, 2.5, 1.25, 0.75, 0.5, 5.0, 4.0, 1.75, 6.5, 2.0, 10.0, 1.0, 0.585, 0.375, 11.0, 3.5, 0.54, 7.0, 12.5, 0.835, 0.165, 11.5, 5.5, 9.0, 2.75, 4.25, 15.0, 1.54, 6.0, 0.335, 0.875, 0.29, 0.25, 1.04, 2.04, 4.5, 10.5, 12.0, 0.125, 8.5, 9.5, 0.04, 3.75, 2.25, 2.54, 1.125, 1.835, 0.415, 0.46, 0.79, 1.665, 0.665, 3.165, 7.5, 2.71, 1.585, 3.25, 4.46, 4.415, 1.335, 0.205, 14.5, 1.085, 2.335, 9.25, 13.0, 2.415, 1.625, 13.5, 11.25, 0.625, 1.71, 0.83, 0.21, 8.0, 5.085, 0.42, 5.875, 14.0, 2.165, 7.625, 2.875, 3.125, 10.125, 10.25, 5.125, 1.165, 4.625, 19.5, 11.75, 6.75, 19.0, 12.75, 15.5, 1.375, 16.5, 9.54, 2.29, 5.29, 2.085, 5.04, 3.29, 4.085, 3.54, 0.58, 3.04, 4.04, 6.21, 4.71, 12.54, 16.165, 4.79, 1.21, 9.75, 6.04, 25.085, 0.17, 2.46, 4.165, 13.665, 14.79, 12.25, 0.67, 8.585, 6.665, 11.585, 11.665, 2.835, 26.335, 25.21, 9.96, 11.045, 5.625, 9.335, 3.085, 22.29, 11.46, 0.705, 7.04, 9.415, 13.335, 1.46, 4.585, 10.335, 9.585, 18.5, 10.415, 5.665, 10.75, 10.085, 8.665, 8.17, 28.0, 7.08, 1.79, 11.625, 5.835, 18.125, 0.08, 4.125, 17.75, 20.0, 5.25, 4.75, 6.165, 10.29, 3.625, 7.25, 3.375, 3.79, 10.21, 0.085, 7.835, 5.71, 10.665, 1.08, 2.21, 0.915, 10.04, 3.335, 1.29, 7.54, 7.585, 0.96, 8.125, 12.33, 9.17, 6.625, 16.0, 25.125, 13.585, 9.79, 1.415, 8.46, 0.71, 14.585, 5.415, 11.835, 2.125, 9.625, 4.915, 13.75, 21.0, 12.335, 21.5, 11.125, 12.625, 2.665, 12.125, 13.915, 22.0, 12.835, 10.915]\n",
      "        - cnt.vals: [21, 19, 19, 19, 16, 16, 15, 14, 12, 12, 12, 10, 10, 10, 10, 9, 9, 8, 8, 8, 8, 8, 8, 8, 8, 7, 7, 6, 6, 6, 6, 6, 6, 6, 6, 6, 6, 5, 5, 5, 5, 5, 5, 5, 5, 5, 4, 4, 4, 4, 4, 4, 4, 4, 4, 4, 4, 4, 3, 3, 3, 3, 3, 3, 3, 3, 3, 3, 3, 3, 3, 3, 3, 3, 3, 3, 2, 2, 2, 2, 2, 2, 2, 2, 2, 2, 2, 2, 2, 2, 2, 2, 2, 2, 2, 2, 2, 2, 2, 2, 2, 2, 2, 2, 2, 2, 2, 2, 2, 1, 1, 1, 1, 1, 1, 1, 1, 1, 1, 1, 1, 1, 1, 1, 1, 1, 1, 1, 1, 1, 1, 1, 1, 1, 1, 1, 1, 1, 1, 1, 1, 1, 1, 1, 1, 1, 1, 1, 1, 1, 1, 1, 1, 1, 1, 1, 1, 1, 1, 1, 1, 1, 1, 1, 1, 1, 1, 1, 1, 1, 1, 1, 1, 1, 1, 1, 1, 1, 1, 1, 1, 1, 1, 1, 1, 1, 1, 1, 1, 1, 1, 1, 1, 1, 1, 1, 1, 1, 1, 1, 1, 1, 1, 1, 1, 1, 1, 1, 1, 1, 1, 1, 1, 1, 1]\n"
     ]
    }
   ],
   "source": [
    "show_details(ccdata, 'Debt')"
   ]
  },
  {
   "cell_type": "markdown",
   "metadata": {},
   "source": [
    "Looks like there are no missing values. Running a quick description tells us that the debt information must have been in the order of thousands. "
   ]
  },
  {
   "cell_type": "code",
   "execution_count": 498,
   "metadata": {},
   "outputs": [
    {
     "data": {
      "text/plain": [
       "count    690.000000\n",
       "mean       4.758725\n",
       "std        4.978163\n",
       "min        0.000000\n",
       "25%        1.000000\n",
       "50%        2.750000\n",
       "75%        7.207500\n",
       "max       28.000000\n",
       "Name: Debt, dtype: float64"
      ]
     },
     "execution_count": 498,
     "metadata": {},
     "output_type": "execute_result"
    }
   ],
   "source": [
    "ccdata.Debt.describe()"
   ]
  },
  {
   "cell_type": "markdown",
   "metadata": {},
   "source": [
    "- **Marriage** attribute should reflect the marital status of the applicant."
   ]
  },
  {
   "cell_type": "code",
   "execution_count": 499,
   "metadata": {},
   "outputs": [
    {
     "name": "stdout",
     "output_type": "stream",
     "text": [
      " Details of column: Married\n",
      "        - datatype: object\n",
      "        - col.size: (690,)\n",
      "        - NaN.vals: 0\n",
      "        - uniqvals: ['u', 'y', '?', 'l']\n",
      "        - cnt.vals: [519, 163, 6, 2]\n"
     ]
    }
   ],
   "source": [
    "show_details(ccdata, 'Married')"
   ]
  },
  {
   "cell_type": "code",
   "execution_count": 500,
   "metadata": {},
   "outputs": [
    {
     "name": "stdout",
     "output_type": "stream",
     "text": [
      " Details of column: Married\n",
      "        - dtype(o): object\n",
      "        - dtype(n): object\n",
      " Details of column: Married\n",
      "      - uniqval(o): [519, 163, 6, 2]\n",
      "      - cnt.val(o): ['u', 'y', '?', 'l']\n",
      "      - uniqval(o): [525, 163, 2]\n",
      "      - cnt.val(o): ['u', 'y', 'l']\n"
     ]
    }
   ],
   "source": [
    "# Change Married datatype from int to object and fix ?\n",
    "modify_datatype(ccdata, 'Married', object)\n",
    "replace_missingvalues(ccdata, 'Married', '?')"
   ]
  },
  {
   "cell_type": "code",
   "execution_count": 501,
   "metadata": {},
   "outputs": [
    {
     "name": "stdout",
     "output_type": "stream",
     "text": [
      " Details of column: Married\n",
      "        - datatype: object\n",
      "        - col.size: (690,)\n",
      "        - NaN.vals: 0\n",
      "        - uniqvals: ['u', 'y', 'l']\n",
      "        - cnt.vals: [525, 163, 2]\n"
     ]
    }
   ],
   "source": [
    "show_details(ccdata, 'Married')"
   ]
  },
  {
   "cell_type": "markdown",
   "metadata": {},
   "source": [
    "- **BankCustomer** attribute should be a simple yes, no or maybe type answer. Let's see."
   ]
  },
  {
   "cell_type": "code",
   "execution_count": 503,
   "metadata": {},
   "outputs": [
    {
     "name": "stdout",
     "output_type": "stream",
     "text": [
      " Details of column: BankCustomer\n",
      "        - datatype: object\n",
      "        - col.size: (690,)\n",
      "        - NaN.vals: 0\n",
      "        - uniqvals: ['g', 'p', '?', 'gg']\n",
      "        - cnt.vals: [519, 163, 6, 2]\n"
     ]
    }
   ],
   "source": [
    "show_details(ccdata, 'BankCustomer')"
   ]
  },
  {
   "cell_type": "code",
   "execution_count": 504,
   "metadata": {},
   "outputs": [
    {
     "name": "stdout",
     "output_type": "stream",
     "text": [
      " Details of column: BankCustomer\n",
      "      - uniqval(o): [519, 163, 6, 2]\n",
      "      - cnt.val(o): ['g', 'p', '?', 'gg']\n",
      "      - uniqval(n): [525, 163, 2]\n",
      "      - cnt.val(n): ['g', 'p', 'gg']\n"
     ]
    }
   ],
   "source": [
    "# fix '?' missing data in BankCustomer column\n",
    "replace_missingvalues(ccdata, 'BankCustomer', '?')"
   ]
  },
  {
   "cell_type": "code",
   "execution_count": 505,
   "metadata": {},
   "outputs": [
    {
     "name": "stdout",
     "output_type": "stream",
     "text": [
      " Details of column: BankCustomer\n",
      "        - datatype: object\n",
      "        - col.size: (690,)\n",
      "        - NaN.vals: 0\n",
      "        - uniqvals: ['g', 'p', 'gg']\n",
      "        - cnt.vals: [525, 163, 2]\n"
     ]
    }
   ],
   "source": [
    "show_details(ccdata, 'BankCustomer')"
   ]
  },
  {
   "cell_type": "markdown",
   "metadata": {},
   "source": [
    "- **EducationLevel** attribute is definitely a categorical variable. But, let's see how many missing values it carries. "
   ]
  },
  {
   "cell_type": "code",
   "execution_count": 506,
   "metadata": {},
   "outputs": [
    {
     "name": "stdout",
     "output_type": "stream",
     "text": [
      " Details of column: EducationLevel\n",
      "        - datatype: object\n",
      "        - col.size: (690,)\n",
      "        - NaN.vals: 0\n",
      "        - uniqvals: ['c', 'q', 'w', 'i', 'aa', 'ff', 'k', 'cc', 'x', 'm', 'd', 'e', 'j', '?', 'r']\n",
      "        - cnt.vals: [137, 78, 64, 59, 54, 53, 51, 41, 38, 38, 30, 25, 10, 9, 3]\n"
     ]
    }
   ],
   "source": [
    "show_details(ccdata, 'EducationLevel')"
   ]
  },
  {
   "cell_type": "code",
   "execution_count": 507,
   "metadata": {},
   "outputs": [
    {
     "name": "stdout",
     "output_type": "stream",
     "text": [
      " Details of column: EducationLevel\n",
      "      - uniqval(o): [137, 78, 64, 59, 54, 53, 51, 41, 38, 38, 30, 25, 10, 9, 3]\n",
      "      - cnt.val(o): ['c', 'q', 'w', 'i', 'aa', 'ff', 'k', 'cc', 'x', 'm', 'd', 'e', 'j', '?', 'r']\n",
      "      - uniqval(n): [146, 78, 64, 59, 54, 53, 51, 41, 38, 38, 30, 25, 10, 3]\n",
      "      - cnt.val(n): ['c', 'q', 'w', 'i', 'aa', 'ff', 'k', 'cc', 'x', 'm', 'd', 'e', 'j', 'r']\n"
     ]
    }
   ],
   "source": [
    "replace_missingvalues(ccdata, 'EducationLevel', '?')"
   ]
  },
  {
   "cell_type": "code",
   "execution_count": 508,
   "metadata": {},
   "outputs": [
    {
     "name": "stdout",
     "output_type": "stream",
     "text": [
      " Details of column: EducationLevel\n",
      "        - datatype: object\n",
      "        - col.size: (690,)\n",
      "        - NaN.vals: 0\n",
      "        - uniqvals: ['c', 'q', 'w', 'i', 'aa', 'ff', 'k', 'cc', 'x', 'm', 'd', 'e', 'j', 'r']\n",
      "        - cnt.vals: [146, 78, 64, 59, 54, 53, 51, 41, 38, 38, 30, 25, 10, 3]\n"
     ]
    }
   ],
   "source": [
    "show_details(ccdata, 'EducationLevel')"
   ]
  },
  {
   "cell_type": "markdown",
   "metadata": {},
   "source": [
    "- **Ethnicity** is the next column with object datatype. That's fine! Any missing values? If so, we replace them accordingly."
   ]
  },
  {
   "cell_type": "code",
   "execution_count": 509,
   "metadata": {},
   "outputs": [
    {
     "name": "stdout",
     "output_type": "stream",
     "text": [
      " Details of column: Ethnicity\n",
      "        - datatype: object\n",
      "        - col.size: (690,)\n",
      "        - NaN.vals: 0\n",
      "        - uniqvals: ['v', 'h', 'bb', 'ff', '?', 'j', 'z', 'dd', 'n', 'o']\n",
      "        - cnt.vals: [399, 138, 59, 57, 9, 8, 8, 6, 4, 2]\n"
     ]
    }
   ],
   "source": [
    "show_details(ccdata, 'Ethnicity')"
   ]
  },
  {
   "cell_type": "code",
   "execution_count": 511,
   "metadata": {},
   "outputs": [
    {
     "name": "stdout",
     "output_type": "stream",
     "text": [
      " Details of column: Ethnicity\n",
      "      - uniqval(o): [399, 138, 59, 57, 9, 8, 8, 6, 4, 2]\n",
      "      - cnt.val(o): ['v', 'h', 'bb', 'ff', '?', 'j', 'z', 'dd', 'n', 'o']\n",
      "      - uniqval(n): [408, 138, 59, 57, 8, 8, 6, 4, 2]\n",
      "      - cnt.val(n): ['v', 'h', 'bb', 'ff', 'j', 'z', 'dd', 'n', 'o']\n"
     ]
    }
   ],
   "source": [
    "replace_missingvalues(ccdata, 'Ethnicity', '?')"
   ]
  },
  {
   "cell_type": "code",
   "execution_count": 512,
   "metadata": {},
   "outputs": [
    {
     "name": "stdout",
     "output_type": "stream",
     "text": [
      " Details of column: Ethnicity\n",
      "        - datatype: object\n",
      "        - col.size: (690,)\n",
      "        - NaN.vals: 0\n",
      "        - uniqvals: ['v', 'h', 'bb', 'ff', 'j', 'z', 'dd', 'n', 'o']\n",
      "        - cnt.vals: [408, 138, 59, 57, 8, 8, 6, 4, 2]\n"
     ]
    }
   ],
   "source": [
    "show_details(ccdata, 'Ethnicity')"
   ]
  },
  {
   "cell_type": "markdown",
   "metadata": {},
   "source": [
    "- **YearsEmployed** should indicate the no. of years an applicant was employed. So, it should be a float. Luckily, with no missing values."
   ]
  },
  {
   "cell_type": "code",
   "execution_count": 513,
   "metadata": {},
   "outputs": [
    {
     "name": "stdout",
     "output_type": "stream",
     "text": [
      " Details of column: YearsEmployed\n",
      "        - datatype: float64\n",
      "        - col.size: (690,)\n",
      "        - NaN.vals: 0\n",
      "        - uniqvals: [ 1.25   3.04   1.5    3.75   1.71   2.5    6.5    0.04   3.96   3.165\n",
      "  2.165  4.335  1.     5.     0.25   0.96   3.17   0.665  0.75   0.835\n",
      "  7.875  3.085  0.5    5.165 15.     7.     5.04   7.96   7.585  0.415\n",
      "  2.     1.835 14.415  4.5    5.335  8.625 28.5    2.625  0.125  6.04\n",
      "  3.5    0.165  0.875  1.75   0.     7.415  0.085  5.75   6.     3.\n",
      "  1.585  4.29   1.54   1.46   1.625 12.5   13.5   10.75   0.375  0.585\n",
      "  0.455  4.     8.5    9.46   2.25  10.     0.795  1.375  1.29  11.5\n",
      "  6.29  14.     0.335  1.21   7.375  7.5    3.25  13.     5.5    4.25\n",
      "  0.625  5.085  2.75   2.375  8.     1.085  2.54   4.165  1.665 11.\n",
      "  9.     1.335  1.415  1.96   2.585  5.125 15.5    0.71   5.665 18.\n",
      "  5.25   8.665  2.29  20.     2.46  13.875  2.085  4.58   2.71   2.04\n",
      "  0.29   4.75   0.46   0.21   0.54   3.335  2.335  1.165  2.415  2.79\n",
      "  4.625  1.04   6.75   1.875 16.    12.75   5.375  2.125 17.5    3.125\n",
      "  0.79   8.29 ]\n",
      "        - cnt.vals: [70, 35, 33, 31, 30, 28, 26, 25, 22, 17, 16, 15, 13, 12, 12, 12, 11, 10, 10, 8, 8, 7, 7, 6, 6, 6, 6, 6, 6, 6, 5, 5, 5, 5, 5, 5, 5, 5, 4, 4, 4, 3, 3, 3, 3, 3, 3, 3, 3, 3, 3, 3, 3, 2, 2, 2, 2, 2, 2, 2, 2, 2, 2, 2, 2, 2, 2, 2, 2, 2, 2, 2, 2, 2, 2, 2, 1, 1, 1, 1, 1, 1, 1, 1, 1, 1, 1, 1, 1, 1, 1, 1, 1, 1, 1, 1, 1, 1, 1, 1, 1, 1, 1, 1, 1, 1, 1, 1, 1, 1, 1, 1, 1, 1, 1, 1, 1, 1, 1, 1, 1, 1, 1, 1, 1, 1, 1, 1, 1, 1, 1, 1]\n"
     ]
    }
   ],
   "source": [
    "display_column(ccdata, 'YearsEmployed')"
   ]
  },
  {
   "cell_type": "markdown",
   "metadata": {},
   "source": [
    "- **PriorDefaulter** is an interesting attribute. Let's venture if the data values are corresponding to data type. No missing data here !"
   ]
  },
  {
   "cell_type": "code",
   "execution_count": 514,
   "metadata": {},
   "outputs": [
    {
     "name": "stdout",
     "output_type": "stream",
     "text": [
      " Details of column: PriorDefaulter\n",
      "        - datatype: object\n",
      "        - col.size: (690,)\n",
      "        - NaN.vals: 0\n",
      "        - uniqvals: ['t', 'f']\n",
      "        - cnt.vals: [361, 329]\n"
     ]
    }
   ],
   "source": [
    "show_details(ccdata, 'PriorDefaulter')"
   ]
  },
  {
   "cell_type": "markdown",
   "metadata": {},
   "source": [
    "- **Employed** attribute provides information on if the applicant is currently employed or not? No missing values here too!"
   ]
  },
  {
   "cell_type": "code",
   "execution_count": 515,
   "metadata": {},
   "outputs": [
    {
     "name": "stdout",
     "output_type": "stream",
     "text": [
      " Details of column: Employed\n",
      "        - datatype: object\n",
      "        - col.size: (690,)\n",
      "        - NaN.vals: 0\n",
      "        - uniqvals: ['f', 't']\n",
      "        - cnt.vals: [395, 295]\n"
     ]
    }
   ],
   "source": [
    "show_details(ccdata, 'Employed')"
   ]
  },
  {
   "cell_type": "markdown",
   "metadata": {},
   "source": [
    "- **CreditScore** attribute is an important indicator for every applicant. It typically is in the range 0-800 in North America. Scoring scheme may be different in different countries. So, we don't worry about the overall range. No missing values....that's good!"
   ]
  },
  {
   "cell_type": "code",
   "execution_count": 517,
   "metadata": {},
   "outputs": [
    {
     "name": "stdout",
     "output_type": "stream",
     "text": [
      " Details of column: CreditScore\n",
      "        - datatype: int64\n",
      "        - col.size: (690,)\n",
      "        - NaN.vals: 0\n",
      "        - uniqvals: [0, 1, 2, 3, 6, 11, 5, 7, 4, 8, 9, 14, 12, 10, 15, 16, 17, 20, 40, 13, 19, 23, 67]\n",
      "        - cnt.vals: [395, 71, 45, 28, 23, 19, 18, 16, 15, 10, 10, 8, 8, 8, 4, 3, 2, 2, 1, 1, 1, 1, 1]\n"
     ]
    }
   ],
   "source": [
    "show_details(ccdata, 'CreditScore')"
   ]
  },
  {
   "cell_type": "markdown",
   "metadata": {},
   "source": [
    "- **DriversLicense** is just a personal identification document that is provided for any kind of application. "
   ]
  },
  {
   "cell_type": "code",
   "execution_count": 519,
   "metadata": {},
   "outputs": [
    {
     "name": "stdout",
     "output_type": "stream",
     "text": [
      " Details of column: DriversLicense\n",
      "        - datatype: object\n",
      "        - col.size: (690,)\n",
      "        - NaN.vals: 0\n",
      "        - uniqvals: ['f', 't']\n",
      "        - cnt.vals: [374, 316]\n"
     ]
    }
   ],
   "source": [
    "show_details(ccdata, 'DriversLicense')"
   ]
  },
  {
   "cell_type": "markdown",
   "metadata": {},
   "source": [
    "- **Citizen** is just an additional personal information that typically is a character object. No missing values here too!"
   ]
  },
  {
   "cell_type": "code",
   "execution_count": 520,
   "metadata": {},
   "outputs": [
    {
     "name": "stdout",
     "output_type": "stream",
     "text": [
      " Details of column: Citizen\n",
      "        - datatype: object\n",
      "        - col.size: (690,)\n",
      "        - NaN.vals: 0\n",
      "        - uniqvals: ['g', 's', 'p']\n",
      "        - cnt.vals: [625, 57, 8]\n"
     ]
    }
   ],
   "source": [
    "show_details(ccdata, 'Citizen')"
   ]
  },
  {
   "cell_type": "markdown",
   "metadata": {},
   "source": [
    "- **ZipCode** provides the information about where a person lives in a city. No missing values here too! I am live with the fact that ZipCode is a string and not a number. At this point, we aren't sure if we can replace missing values '?' with the most. occurance values. But, we will go ahead and replace it for our first analysis. "
   ]
  },
  {
   "cell_type": "code",
   "execution_count": 521,
   "metadata": {},
   "outputs": [
    {
     "name": "stdout",
     "output_type": "stream",
     "text": [
      " Details of column: ZipCode\n",
      "        - datatype: object\n",
      "        - col.size: (690,)\n",
      "        - NaN.vals: 0\n",
      "        - uniqvals: ['00000', '00200', '00120', '00160', '00080', '00100', '00280', '00180', '00140', '00320', '00240', '00300', '?', '00260', '00400', '00220', '00060', '00340', '00360', '00380', '00144', '00108', '00440', '00070', '00420', '00132', '00520', '00232', '00040', '00128', '00150', '00460', '00272', '00181', '00096', '00176', '00216', '00480', '00290', '00164', '00020', '00129', '00092', '00252', '00145', '00210', '00399', '00350', '00168', '00352', '00073', '00225', '00228', '00370', '00330', '00130', '00560', '00112', '00396', '00720', '00136', '00088', '00312', '00050', '00500', '00154', '00110', '00022', '00368', '00208', '00076', '00224', '00840', '00443', '00311', '00202', '00680', '00093', '00276', '00372', '00375', '00171', '00017', '00231', '00432', '00640', '00062', '00450', '00268', '00117', '00253', '00288', '00408', '00024', '00381', '00052', '00204', '00510', '00465', '01160', '00348', '00711', '00186', '00455', '00094', '00454', '00121', '00491', '00416', '00434', '00239', '00045', '00292', '00309', '00212', '00274', '00349', '00303', '00188', '00032', '00600', '00075', '00021', '00470', '00086', '00550', '00043', '00250', '00519', '00163', '00928', '00371', '00760', '00356', '00170', '00422', '02000', '00583', '00395', '00178', '00329', '00028', '00099', '00263', '00211', '00383', '00393', '00256', '00487', '00029', '00167', '00056', '00174', '00102', '00049', '00431', '00030', '00230', '00410', '00195', '00221', '00141', '00515', '00156', '00152', '00369', '00411', '00254', '00523', '00333', '00980']\n",
      "        - cnt.vals: [132, 35, 35, 34, 30, 30, 22, 18, 16, 14, 14, 13, 13, 11, 9, 9, 9, 7, 7, 5, 4, 4, 4, 4, 4, 4, 4, 4, 4, 3, 3, 3, 3, 3, 3, 3, 3, 3, 3, 3, 2, 2, 2, 2, 2, 2, 2, 2, 2, 2, 2, 2, 2, 2, 2, 2, 2, 2, 2, 2, 2, 2, 2, 2, 2, 2, 2, 1, 1, 1, 1, 1, 1, 1, 1, 1, 1, 1, 1, 1, 1, 1, 1, 1, 1, 1, 1, 1, 1, 1, 1, 1, 1, 1, 1, 1, 1, 1, 1, 1, 1, 1, 1, 1, 1, 1, 1, 1, 1, 1, 1, 1, 1, 1, 1, 1, 1, 1, 1, 1, 1, 1, 1, 1, 1, 1, 1, 1, 1, 1, 1, 1, 1, 1, 1, 1, 1, 1, 1, 1, 1, 1, 1, 1, 1, 1, 1, 1, 1, 1, 1, 1, 1, 1, 1, 1, 1, 1, 1, 1, 1, 1, 1, 1, 1, 1, 1, 1, 1, 1, 1]\n"
     ]
    }
   ],
   "source": [
    "show_details(ccdata, 'ZipCode')"
   ]
  },
  {
   "cell_type": "code",
   "execution_count": 524,
   "metadata": {},
   "outputs": [
    {
     "name": "stdout",
     "output_type": "stream",
     "text": [
      " Details of column: ZipCode\n",
      "      - uniqval(o): [132, 35, 35, 34, 30, 30, 22, 18, 16, 14, 14, 13, 13, 11, 9, 9, 9, 7, 7, 5, 4, 4, 4, 4, 4, 4, 4, 4, 4, 3, 3, 3, 3, 3, 3, 3, 3, 3, 3, 3, 2, 2, 2, 2, 2, 2, 2, 2, 2, 2, 2, 2, 2, 2, 2, 2, 2, 2, 2, 2, 2, 2, 2, 2, 2, 2, 2, 1, 1, 1, 1, 1, 1, 1, 1, 1, 1, 1, 1, 1, 1, 1, 1, 1, 1, 1, 1, 1, 1, 1, 1, 1, 1, 1, 1, 1, 1, 1, 1, 1, 1, 1, 1, 1, 1, 1, 1, 1, 1, 1, 1, 1, 1, 1, 1, 1, 1, 1, 1, 1, 1, 1, 1, 1, 1, 1, 1, 1, 1, 1, 1, 1, 1, 1, 1, 1, 1, 1, 1, 1, 1, 1, 1, 1, 1, 1, 1, 1, 1, 1, 1, 1, 1, 1, 1, 1, 1, 1, 1, 1, 1, 1, 1, 1, 1, 1, 1, 1, 1, 1, 1]\n",
      "      - cnt.val(o): ['00000', '00200', '00120', '00160', '00080', '00100', '00280', '00180', '00140', '00320', '00240', '00300', '?', '00260', '00400', '00220', '00060', '00340', '00360', '00380', '00144', '00108', '00440', '00070', '00420', '00132', '00520', '00232', '00040', '00128', '00150', '00460', '00272', '00181', '00096', '00176', '00216', '00480', '00290', '00164', '00020', '00129', '00092', '00252', '00145', '00210', '00399', '00350', '00168', '00352', '00073', '00225', '00228', '00370', '00330', '00130', '00560', '00112', '00396', '00720', '00136', '00088', '00312', '00050', '00500', '00154', '00110', '00022', '00368', '00208', '00076', '00224', '00840', '00443', '00311', '00202', '00680', '00093', '00276', '00372', '00375', '00171', '00017', '00231', '00432', '00640', '00062', '00450', '00268', '00117', '00253', '00288', '00408', '00024', '00381', '00052', '00204', '00510', '00465', '01160', '00348', '00711', '00186', '00455', '00094', '00454', '00121', '00491', '00416', '00434', '00239', '00045', '00292', '00309', '00212', '00274', '00349', '00303', '00188', '00032', '00600', '00075', '00021', '00470', '00086', '00550', '00043', '00250', '00519', '00163', '00928', '00371', '00760', '00356', '00170', '00422', '02000', '00583', '00395', '00178', '00329', '00028', '00099', '00263', '00211', '00383', '00393', '00256', '00487', '00029', '00167', '00056', '00174', '00102', '00049', '00431', '00030', '00230', '00410', '00195', '00221', '00141', '00515', '00156', '00152', '00369', '00411', '00254', '00523', '00333', '00980']\n",
      "      - uniqval(n): [145, 35, 35, 34, 30, 30, 22, 18, 16, 14, 14, 13, 11, 9, 9, 9, 7, 7, 5, 4, 4, 4, 4, 4, 4, 4, 4, 4, 3, 3, 3, 3, 3, 3, 3, 3, 3, 3, 3, 2, 2, 2, 2, 2, 2, 2, 2, 2, 2, 2, 2, 2, 2, 2, 2, 2, 2, 2, 2, 2, 2, 2, 2, 2, 2, 2, 1, 1, 1, 1, 1, 1, 1, 1, 1, 1, 1, 1, 1, 1, 1, 1, 1, 1, 1, 1, 1, 1, 1, 1, 1, 1, 1, 1, 1, 1, 1, 1, 1, 1, 1, 1, 1, 1, 1, 1, 1, 1, 1, 1, 1, 1, 1, 1, 1, 1, 1, 1, 1, 1, 1, 1, 1, 1, 1, 1, 1, 1, 1, 1, 1, 1, 1, 1, 1, 1, 1, 1, 1, 1, 1, 1, 1, 1, 1, 1, 1, 1, 1, 1, 1, 1, 1, 1, 1, 1, 1, 1, 1, 1, 1, 1, 1, 1, 1, 1, 1, 1, 1, 1]\n",
      "      - cnt.val(n): ['00000', '00200', '00120', '00160', '00080', '00100', '00280', '00180', '00140', '00320', '00240', '00300', '00260', '00400', '00060', '00220', '00340', '00360', '00380', '00420', '00132', '00232', '00108', '00520', '00070', '00440', '00144', '00040', '00128', '00164', '00150', '00096', '00480', '00460', '00290', '00181', '00216', '00176', '00272', '00020', '00073', '00129', '00396', '00225', '00228', '00145', '00210', '00130', '00330', '00370', '00352', '00112', '00168', '00092', '00399', '00720', '00136', '00252', '00350', '00154', '00312', '00088', '00110', '00560', '00050', '00500', '00372', '00840', '00224', '00076', '00202', '00443', '00311', '00680', '00093', '00022', '00375', '00268', '00017', '00356', '00208', '00368', '00640', '00303', '00211', '00432', '00195', '00171', '00250', '00408', '00024', '00381', '00510', '01160', '00465', '00455', '00348', '00711', '00186', '00212', '00094', '00454', '00121', '00491', '00288', '00276', '00434', '00450', '00239', '00045', '00292', '00256', '00029', '00052', '00274', '00393', '00141', '00760', '00075', '00021', '00470', '00086', '00550', '00043', '00487', '00056', '00369', '00188', '00928', '00170', '00371', '02000', '00583', '00395', '00178', '00329', '00028', '00099', '00333', '00117', '00422', '00163', '00600', '00032', '00349', '00263', '00519', '00204', '00416', '00167', '00174', '00102', '00049', '00431', '00030', '00230', '00410', '00309', '00221', '00515', '00156', '00152', '00231', '00411', '00254', '00062', '00523', '00253', '00383', '00980']\n"
     ]
    }
   ],
   "source": [
    "replace_missingvalues(ccdata, 'ZipCode', '?')"
   ]
  },
  {
   "cell_type": "code",
   "execution_count": 525,
   "metadata": {},
   "outputs": [
    {
     "name": "stdout",
     "output_type": "stream",
     "text": [
      " Details of column: ZipCode\n",
      "        - datatype: object\n",
      "        - col.size: (690,)\n",
      "        - NaN.vals: 0\n",
      "        - uniqvals: ['00000', '00200', '00120', '00160', '00080', '00100', '00280', '00180', '00140', '00320', '00240', '00300', '00260', '00400', '00060', '00220', '00340', '00360', '00380', '00420', '00132', '00232', '00108', '00520', '00070', '00440', '00144', '00040', '00128', '00164', '00150', '00096', '00480', '00460', '00290', '00181', '00216', '00176', '00272', '00020', '00073', '00129', '00396', '00225', '00228', '00145', '00210', '00130', '00330', '00370', '00352', '00112', '00168', '00092', '00399', '00720', '00136', '00252', '00350', '00154', '00312', '00088', '00110', '00560', '00050', '00500', '00372', '00840', '00224', '00076', '00202', '00443', '00311', '00680', '00093', '00022', '00375', '00268', '00017', '00356', '00208', '00368', '00640', '00303', '00211', '00432', '00195', '00171', '00250', '00408', '00024', '00381', '00510', '01160', '00465', '00455', '00348', '00711', '00186', '00212', '00094', '00454', '00121', '00491', '00288', '00276', '00434', '00450', '00239', '00045', '00292', '00256', '00029', '00052', '00274', '00393', '00141', '00760', '00075', '00021', '00470', '00086', '00550', '00043', '00487', '00056', '00369', '00188', '00928', '00170', '00371', '02000', '00583', '00395', '00178', '00329', '00028', '00099', '00333', '00117', '00422', '00163', '00600', '00032', '00349', '00263', '00519', '00204', '00416', '00167', '00174', '00102', '00049', '00431', '00030', '00230', '00410', '00309', '00221', '00515', '00156', '00152', '00231', '00411', '00254', '00062', '00523', '00253', '00383', '00980']\n",
      "        - cnt.vals: [145, 35, 35, 34, 30, 30, 22, 18, 16, 14, 14, 13, 11, 9, 9, 9, 7, 7, 5, 4, 4, 4, 4, 4, 4, 4, 4, 4, 3, 3, 3, 3, 3, 3, 3, 3, 3, 3, 3, 2, 2, 2, 2, 2, 2, 2, 2, 2, 2, 2, 2, 2, 2, 2, 2, 2, 2, 2, 2, 2, 2, 2, 2, 2, 2, 2, 1, 1, 1, 1, 1, 1, 1, 1, 1, 1, 1, 1, 1, 1, 1, 1, 1, 1, 1, 1, 1, 1, 1, 1, 1, 1, 1, 1, 1, 1, 1, 1, 1, 1, 1, 1, 1, 1, 1, 1, 1, 1, 1, 1, 1, 1, 1, 1, 1, 1, 1, 1, 1, 1, 1, 1, 1, 1, 1, 1, 1, 1, 1, 1, 1, 1, 1, 1, 1, 1, 1, 1, 1, 1, 1, 1, 1, 1, 1, 1, 1, 1, 1, 1, 1, 1, 1, 1, 1, 1, 1, 1, 1, 1, 1, 1, 1, 1, 1, 1, 1, 1, 1, 1]\n"
     ]
    }
   ],
   "source": [
    "show_details(ccdata, 'ZipCode')"
   ]
  },
  {
   "cell_type": "markdown",
   "metadata": {},
   "source": [
    "- **Income** of an applicant is a very relevant information for a credit card application. Income is mostly provided as a number. No missing value!"
   ]
  },
  {
   "cell_type": "code",
   "execution_count": 522,
   "metadata": {},
   "outputs": [
    {
     "name": "stdout",
     "output_type": "stream",
     "text": [
      " Details of column: Income\n",
      "        - datatype: int64\n",
      "        - col.size: (690,)\n",
      "        - NaN.vals: 0\n",
      "        - uniqvals: [0, 1, 1000, 500, 2, 5, 300, 6, 3, 200, 100, 4, 50, 150, 7, 10, 3000, 20, 400, 560, 18, 600, 2000, 5000, 4000, 108, 17, 44, 204, 8, 1210, 67, 284, 68, 350, 351, 1200, 13, 375, 40, 16, 35, 27, 19, 15, 21, 456, 11, 809, 3065, 99, 28, 444, 540, 158, 154, 147, 2200, 146, 160, 162, 2197, 1187, 9, 1208, 168, 210, 234, 2279, 228, 225, 221, 3290, 1236, 196, 173, 195, 13212, 1212, 3257, 140, 179, 5298, 141, 41, 2184, 134, 1704, 60, 59, 58, 55, 53, 2100, 14, 42, 1065, 38, 1058, 33, 32, 2079, 25, 2072, 23, 22, 4159, 70, 1097, 4208, 130, 2206, 126, 122, 120, 117, 12, 113, 109, 5200, 105, 26726, 1260, 98, 90, 87, 1110, 246, 2283, 112, 237, 690, 15108, 769, 768, 2803, 750, 742, 5860, 80, 730, 722, 713, 687, 10000, 2732, 5800, 678, 5124, 100000, 15000, 8851, 5777, 184, 2690, 639, 1004, 790, 245, 51100, 2028, 4071, 990, 1062, 2010, 1400, 11202, 960, 948, 11177, 1950, 918, 800, 7059, 2954, 321, 892, 1249, 857, 50000, 837, 8000, 827, 824, 1655, 18027, 610, 1344, 394, 390, 7544, 367, 364, 347, 340, 2384, 327, 1349, 10561, 316, 4700, 314, 1332, 3376, 286, 278, 1300, 258, 2300, 251, 247, 1270, 396, 4500, 1430, 1442, 591, 587, 9800, 582, 1391, 1602, 567, 31285, 1583, 6700, 551, 537, 4607, 501, 484, 3552, 475, 2510, 458, 2503, 6590, 1465, 5552, 283]\n",
      "        - cnt.vals: [295, 29, 10, 10, 9, 8, 8, 8, 6, 6, 6, 5, 5, 4, 4, 4, 4, 4, 3, 3, 3, 3, 3, 3, 3, 2, 2, 2, 2, 2, 2, 2, 2, 2, 2, 2, 2, 2, 2, 2, 2, 2, 2, 2, 2, 2, 2, 2, 2, 2, 2, 2, 2, 2, 1, 1, 1, 1, 1, 1, 1, 1, 1, 1, 1, 1, 1, 1, 1, 1, 1, 1, 1, 1, 1, 1, 1, 1, 1, 1, 1, 1, 1, 1, 1, 1, 1, 1, 1, 1, 1, 1, 1, 1, 1, 1, 1, 1, 1, 1, 1, 1, 1, 1, 1, 1, 1, 1, 1, 1, 1, 1, 1, 1, 1, 1, 1, 1, 1, 1, 1, 1, 1, 1, 1, 1, 1, 1, 1, 1, 1, 1, 1, 1, 1, 1, 1, 1, 1, 1, 1, 1, 1, 1, 1, 1, 1, 1, 1, 1, 1, 1, 1, 1, 1, 1, 1, 1, 1, 1, 1, 1, 1, 1, 1, 1, 1, 1, 1, 1, 1, 1, 1, 1, 1, 1, 1, 1, 1, 1, 1, 1, 1, 1, 1, 1, 1, 1, 1, 1, 1, 1, 1, 1, 1, 1, 1, 1, 1, 1, 1, 1, 1, 1, 1, 1, 1, 1, 1, 1, 1, 1, 1, 1, 1, 1, 1, 1, 1, 1, 1, 1, 1, 1, 1, 1, 1, 1, 1, 1, 1, 1, 1, 1, 1, 1, 1, 1, 1, 1]\n"
     ]
    }
   ],
   "source": [
    "show_details(ccdata, 'Income')"
   ]
  },
  {
   "cell_type": "markdown",
   "metadata": {},
   "source": [
    "- **Approved** column is the holy-grail in this Credit Card Approval Project.  "
   ]
  },
  {
   "cell_type": "code",
   "execution_count": 523,
   "metadata": {},
   "outputs": [
    {
     "name": "stdout",
     "output_type": "stream",
     "text": [
      " Details of column: Approved\n",
      "        - datatype: object\n",
      "        - col.size: (690,)\n",
      "        - NaN.vals: 0\n",
      "        - uniqvals: ['-', '+']\n",
      "        - cnt.vals: [383, 307]\n"
     ]
    }
   ],
   "source": [
    "show_details(ccdata, 'Approved')"
   ]
  },
  {
   "cell_type": "code",
   "execution_count": 526,
   "metadata": {},
   "outputs": [
    {
     "data": {
      "text/html": [
       "<div>\n",
       "<style scoped>\n",
       "    .dataframe tbody tr th:only-of-type {\n",
       "        vertical-align: middle;\n",
       "    }\n",
       "\n",
       "    .dataframe tbody tr th {\n",
       "        vertical-align: top;\n",
       "    }\n",
       "\n",
       "    .dataframe thead th {\n",
       "        text-align: right;\n",
       "    }\n",
       "</style>\n",
       "<table border=\"1\" class=\"dataframe\">\n",
       "  <thead>\n",
       "    <tr style=\"text-align: right;\">\n",
       "      <th></th>\n",
       "      <th>Gender</th>\n",
       "      <th>Age</th>\n",
       "      <th>Debt</th>\n",
       "      <th>Married</th>\n",
       "      <th>BankCustomer</th>\n",
       "      <th>EducationLevel</th>\n",
       "      <th>Ethnicity</th>\n",
       "      <th>YearsEmployed</th>\n",
       "      <th>PriorDefaulter</th>\n",
       "      <th>Employed</th>\n",
       "      <th>CreditScore</th>\n",
       "      <th>DriversLicense</th>\n",
       "      <th>Citizen</th>\n",
       "      <th>ZipCode</th>\n",
       "      <th>Income</th>\n",
       "      <th>Approved</th>\n",
       "    </tr>\n",
       "  </thead>\n",
       "  <tbody>\n",
       "    <tr>\n",
       "      <th>0</th>\n",
       "      <td>b</td>\n",
       "      <td>30.83</td>\n",
       "      <td>0.000</td>\n",
       "      <td>u</td>\n",
       "      <td>g</td>\n",
       "      <td>w</td>\n",
       "      <td>v</td>\n",
       "      <td>1.25</td>\n",
       "      <td>t</td>\n",
       "      <td>t</td>\n",
       "      <td>1</td>\n",
       "      <td>f</td>\n",
       "      <td>g</td>\n",
       "      <td>00202</td>\n",
       "      <td>0</td>\n",
       "      <td>+</td>\n",
       "    </tr>\n",
       "    <tr>\n",
       "      <th>1</th>\n",
       "      <td>a</td>\n",
       "      <td>58.67</td>\n",
       "      <td>4.460</td>\n",
       "      <td>u</td>\n",
       "      <td>g</td>\n",
       "      <td>q</td>\n",
       "      <td>h</td>\n",
       "      <td>3.04</td>\n",
       "      <td>t</td>\n",
       "      <td>t</td>\n",
       "      <td>6</td>\n",
       "      <td>f</td>\n",
       "      <td>g</td>\n",
       "      <td>00043</td>\n",
       "      <td>560</td>\n",
       "      <td>+</td>\n",
       "    </tr>\n",
       "    <tr>\n",
       "      <th>2</th>\n",
       "      <td>a</td>\n",
       "      <td>24.50</td>\n",
       "      <td>0.500</td>\n",
       "      <td>u</td>\n",
       "      <td>g</td>\n",
       "      <td>q</td>\n",
       "      <td>h</td>\n",
       "      <td>1.50</td>\n",
       "      <td>t</td>\n",
       "      <td>f</td>\n",
       "      <td>0</td>\n",
       "      <td>f</td>\n",
       "      <td>g</td>\n",
       "      <td>00280</td>\n",
       "      <td>824</td>\n",
       "      <td>+</td>\n",
       "    </tr>\n",
       "    <tr>\n",
       "      <th>3</th>\n",
       "      <td>b</td>\n",
       "      <td>27.83</td>\n",
       "      <td>1.540</td>\n",
       "      <td>u</td>\n",
       "      <td>g</td>\n",
       "      <td>w</td>\n",
       "      <td>v</td>\n",
       "      <td>3.75</td>\n",
       "      <td>t</td>\n",
       "      <td>t</td>\n",
       "      <td>5</td>\n",
       "      <td>t</td>\n",
       "      <td>g</td>\n",
       "      <td>00100</td>\n",
       "      <td>3</td>\n",
       "      <td>+</td>\n",
       "    </tr>\n",
       "    <tr>\n",
       "      <th>4</th>\n",
       "      <td>b</td>\n",
       "      <td>20.17</td>\n",
       "      <td>5.625</td>\n",
       "      <td>u</td>\n",
       "      <td>g</td>\n",
       "      <td>w</td>\n",
       "      <td>v</td>\n",
       "      <td>1.71</td>\n",
       "      <td>t</td>\n",
       "      <td>f</td>\n",
       "      <td>0</td>\n",
       "      <td>f</td>\n",
       "      <td>s</td>\n",
       "      <td>00120</td>\n",
       "      <td>0</td>\n",
       "      <td>+</td>\n",
       "    </tr>\n",
       "  </tbody>\n",
       "</table>\n",
       "</div>"
      ],
      "text/plain": [
       "  Gender    Age   Debt Married BankCustomer EducationLevel Ethnicity  \\\n",
       "0      b  30.83  0.000       u            g              w         v   \n",
       "1      a  58.67  4.460       u            g              q         h   \n",
       "2      a  24.50  0.500       u            g              q         h   \n",
       "3      b  27.83  1.540       u            g              w         v   \n",
       "4      b  20.17  5.625       u            g              w         v   \n",
       "\n",
       "   YearsEmployed PriorDefaulter Employed  CreditScore DriversLicense Citizen  \\\n",
       "0           1.25              t        t            1              f       g   \n",
       "1           3.04              t        t            6              f       g   \n",
       "2           1.50              t        f            0              f       g   \n",
       "3           3.75              t        t            5              t       g   \n",
       "4           1.71              t        f            0              f       s   \n",
       "\n",
       "  ZipCode  Income Approved  \n",
       "0   00202       0        +  \n",
       "1   00043     560        +  \n",
       "2   00280     824        +  \n",
       "3   00100       3        +  \n",
       "4   00120       0        +  "
      ]
     },
     "execution_count": 526,
     "metadata": {},
     "output_type": "execute_result"
    }
   ],
   "source": [
    "ccdata.head(5)"
   ]
  },
  {
   "cell_type": "code",
   "execution_count": 527,
   "metadata": {},
   "outputs": [
    {
     "name": "stdout",
     "output_type": "stream",
     "text": [
      "<class 'pandas.core.frame.DataFrame'>\n",
      "RangeIndex: 690 entries, 0 to 689\n",
      "Data columns (total 16 columns):\n",
      "Gender            690 non-null object\n",
      "Age               690 non-null float64\n",
      "Debt              690 non-null float64\n",
      "Married           690 non-null object\n",
      "BankCustomer      690 non-null object\n",
      "EducationLevel    690 non-null object\n",
      "Ethnicity         690 non-null object\n",
      "YearsEmployed     690 non-null float64\n",
      "PriorDefaulter    690 non-null object\n",
      "Employed          690 non-null object\n",
      "CreditScore       690 non-null int64\n",
      "DriversLicense    690 non-null object\n",
      "Citizen           690 non-null object\n",
      "ZipCode           690 non-null object\n",
      "Income            690 non-null int64\n",
      "Approved          690 non-null object\n",
      "dtypes: float64(3), int64(2), object(11)\n",
      "memory usage: 86.4+ KB\n"
     ]
    }
   ],
   "source": [
    "ccdata.info()"
   ]
  },
  {
   "cell_type": "markdown",
   "metadata": {},
   "source": [
    "We are going use this version after changing information about the `Quality` of the data. Attributes datatypes are categorized as below:\n",
    "- 3 Float datatypes\n",
    "- 2 Integer datatypes\n",
    "- 11 Object datatypes\n",
    "\n",
    "Let's now save it into a csv file. "
   ]
  },
  {
   "cell_type": "code",
   "execution_count": 529,
   "metadata": {},
   "outputs": [],
   "source": [
    "ccdata.to_csv('../datasets/crx.data_clean.csv')"
   ]
  },
  {
   "cell_type": "code",
   "execution_count": 530,
   "metadata": {},
   "outputs": [
    {
     "name": "stdout",
     "output_type": "stream",
     "text": [
      " datasets/\n",
      "       - crx.data\n",
      "       - crx.names\n",
      "       - crx.data_clean.csv\n"
     ]
    }
   ],
   "source": [
    "show_files_in_datasets(path_data)"
   ]
  },
  {
   "cell_type": "code",
   "execution_count": null,
   "metadata": {},
   "outputs": [],
   "source": []
  }
 ],
 "metadata": {
  "kernelspec": {
   "display_name": "Python 3",
   "language": "python",
   "name": "python3"
  },
  "language_info": {
   "codemirror_mode": {
    "name": "ipython",
    "version": 3
   },
   "file_extension": ".py",
   "mimetype": "text/x-python",
   "name": "python",
   "nbconvert_exporter": "python",
   "pygments_lexer": "ipython3",
   "version": "3.6.9"
  }
 },
 "nbformat": 4,
 "nbformat_minor": 2
}
