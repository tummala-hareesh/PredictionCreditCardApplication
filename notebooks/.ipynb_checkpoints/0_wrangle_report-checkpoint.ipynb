{
 "cells": [
  {
   "cell_type": "markdown",
   "metadata": {},
   "source": [
    "# <center> Data Wrangling Report </center> \n",
    "# <center> Credit Card Approval Dataset </center> \n",
    "#### <center> Sep 23rd, 2020 </center>"
   ]
  },
  {
   "cell_type": "markdown",
   "metadata": {},
   "source": [
    "In this wrangle report on credit card approval dataset, we are going to highlight three different steps followed to end up with clean data."
   ]
  },
  {
   "cell_type": "markdown",
   "metadata": {},
   "source": [
    "### 1. Gathering"
   ]
  },
  {
   "cell_type": "markdown",
   "metadata": {},
   "source": [
    "In the data gathering stage, we collected [credit card data](https://archive.ics.uci.edu/ml/datasets/default+of+credit+card+clients) from UCI's Machine Learning Repository."
   ]
  },
  {
   "cell_type": "markdown",
   "metadata": {},
   "source": [
    "1. `crx.data` - Masked Credit Card Applications Data File"
   ]
  },
  {
   "cell_type": "markdown",
   "metadata": {},
   "source": [
    "This file contains maked (to protect confidentiality) data of credit card applications. This dataset has a good mix of continuous, nominal (small and large) attributes with few missing values. In brief this small dataset has a total of 690 instances and 15+ class attributes.  \n"
   ]
  },
  {
   "cell_type": "markdown",
   "metadata": {},
   "source": [
    "2. `crx.names` - Readme file"
   ]
  },
  {
   "cell_type": "markdown",
   "metadata": {},
   "source": [
    "This file provides us with a brief overview about the dataset uploaded to UCO's ML repository. Details about missing attribute values help us speedup the data cleaning process."
   ]
  },
  {
   "cell_type": "markdown",
   "metadata": {},
   "source": [
    "Two files collected above are stored locally in `datasets` folder."
   ]
  },
  {
   "cell_type": "markdown",
   "metadata": {},
   "source": [
    "***"
   ]
  },
  {
   "cell_type": "markdown",
   "metadata": {},
   "source": [
    "### 2. Assessing"
   ]
  },
  {
   "cell_type": "markdown",
   "metadata": {},
   "source": [
    "In the data assessing stage, we organized our findings in two data files based on **Quality** and **Tidiness**."
   ]
  },
  {
   "cell_type": "markdown",
   "metadata": {},
   "source": [
    "### 2.1 Quality"
   ]
  },
  {
   "cell_type": "markdown",
   "metadata": {},
   "source": [
    "`crx.data` findings\n",
    "- [ ] column names are not reflective of applicants information\n",
    "- [ ] **Gender** column with object datatype seems reasonable, but, it has 12 missing values with '?'.    \n",
    "- [ ] **Age** column should be an float datatype. Instead it is an object datatype due to 12 missing values with '?'.\n",
    "- [ ] **Married** column is an object datatype attribute; Ofcourse, we need to fix the 6 missing values too.\n",
    "- [ ] **BankCustomer** column is an object datatype. Further, the 6 missing '? values should be fixed.\n",
    "- [ ] **EducationLevel** is an object datatype. But, with 9 missing '?' values.\n",
    "- [ ] **Ethnicity**, which is also an object datatype has 9 missing '?' values.\n",
    "- [ ] **Zipcode**, which is an object datatype has the most no. of missing values '?' = 13."
   ]
  },
  {
   "cell_type": "markdown",
   "metadata": {},
   "source": [
    "### 2.2 Tidiness"
   ]
  },
  {
   "cell_type": "markdown",
   "metadata": {},
   "source": [
    "`crx.data` doesn't seem to have any issues with tidiness."
   ]
  },
  {
   "cell_type": "markdown",
   "metadata": {},
   "source": [
    "***"
   ]
  },
  {
   "cell_type": "markdown",
   "metadata": {},
   "source": [
    "### 3. Cleaning"
   ]
  },
  {
   "cell_type": "markdown",
   "metadata": {},
   "source": [
    "In the data cleaning stage, we are going to make use of the above listed findings to clean, and save tidy dataset with **_clean** extension."
   ]
  },
  {
   "cell_type": "markdown",
   "metadata": {},
   "source": [
    "### 3.1 Quality data"
   ]
  },
  {
   "cell_type": "markdown",
   "metadata": {},
   "source": [
    "- [x] Fixed column names from [Credit Card Analysis Page by Ryan Kuhn](http://rstudio-pubs-static.s3.amazonaws.com/73039_9946de135c0a49daa7a0a9eda4a67a72.html) to reflect applicant's information\n",
    "- [x] 12 Missing values of **Gender** column replaced with max. occuring variable in the attribute.    \n",
    "- [x] 12 Missing values in **Age** column are replaced with mean value of the age. \n",
    "- [x] **Married** column's missing values are replaced with max. occuring variable.\n",
    "- [x] **BankCustomer** column's missing values are replaced by not a customer. \n",
    "- [x] **EducationLevel** column's missing values by max. occurance value. \n",
    "- [x] **Ethnicity** 's missing values are replaced with max. occuring value in the attribute.\n",
    "- [x] For **Zipcode** also we follow the same approach. \n",
    "\n",
    "__Caution__: This approach of replacing missing categorical values with max. occuring value and replacing missing numerical values with the mean value in the column will not positively influence the predictive machine learning that we are planning to build. But, as a first step towards fixing the missing values, this approach is better than working with missing values.   "
   ]
  },
  {
   "cell_type": "markdown",
   "metadata": {},
   "source": [
    "### 3.2 Tidy data"
   ]
  },
  {
   "cell_type": "markdown",
   "metadata": {},
   "source": [
    "`crx.data` doesn't seem to have any issues with tidiness."
   ]
  },
  {
   "cell_type": "markdown",
   "metadata": {},
   "source": [
    "***"
   ]
  },
  {
   "cell_type": "markdown",
   "metadata": {},
   "source": [
    "### 4. Conclusion"
   ]
  },
  {
   "cell_type": "markdown",
   "metadata": {},
   "source": [
    "After completing the 3 stage data wrangling on the credit card approval dataset, we end with much cleaner dataset, which is saved in `datasets/crx.data_clean.csv` "
   ]
  },
  {
   "cell_type": "code",
   "execution_count": null,
   "metadata": {},
   "outputs": [],
   "source": []
  }
 ],
 "metadata": {
  "kernelspec": {
   "display_name": "Python 3",
   "language": "python",
   "name": "python3"
  },
  "language_info": {
   "codemirror_mode": {
    "name": "ipython",
    "version": 3
   },
   "file_extension": ".py",
   "mimetype": "text/x-python",
   "name": "python",
   "nbconvert_exporter": "python",
   "pygments_lexer": "ipython3",
   "version": "3.6.9"
  }
 },
 "nbformat": 4,
 "nbformat_minor": 2
}
