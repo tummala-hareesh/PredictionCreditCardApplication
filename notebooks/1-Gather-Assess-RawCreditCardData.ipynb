{
 "cells": [
  {
   "cell_type": "markdown",
   "metadata": {},
   "source": [
    "## Gather data: \n",
    "We are going to use [credit card data](https://archive.ics.uci.edu/ml/datasets/default+of+credit+card+clients) from UCI's Machine Learning Repository for this project. Let us gather required data into a folder, `datasets`. "
   ]
  },
  {
   "cell_type": "markdown",
   "metadata": {},
   "source": [
    "Let's first load the python modules needed for gather credit card data."
   ]
  },
  {
   "cell_type": "code",
   "execution_count": 5,
   "metadata": {},
   "outputs": [],
   "source": [
    "# Modules required to gather data\n",
    "import wget\n",
    "import os \n",
    "import pandas as pd\n",
    "import numpy as np"
   ]
  },
  {
   "cell_type": "code",
   "execution_count": 88,
   "metadata": {},
   "outputs": [],
   "source": [
    "# Load helper functions from src/utils-*-*.py to run on jupyter-notebook\n",
    "%run ../src/utils-gather-assess.py"
   ]
  },
  {
   "cell_type": "markdown",
   "metadata": {},
   "source": [
    "In here, I am reading the weblinks into variables url_data and url_names.  "
   ]
  },
  {
   "cell_type": "code",
   "execution_count": 7,
   "metadata": {},
   "outputs": [],
   "source": [
    "# Weblink directing to credit card dataset\n",
    "url = 'https://archive.ics.uci.edu/ml/machine-learning-databases/credit-screening'\n",
    "\n",
    "# Names of files in credit card dataset\n",
    "data_file = 'crx.data'\n",
    "names_file = 'crx.names'"
   ]
  },
  {
   "cell_type": "markdown",
   "metadata": {},
   "source": [
    "Organizing data from the beginning will save time for productive data analysis in the later stages of the project. Downloaded (2) data files are given the same name as specified above.    "
   ]
  },
  {
   "cell_type": "code",
   "execution_count": 8,
   "metadata": {},
   "outputs": [],
   "source": [
    "# Local directory to save data\n",
    "path_data = '../datasets'"
   ]
  },
  {
   "cell_type": "markdown",
   "metadata": {},
   "source": [
    "OK. We are all set to gather the data we need for this project. I am going to write a very simple python function to check and download the data needed. "
   ]
  },
  {
   "cell_type": "markdown",
   "metadata": {},
   "source": [
    "Now, let us call the check_download function twice on two datafiles needed."
   ]
  },
  {
   "cell_type": "code",
   "execution_count": 9,
   "metadata": {},
   "outputs": [
    {
     "name": "stdout",
     "output_type": "stream",
     "text": [
      " Folder exists: ../datasets\n",
      " Datafile already present: ../datasets/crx.data\n"
     ]
    }
   ],
   "source": [
    "# Call function on data_file\n",
    "check_download(url, data_file, path_data)"
   ]
  },
  {
   "cell_type": "code",
   "execution_count": 10,
   "metadata": {},
   "outputs": [
    {
     "name": "stdout",
     "output_type": "stream",
     "text": [
      " Folder exists: ../datasets\n",
      " Datafile already present: ../datasets/crx.names\n"
     ]
    }
   ],
   "source": [
    "# Call function on names_file\n",
    "check_download(url, names_file, path_data)"
   ]
  },
  {
   "cell_type": "markdown",
   "metadata": {},
   "source": [
    "Required datafiles for this project are now downloaded into `datasets` folder. How about a quick sneak-peak into the `datasets` folder? "
   ]
  },
  {
   "cell_type": "code",
   "execution_count": 89,
   "metadata": {},
   "outputs": [
    {
     "name": "stdout",
     "output_type": "stream",
     "text": [
      " datasets/\n",
      "       - crx.data\n",
      "       - crx.names\n",
      "       - crx.data_named.csv\n",
      "       - crx.data_clean.csv\n"
     ]
    }
   ],
   "source": [
    "show_files_datasets(path_data)"
   ]
  },
  {
   "cell_type": "markdown",
   "metadata": {},
   "source": [
    "***"
   ]
  },
  {
   "cell_type": "markdown",
   "metadata": {},
   "source": [
    "## Assess data:\n",
    "In here, we load the credit card data and assess the data for `Quality` and `Tidiness`."
   ]
  },
  {
   "cell_type": "code",
   "execution_count": 15,
   "metadata": {},
   "outputs": [],
   "source": [
    "path_datafile = path_data + '/' + data_file"
   ]
  },
  {
   "cell_type": "code",
   "execution_count": 16,
   "metadata": {},
   "outputs": [
    {
     "data": {
      "text/html": [
       "<div>\n",
       "<style scoped>\n",
       "    .dataframe tbody tr th:only-of-type {\n",
       "        vertical-align: middle;\n",
       "    }\n",
       "\n",
       "    .dataframe tbody tr th {\n",
       "        vertical-align: top;\n",
       "    }\n",
       "\n",
       "    .dataframe thead th {\n",
       "        text-align: right;\n",
       "    }\n",
       "</style>\n",
       "<table border=\"1\" class=\"dataframe\">\n",
       "  <thead>\n",
       "    <tr style=\"text-align: right;\">\n",
       "      <th></th>\n",
       "      <th>0</th>\n",
       "      <th>1</th>\n",
       "      <th>2</th>\n",
       "      <th>3</th>\n",
       "      <th>4</th>\n",
       "      <th>5</th>\n",
       "      <th>6</th>\n",
       "      <th>7</th>\n",
       "      <th>8</th>\n",
       "      <th>9</th>\n",
       "      <th>10</th>\n",
       "      <th>11</th>\n",
       "      <th>12</th>\n",
       "      <th>13</th>\n",
       "      <th>14</th>\n",
       "      <th>15</th>\n",
       "    </tr>\n",
       "  </thead>\n",
       "  <tbody>\n",
       "    <tr>\n",
       "      <th>0</th>\n",
       "      <td>b</td>\n",
       "      <td>30.83</td>\n",
       "      <td>0.000</td>\n",
       "      <td>u</td>\n",
       "      <td>g</td>\n",
       "      <td>w</td>\n",
       "      <td>v</td>\n",
       "      <td>1.25</td>\n",
       "      <td>t</td>\n",
       "      <td>t</td>\n",
       "      <td>1</td>\n",
       "      <td>f</td>\n",
       "      <td>g</td>\n",
       "      <td>00202</td>\n",
       "      <td>0</td>\n",
       "      <td>+</td>\n",
       "    </tr>\n",
       "    <tr>\n",
       "      <th>1</th>\n",
       "      <td>a</td>\n",
       "      <td>58.67</td>\n",
       "      <td>4.460</td>\n",
       "      <td>u</td>\n",
       "      <td>g</td>\n",
       "      <td>q</td>\n",
       "      <td>h</td>\n",
       "      <td>3.04</td>\n",
       "      <td>t</td>\n",
       "      <td>t</td>\n",
       "      <td>6</td>\n",
       "      <td>f</td>\n",
       "      <td>g</td>\n",
       "      <td>00043</td>\n",
       "      <td>560</td>\n",
       "      <td>+</td>\n",
       "    </tr>\n",
       "    <tr>\n",
       "      <th>2</th>\n",
       "      <td>a</td>\n",
       "      <td>24.50</td>\n",
       "      <td>0.500</td>\n",
       "      <td>u</td>\n",
       "      <td>g</td>\n",
       "      <td>q</td>\n",
       "      <td>h</td>\n",
       "      <td>1.50</td>\n",
       "      <td>t</td>\n",
       "      <td>f</td>\n",
       "      <td>0</td>\n",
       "      <td>f</td>\n",
       "      <td>g</td>\n",
       "      <td>00280</td>\n",
       "      <td>824</td>\n",
       "      <td>+</td>\n",
       "    </tr>\n",
       "    <tr>\n",
       "      <th>3</th>\n",
       "      <td>b</td>\n",
       "      <td>27.83</td>\n",
       "      <td>1.540</td>\n",
       "      <td>u</td>\n",
       "      <td>g</td>\n",
       "      <td>w</td>\n",
       "      <td>v</td>\n",
       "      <td>3.75</td>\n",
       "      <td>t</td>\n",
       "      <td>t</td>\n",
       "      <td>5</td>\n",
       "      <td>t</td>\n",
       "      <td>g</td>\n",
       "      <td>00100</td>\n",
       "      <td>3</td>\n",
       "      <td>+</td>\n",
       "    </tr>\n",
       "    <tr>\n",
       "      <th>4</th>\n",
       "      <td>b</td>\n",
       "      <td>20.17</td>\n",
       "      <td>5.625</td>\n",
       "      <td>u</td>\n",
       "      <td>g</td>\n",
       "      <td>w</td>\n",
       "      <td>v</td>\n",
       "      <td>1.71</td>\n",
       "      <td>t</td>\n",
       "      <td>f</td>\n",
       "      <td>0</td>\n",
       "      <td>f</td>\n",
       "      <td>s</td>\n",
       "      <td>00120</td>\n",
       "      <td>0</td>\n",
       "      <td>+</td>\n",
       "    </tr>\n",
       "  </tbody>\n",
       "</table>\n",
       "</div>"
      ],
      "text/plain": [
       "  0      1      2  3  4  5  6     7  8  9   10 11 12     13   14 15\n",
       "0  b  30.83  0.000  u  g  w  v  1.25  t  t   1  f  g  00202    0  +\n",
       "1  a  58.67  4.460  u  g  q  h  3.04  t  t   6  f  g  00043  560  +\n",
       "2  a  24.50  0.500  u  g  q  h  1.50  t  f   0  f  g  00280  824  +\n",
       "3  b  27.83  1.540  u  g  w  v  3.75  t  t   5  t  g  00100    3  +\n",
       "4  b  20.17  5.625  u  g  w  v  1.71  t  f   0  f  s  00120    0  +"
      ]
     },
     "execution_count": 16,
     "metadata": {},
     "output_type": "execute_result"
    }
   ],
   "source": [
    "# Load credit card data into a DataFrame - cc_df  \n",
    "cc_df = load_csv_df(path_datafile)\n",
    "cc_df.head(5)"
   ]
  },
  {
   "cell_type": "code",
   "execution_count": 17,
   "metadata": {},
   "outputs": [
    {
     "data": {
      "text/plain": [
       "(690, 16)"
      ]
     },
     "execution_count": 17,
     "metadata": {},
     "output_type": "execute_result"
    }
   ],
   "source": [
    "cc_df.shape"
   ]
  },
  {
   "cell_type": "markdown",
   "metadata": {},
   "source": [
    "No. of instances and features exactly match what is given in the details file. So, we can move further into our assessment. "
   ]
  },
  {
   "cell_type": "markdown",
   "metadata": {},
   "source": [
    "As column names provided no additional information in this dataset, we load the dataframe with no header. This means, our column names are simply numbers starting from 0 to 16. A quick google search directed me to a [Credit Card Analysis Page by Ryan Kuhn](http://rstudio-pubs-static.s3.amazonaws.com/73039_9946de135c0a49daa7a0a9eda4a67a72.html), where the author assigned names to the variables. First 15 variables are the credit application features/attributes. Final, 16th, approved variable is the credit approval status. We are going to use these names as our column names.     "
   ]
  },
  {
   "cell_type": "code",
   "execution_count": 20,
   "metadata": {},
   "outputs": [
    {
     "data": {
      "text/plain": [
       "Index(['Gender', 'Age', 'Debt', 'Married', 'BankCustomer', 'EducationLevel',\n",
       "       'Ethnicity', 'YearsEmployed', 'PriorDefaulter', 'Employed',\n",
       "       'CreditScore', 'DriversLicense', 'Citizen', 'ZipCode', 'Income',\n",
       "       'Approved'],\n",
       "      dtype='object')"
      ]
     },
     "execution_count": 20,
     "metadata": {},
     "output_type": "execute_result"
    }
   ],
   "source": [
    "# Old column names\n",
    "cc_df.columns"
   ]
  },
  {
   "cell_type": "code",
   "execution_count": 21,
   "metadata": {},
   "outputs": [],
   "source": [
    "# Define a list with new column names\n",
    "new_column_names = ['Gender', 'Age', 'Debt', 'Married', 'BankCustomer', 'EducationLevel', 'Ethnicity', 'YearsEmployed', 'PriorDefaulter', 'Employed','CreditScore', 'DriversLicense','Citizen','ZipCode','Income','Approved']\n",
    "cc_df.columns = new_column_names"
   ]
  },
  {
   "cell_type": "markdown",
   "metadata": {},
   "source": [
    "Print information to show connection between column id and column names."
   ]
  },
  {
   "cell_type": "code",
   "execution_count": 22,
   "metadata": {},
   "outputs": [
    {
     "data": {
      "text/html": [
       "<div>\n",
       "<style scoped>\n",
       "    .dataframe tbody tr th:only-of-type {\n",
       "        vertical-align: middle;\n",
       "    }\n",
       "\n",
       "    .dataframe tbody tr th {\n",
       "        vertical-align: top;\n",
       "    }\n",
       "\n",
       "    .dataframe thead th {\n",
       "        text-align: right;\n",
       "    }\n",
       "</style>\n",
       "<table border=\"1\" class=\"dataframe\">\n",
       "  <thead>\n",
       "    <tr style=\"text-align: right;\">\n",
       "      <th></th>\n",
       "      <th>Gender</th>\n",
       "      <th>Age</th>\n",
       "      <th>Debt</th>\n",
       "      <th>Married</th>\n",
       "      <th>BankCustomer</th>\n",
       "      <th>EducationLevel</th>\n",
       "      <th>Ethnicity</th>\n",
       "      <th>YearsEmployed</th>\n",
       "      <th>PriorDefaulter</th>\n",
       "      <th>Employed</th>\n",
       "      <th>CreditScore</th>\n",
       "      <th>DriversLicense</th>\n",
       "      <th>Citizen</th>\n",
       "      <th>ZipCode</th>\n",
       "      <th>Income</th>\n",
       "      <th>Approved</th>\n",
       "    </tr>\n",
       "  </thead>\n",
       "  <tbody>\n",
       "    <tr>\n",
       "      <th>0</th>\n",
       "      <td>b</td>\n",
       "      <td>30.83</td>\n",
       "      <td>0.000</td>\n",
       "      <td>u</td>\n",
       "      <td>g</td>\n",
       "      <td>w</td>\n",
       "      <td>v</td>\n",
       "      <td>1.25</td>\n",
       "      <td>t</td>\n",
       "      <td>t</td>\n",
       "      <td>1</td>\n",
       "      <td>f</td>\n",
       "      <td>g</td>\n",
       "      <td>00202</td>\n",
       "      <td>0</td>\n",
       "      <td>+</td>\n",
       "    </tr>\n",
       "    <tr>\n",
       "      <th>1</th>\n",
       "      <td>a</td>\n",
       "      <td>58.67</td>\n",
       "      <td>4.460</td>\n",
       "      <td>u</td>\n",
       "      <td>g</td>\n",
       "      <td>q</td>\n",
       "      <td>h</td>\n",
       "      <td>3.04</td>\n",
       "      <td>t</td>\n",
       "      <td>t</td>\n",
       "      <td>6</td>\n",
       "      <td>f</td>\n",
       "      <td>g</td>\n",
       "      <td>00043</td>\n",
       "      <td>560</td>\n",
       "      <td>+</td>\n",
       "    </tr>\n",
       "    <tr>\n",
       "      <th>2</th>\n",
       "      <td>a</td>\n",
       "      <td>24.50</td>\n",
       "      <td>0.500</td>\n",
       "      <td>u</td>\n",
       "      <td>g</td>\n",
       "      <td>q</td>\n",
       "      <td>h</td>\n",
       "      <td>1.50</td>\n",
       "      <td>t</td>\n",
       "      <td>f</td>\n",
       "      <td>0</td>\n",
       "      <td>f</td>\n",
       "      <td>g</td>\n",
       "      <td>00280</td>\n",
       "      <td>824</td>\n",
       "      <td>+</td>\n",
       "    </tr>\n",
       "    <tr>\n",
       "      <th>3</th>\n",
       "      <td>b</td>\n",
       "      <td>27.83</td>\n",
       "      <td>1.540</td>\n",
       "      <td>u</td>\n",
       "      <td>g</td>\n",
       "      <td>w</td>\n",
       "      <td>v</td>\n",
       "      <td>3.75</td>\n",
       "      <td>t</td>\n",
       "      <td>t</td>\n",
       "      <td>5</td>\n",
       "      <td>t</td>\n",
       "      <td>g</td>\n",
       "      <td>00100</td>\n",
       "      <td>3</td>\n",
       "      <td>+</td>\n",
       "    </tr>\n",
       "    <tr>\n",
       "      <th>4</th>\n",
       "      <td>b</td>\n",
       "      <td>20.17</td>\n",
       "      <td>5.625</td>\n",
       "      <td>u</td>\n",
       "      <td>g</td>\n",
       "      <td>w</td>\n",
       "      <td>v</td>\n",
       "      <td>1.71</td>\n",
       "      <td>t</td>\n",
       "      <td>f</td>\n",
       "      <td>0</td>\n",
       "      <td>f</td>\n",
       "      <td>s</td>\n",
       "      <td>00120</td>\n",
       "      <td>0</td>\n",
       "      <td>+</td>\n",
       "    </tr>\n",
       "  </tbody>\n",
       "</table>\n",
       "</div>"
      ],
      "text/plain": [
       "  Gender    Age   Debt Married BankCustomer EducationLevel Ethnicity  \\\n",
       "0      b  30.83  0.000       u            g              w         v   \n",
       "1      a  58.67  4.460       u            g              q         h   \n",
       "2      a  24.50  0.500       u            g              q         h   \n",
       "3      b  27.83  1.540       u            g              w         v   \n",
       "4      b  20.17  5.625       u            g              w         v   \n",
       "\n",
       "   YearsEmployed PriorDefaulter Employed  CreditScore DriversLicense Citizen  \\\n",
       "0           1.25              t        t            1              f       g   \n",
       "1           3.04              t        t            6              f       g   \n",
       "2           1.50              t        f            0              f       g   \n",
       "3           3.75              t        t            5              t       g   \n",
       "4           1.71              t        f            0              f       s   \n",
       "\n",
       "  ZipCode  Income Approved  \n",
       "0   00202       0        +  \n",
       "1   00043     560        +  \n",
       "2   00280     824        +  \n",
       "3   00100       3        +  \n",
       "4   00120       0        +  "
      ]
     },
     "execution_count": 22,
     "metadata": {},
     "output_type": "execute_result"
    }
   ],
   "source": [
    "cc_df.head(5)"
   ]
  },
  {
   "cell_type": "code",
   "execution_count": 23,
   "metadata": {},
   "outputs": [],
   "source": [
    "# Saved the names DataFrame into a file\n",
    "cc_df.to_csv('../datasets/crx.data_named.csv')"
   ]
  },
  {
   "cell_type": "code",
   "execution_count": 26,
   "metadata": {},
   "outputs": [
    {
     "name": "stdout",
     "output_type": "stream",
     "text": [
      "Column id:   0 \tName: Gender       \tDataType: object\n",
      "Column id:   1 \tName: Age          \tDataType: object\n",
      "Column id:   2 \tName: Debt         \tDataType: float64\n",
      "Column id:   3 \tName: Married      \tDataType: object\n",
      "Column id:   4 \tName: BankCustomer \tDataType: object\n",
      "Column id:   5 \tName: EducationLevel \tDataType: object\n",
      "Column id:   6 \tName: Ethnicity    \tDataType: object\n",
      "Column id:   7 \tName: YearsEmployed \tDataType: float64\n",
      "Column id:   8 \tName: PriorDefaulter \tDataType: object\n",
      "Column id:   9 \tName: Employed     \tDataType: object\n",
      "Column id:  10 \tName: CreditScore  \tDataType: int64\n",
      "Column id:  11 \tName: DriversLicense \tDataType: object\n",
      "Column id:  12 \tName: Citizen      \tDataType: object\n",
      "Column id:  13 \tName: ZipCode      \tDataType: object\n",
      "Column id:  14 \tName: Income       \tDataType: int64\n",
      "Column id:  15 \tName: Approved     \tDataType: object\n"
     ]
    }
   ],
   "source": [
    "# Show Features and their Data types \n",
    "show_features_datatypes(cc_df)"
   ]
  },
  {
   "cell_type": "code",
   "execution_count": 27,
   "metadata": {},
   "outputs": [
    {
     "name": "stdout",
     "output_type": "stream",
     "text": [
      "There are 0 duplicated rows in the dataset.\n"
     ]
    }
   ],
   "source": [
    "drop_duplicate_rows(cc_df)"
   ]
  },
  {
   "cell_type": "markdown",
   "metadata": {},
   "source": [
    "Let's get an overview of the complete dataframe. "
   ]
  },
  {
   "cell_type": "code",
   "execution_count": 28,
   "metadata": {},
   "outputs": [
    {
     "name": "stdout",
     "output_type": "stream",
     "text": [
      "<class 'pandas.core.frame.DataFrame'>\n",
      "RangeIndex: 690 entries, 0 to 689\n",
      "Data columns (total 16 columns):\n",
      " #   Column          Non-Null Count  Dtype  \n",
      "---  ------          --------------  -----  \n",
      " 0   Gender          690 non-null    object \n",
      " 1   Age             690 non-null    object \n",
      " 2   Debt            690 non-null    float64\n",
      " 3   Married         690 non-null    object \n",
      " 4   BankCustomer    690 non-null    object \n",
      " 5   EducationLevel  690 non-null    object \n",
      " 6   Ethnicity       690 non-null    object \n",
      " 7   YearsEmployed   690 non-null    float64\n",
      " 8   PriorDefaulter  690 non-null    object \n",
      " 9   Employed        690 non-null    object \n",
      " 10  CreditScore     690 non-null    int64  \n",
      " 11  DriversLicense  690 non-null    object \n",
      " 12  Citizen         690 non-null    object \n",
      " 13  ZipCode         690 non-null    object \n",
      " 14  Income          690 non-null    int64  \n",
      " 15  Approved        690 non-null    object \n",
      "dtypes: float64(2), int64(2), object(12)\n",
      "memory usage: 86.4+ KB\n"
     ]
    }
   ],
   "source": [
    "cc_df.info()"
   ]
  },
  {
   "cell_type": "markdown",
   "metadata": {},
   "source": [
    "Now, there are no missing values in any attribute of the dataframe. Features are distributed as below:\n",
    "- 2 Float datatypes\n",
    "- 2 Integer datatypes\n",
    "- 12 Object datatypes"
   ]
  },
  {
   "cell_type": "markdown",
   "metadata": {},
   "source": [
    "Now, let's check each attribute in detail. Details on `Quality` or `Tidiness` issues are documented here. "
   ]
  },
  {
   "cell_type": "markdown",
   "metadata": {},
   "source": [
    "***"
   ]
  },
  {
   "cell_type": "markdown",
   "metadata": {},
   "source": [
    "- **Gender** of any human is generally identified as either Male, Female or Neutral. In here, we only consider two options for Gender (either Male or Female)."
   ]
  },
  {
   "cell_type": "code",
   "execution_count": 37,
   "metadata": {},
   "outputs": [
    {
     "name": "stdout",
     "output_type": "stream",
     "text": [
      " Details of feature: Gender\n",
      "         - datatype: object\n",
      "         - col.size: (690,)\n",
      "         - NaN.vals: 0\n",
      "         - uniqvals: ['b', 'a']\n",
      "         - cnt.vals: [480, 210]\n"
     ]
    }
   ],
   "source": [
    "show_feature_summary(cc_df, 'Gender')"
   ]
  },
  {
   "cell_type": "markdown",
   "metadata": {},
   "source": [
    "Since, gender is a categorical variable. Missing values ('?') in the Gender feature are replaced with the max. occurance value. "
   ]
  },
  {
   "cell_type": "code",
   "execution_count": 38,
   "metadata": {},
   "outputs": [
    {
     "name": "stdout",
     "output_type": "stream",
     "text": [
      " Details of column: Gender\n",
      "        - >>>Error: ?\n"
     ]
    }
   ],
   "source": [
    "# Replace '?' with max.occurance of Gender - call to replace_feature_missingvalues\n",
    "replace_feature_missingvalues(cc_df, 'Gender', '?')"
   ]
  },
  {
   "cell_type": "code",
   "execution_count": 45,
   "metadata": {},
   "outputs": [
    {
     "name": "stdout",
     "output_type": "stream",
     "text": [
      " Details of feature: Gender\n",
      "         - datatype: object\n",
      "         - col.size: (690,)\n",
      "         - NaN.vals: 0\n",
      "         - uniqvals: ['b', 'a']\n",
      "         - cnt.vals: [480, 210]\n"
     ]
    }
   ],
   "source": [
    "show_feature_summary(cc_df, 'Gender')"
   ]
  },
  {
   "cell_type": "markdown",
   "metadata": {},
   "source": [
    "- Common sense suggests that **Age** attribute should be an float datatype. But, looks like it is an Object datatype instead. In Pandas, missing values such as '?' can alter the data type to an object. "
   ]
  },
  {
   "cell_type": "code",
   "execution_count": 46,
   "metadata": {
    "scrolled": true
   },
   "outputs": [
    {
     "name": "stdout",
     "output_type": "stream",
     "text": [
      " Details of feature: Age\n",
      "         - datatype: float64\n",
      "         - col.size: (690,)\n",
      "         - NaN.vals: 0\n",
      "         - uniqvals: [31.019159420289856, 22.67, 20.42, 24.5, 22.5, 25.0, 18.83, 20.67, 23.58, 19.17, 27.67, 27.83, 33.17, 23.25, 23.08, 23.0, 25.17, 35.17, 34.17, 41.17, 28.58, 26.17, 32.33, 27.25, 24.58, 26.67, 29.5, 23.5, 20.75, 25.67, 20.0, 22.92, 24.75, 22.08, 36.75, 20.83, 29.58, 18.58, 19.42, 32.25, 21.83, 36.17, 17.92, 16.33, 22.17, 34.83, 23.92, 28.17, 39.17, 19.58, 20.5, 28.25, 36.67, 25.75, 21.5, 34.0, 28.75, 37.5, 22.75, 31.25, 20.17, 25.25, 27.58, 26.75, 19.5, 22.25, 23.75, 30.17, 18.17, 40.58, 19.67, 37.33, 28.67, 21.17, 21.92, 18.08, 40.92, 21.08, 29.83, 33.58, 23.42, 24.08, 34.08, 39.92, 17.08, 48.17, 20.08, 33.67, 22.58, 23.17, 31.67, 39.08, 39.5, 25.08, 48.58, 31.08, 45.0, 16.25, 25.58, 36.33, 21.75, 31.83, 47.42, 21.25, 29.67, 27.0, 48.08, 27.42, 17.58, 32.0, 28.0, 16.5, 51.83, 18.25, 34.92, 44.33, 24.42, 24.83, 17.67, 25.33, 38.92, 16.08, 30.67, 22.0, 32.67, 21.0, 34.42, 15.83, 64.08, 21.33, 18.42, 35.0, 26.92, 38.58, 23.33, 25.42, 19.33, 16.0, 40.33, 21.67, 19.0, 38.25, 22.42, 34.75, 42.0, 28.92, 47.67, 28.5, 29.25, 35.75, 33.25, 31.92, 39.58, 48.75, 27.75, 42.75, 29.42, 16.92, 40.83, 18.92, 33.08, 52.5, 41.0, 57.08, 32.42, 34.25, 24.33, 41.33, 43.25, 30.58, 43.17, 32.75, 42.83, 44.25, 35.25, 33.75, 32.08, 22.83, 37.75, 41.58, 15.92, 26.5, 34.67, 21.42, 51.42, 39.0, 17.42, 56.58, 43.0, 49.5, 15.75, 47.83, 42.5, 38.33, 36.42, 37.42, 47.0, 36.5, 13.75, 48.5, 21.58, 59.5, 30.0, 20.25, 46.0, 29.75, 36.0, 17.25, 19.75, 18.0, 54.83, 18.5, 29.92, 18.75, 33.5, 57.58, 34.5, 47.33, 40.0, 56.0, 41.42, 16.17, 30.83, 44.0, 56.5, 30.08, 62.5, 31.75, 49.0, 41.5, 31.0, 26.25, 33.0, 30.25, 26.0, 30.5, 25.5, 49.58, 30.75, 39.42, 26.33, 17.5, 60.08, 46.67, 32.17, 54.33, 74.83, 60.92, 40.25, 48.25, 41.75, 27.17, 36.25, 58.67, 56.75, 58.33, 25.92, 47.75, 76.75, 53.33, 27.33, 73.42, 36.08, 30.42, 37.17, 24.17, 39.83, 53.92, 24.92, 52.17, 56.42, 50.75, 22.33, 37.58, 41.92, 32.92, 48.33, 26.58, 35.42, 35.58, 52.42, 69.17, 57.83, 45.17, 63.33, 51.58, 62.75, 42.17, 47.17, 36.58, 50.25, 38.75, 42.25, 55.75, 39.25, 47.25, 69.5, 54.58, 31.33, 49.83, 55.92, 57.42, 80.25, 58.42, 45.83, 29.17, 31.42, 44.17, 45.33, 58.58, 25.83, 18.33, 68.67, 38.67, 39.33, 38.17, 42.08, 52.33, 59.67, 43.08, 28.08, 49.17, 51.92, 71.58, 52.83, 28.33, 32.83, 26.83, 67.75, 51.33, 38.42, 30.33, 15.17, 65.42, 33.92, 65.17, 54.42, 26.08, 46.08, 28.42, 56.83, 18.67, 31.58, 17.33, 17.83, 44.83, 60.58, 50.08, 34.58, 20.33]\n",
      "         - cnt.vals: [12, 9, 7, 6, 6, 6, 6, 6, 6, 6, 5, 5, 5, 5, 5, 5, 4, 4, 4, 4, 4, 4, 4, 4, 4, 4, 4, 4, 4, 4, 4, 4, 4, 4, 3, 3, 3, 3, 3, 3, 3, 3, 3, 3, 3, 3, 3, 3, 3, 3, 3, 3, 3, 3, 3, 3, 3, 3, 3, 3, 3, 3, 3, 3, 3, 3, 3, 3, 3, 3, 3, 3, 3, 3, 3, 3, 3, 3, 3, 3, 3, 3, 3, 3, 3, 3, 3, 3, 3, 3, 2, 2, 2, 2, 2, 2, 2, 2, 2, 2, 2, 2, 2, 2, 2, 2, 2, 2, 2, 2, 2, 2, 2, 2, 2, 2, 2, 2, 2, 2, 2, 2, 2, 2, 2, 2, 2, 2, 2, 2, 2, 2, 2, 2, 2, 2, 2, 2, 2, 2, 2, 2, 2, 2, 2, 2, 2, 2, 2, 2, 2, 2, 2, 2, 2, 2, 2, 2, 2, 2, 2, 2, 2, 2, 2, 2, 2, 2, 2, 2, 2, 2, 2, 2, 2, 2, 2, 2, 2, 2, 1, 1, 1, 1, 1, 1, 1, 1, 1, 1, 1, 1, 1, 1, 1, 1, 1, 1, 1, 1, 1, 1, 1, 1, 1, 1, 1, 1, 1, 1, 1, 1, 1, 1, 1, 1, 1, 1, 1, 1, 1, 1, 1, 1, 1, 1, 1, 1, 1, 1, 1, 1, 1, 1, 1, 1, 1, 1, 1, 1, 1, 1, 1, 1, 1, 1, 1, 1, 1, 1, 1, 1, 1, 1, 1, 1, 1, 1, 1, 1, 1, 1, 1, 1, 1, 1, 1, 1, 1, 1, 1, 1, 1, 1, 1, 1, 1, 1, 1, 1, 1, 1, 1, 1, 1, 1, 1, 1, 1, 1, 1, 1, 1, 1, 1, 1, 1, 1, 1, 1, 1, 1, 1, 1, 1, 1, 1, 1, 1, 1, 1, 1, 1, 1, 1, 1, 1, 1, 1, 1, 1, 1, 1, 1, 1, 1, 1, 1, 1, 1, 1, 1, 1, 1, 1, 1, 1, 1, 1, 1, 1, 1, 1, 1, 1, 1, 1, 1, 1, 1]\n"
     ]
    }
   ],
   "source": [
    "show_feature_summary(cc_df, 'Age')"
   ]
  },
  {
   "cell_type": "markdown",
   "metadata": {},
   "source": [
    "Let's replace the missing value '?' and set the datatype of Age feature to float."
   ]
  },
  {
   "cell_type": "code",
   "execution_count": 48,
   "metadata": {
    "scrolled": true
   },
   "outputs": [
    {
     "name": "stdout",
     "output_type": "stream",
     "text": [
      " Details of column: Age\n",
      "        - dtype(o): float64\n",
      "        - dtype(n): float64\n"
     ]
    }
   ],
   "source": [
    "# Replace '?' with mean age of applicants in the dataset & change datatype to integer\n",
    "cc_df.Age.replace('?', 0.0, inplace=True)\n",
    "change_feature_datatype(cc_df, 'Age', float)\n",
    "replace_feature_missingvalues(cc_df, 'Age', 0.0)"
   ]
  },
  {
   "cell_type": "code",
   "execution_count": 50,
   "metadata": {},
   "outputs": [
    {
     "name": "stdout",
     "output_type": "stream",
     "text": [
      " Details of feature: Age\n",
      "         - datatype: float64\n",
      "         - col.size: (690,)\n",
      "         - NaN.vals: 0\n",
      "         - uniqvals: [31.019159420289856, 22.67, 20.42, 24.5, 22.5, 25.0, 18.83, 20.67, 23.58, 19.17, 27.67, 27.83, 33.17, 23.25, 23.08, 23.0, 25.17, 35.17, 34.17, 41.17, 28.58, 26.17, 32.33, 27.25, 24.58, 26.67, 29.5, 23.5, 20.75, 25.67, 20.0, 22.92, 24.75, 22.08, 36.75, 20.83, 29.58, 18.58, 19.42, 32.25, 21.83, 36.17, 17.92, 16.33, 22.17, 34.83, 23.92, 28.17, 39.17, 19.58, 20.5, 28.25, 36.67, 25.75, 21.5, 34.0, 28.75, 37.5, 22.75, 31.25, 20.17, 25.25, 27.58, 26.75, 19.5, 22.25, 23.75, 30.17, 18.17, 40.58, 19.67, 37.33, 28.67, 21.17, 21.92, 18.08, 40.92, 21.08, 29.83, 33.58, 23.42, 24.08, 34.08, 39.92, 17.08, 48.17, 20.08, 33.67, 22.58, 23.17, 31.67, 39.08, 39.5, 25.08, 48.58, 31.08, 45.0, 16.25, 25.58, 36.33, 21.75, 31.83, 47.42, 21.25, 29.67, 27.0, 48.08, 27.42, 17.58, 32.0, 28.0, 16.5, 51.83, 18.25, 34.92, 44.33, 24.42, 24.83, 17.67, 25.33, 38.92, 16.08, 30.67, 22.0, 32.67, 21.0, 34.42, 15.83, 64.08, 21.33, 18.42, 35.0, 26.92, 38.58, 23.33, 25.42, 19.33, 16.0, 40.33, 21.67, 19.0, 38.25, 22.42, 34.75, 42.0, 28.92, 47.67, 28.5, 29.25, 35.75, 33.25, 31.92, 39.58, 48.75, 27.75, 42.75, 29.42, 16.92, 40.83, 18.92, 33.08, 52.5, 41.0, 57.08, 32.42, 34.25, 24.33, 41.33, 43.25, 30.58, 43.17, 32.75, 42.83, 44.25, 35.25, 33.75, 32.08, 22.83, 37.75, 41.58, 15.92, 26.5, 34.67, 21.42, 51.42, 39.0, 17.42, 56.58, 43.0, 49.5, 15.75, 47.83, 42.5, 38.33, 36.42, 37.42, 47.0, 36.5, 13.75, 48.5, 21.58, 59.5, 30.0, 20.25, 46.0, 29.75, 36.0, 17.25, 19.75, 18.0, 54.83, 18.5, 29.92, 18.75, 33.5, 57.58, 34.5, 47.33, 40.0, 56.0, 41.42, 16.17, 30.83, 44.0, 56.5, 30.08, 62.5, 31.75, 49.0, 41.5, 31.0, 26.25, 33.0, 30.25, 26.0, 30.5, 25.5, 49.58, 30.75, 39.42, 26.33, 17.5, 60.08, 46.67, 32.17, 54.33, 74.83, 60.92, 40.25, 48.25, 41.75, 27.17, 36.25, 58.67, 56.75, 58.33, 25.92, 47.75, 76.75, 53.33, 27.33, 73.42, 36.08, 30.42, 37.17, 24.17, 39.83, 53.92, 24.92, 52.17, 56.42, 50.75, 22.33, 37.58, 41.92, 32.92, 48.33, 26.58, 35.42, 35.58, 52.42, 69.17, 57.83, 45.17, 63.33, 51.58, 62.75, 42.17, 47.17, 36.58, 50.25, 38.75, 42.25, 55.75, 39.25, 47.25, 69.5, 54.58, 31.33, 49.83, 55.92, 57.42, 80.25, 58.42, 45.83, 29.17, 31.42, 44.17, 45.33, 58.58, 25.83, 18.33, 68.67, 38.67, 39.33, 38.17, 42.08, 52.33, 59.67, 43.08, 28.08, 49.17, 51.92, 71.58, 52.83, 28.33, 32.83, 26.83, 67.75, 51.33, 38.42, 30.33, 15.17, 65.42, 33.92, 65.17, 54.42, 26.08, 46.08, 28.42, 56.83, 18.67, 31.58, 17.33, 17.83, 44.83, 60.58, 50.08, 34.58, 20.33]\n",
      "         - cnt.vals: [12, 9, 7, 6, 6, 6, 6, 6, 6, 6, 5, 5, 5, 5, 5, 5, 4, 4, 4, 4, 4, 4, 4, 4, 4, 4, 4, 4, 4, 4, 4, 4, 4, 4, 3, 3, 3, 3, 3, 3, 3, 3, 3, 3, 3, 3, 3, 3, 3, 3, 3, 3, 3, 3, 3, 3, 3, 3, 3, 3, 3, 3, 3, 3, 3, 3, 3, 3, 3, 3, 3, 3, 3, 3, 3, 3, 3, 3, 3, 3, 3, 3, 3, 3, 3, 3, 3, 3, 3, 3, 2, 2, 2, 2, 2, 2, 2, 2, 2, 2, 2, 2, 2, 2, 2, 2, 2, 2, 2, 2, 2, 2, 2, 2, 2, 2, 2, 2, 2, 2, 2, 2, 2, 2, 2, 2, 2, 2, 2, 2, 2, 2, 2, 2, 2, 2, 2, 2, 2, 2, 2, 2, 2, 2, 2, 2, 2, 2, 2, 2, 2, 2, 2, 2, 2, 2, 2, 2, 2, 2, 2, 2, 2, 2, 2, 2, 2, 2, 2, 2, 2, 2, 2, 2, 2, 2, 2, 2, 2, 2, 1, 1, 1, 1, 1, 1, 1, 1, 1, 1, 1, 1, 1, 1, 1, 1, 1, 1, 1, 1, 1, 1, 1, 1, 1, 1, 1, 1, 1, 1, 1, 1, 1, 1, 1, 1, 1, 1, 1, 1, 1, 1, 1, 1, 1, 1, 1, 1, 1, 1, 1, 1, 1, 1, 1, 1, 1, 1, 1, 1, 1, 1, 1, 1, 1, 1, 1, 1, 1, 1, 1, 1, 1, 1, 1, 1, 1, 1, 1, 1, 1, 1, 1, 1, 1, 1, 1, 1, 1, 1, 1, 1, 1, 1, 1, 1, 1, 1, 1, 1, 1, 1, 1, 1, 1, 1, 1, 1, 1, 1, 1, 1, 1, 1, 1, 1, 1, 1, 1, 1, 1, 1, 1, 1, 1, 1, 1, 1, 1, 1, 1, 1, 1, 1, 1, 1, 1, 1, 1, 1, 1, 1, 1, 1, 1, 1, 1, 1, 1, 1, 1, 1, 1, 1, 1, 1, 1, 1, 1, 1, 1, 1, 1, 1, 1, 1, 1, 1, 1, 1]\n"
     ]
    }
   ],
   "source": [
    "show_feature_summary(cc_df,'Age')"
   ]
  },
  {
   "cell_type": "markdown",
   "metadata": {},
   "source": [
    "- **Debt** should also be of float datatype. Let's see if there are any missing values in that column."
   ]
  },
  {
   "cell_type": "code",
   "execution_count": 52,
   "metadata": {},
   "outputs": [
    {
     "name": "stdout",
     "output_type": "stream",
     "text": [
      " Details of feature: Debt\n",
      "         - datatype: float64\n",
      "         - col.size: (690,)\n",
      "         - NaN.vals: 0\n",
      "         - uniqvals: [1.5, 0.0, 3.0, 2.5, 1.25, 0.75, 0.5, 5.0, 4.0, 1.75, 6.5, 2.0, 10.0, 1.0, 0.585, 0.375, 11.0, 3.5, 0.54, 7.0, 12.5, 0.835, 0.165, 11.5, 5.5, 9.0, 2.75, 4.25, 15.0, 1.54, 6.0, 0.335, 0.875, 0.29, 0.25, 1.04, 2.04, 4.5, 10.5, 12.0, 0.125, 8.5, 9.5, 0.04, 3.75, 2.25, 2.54, 1.125, 1.835, 0.415, 0.46, 0.79, 1.665, 0.665, 3.165, 7.5, 2.71, 1.585, 3.25, 4.46, 4.415, 1.335, 0.205, 14.5, 1.085, 2.335, 9.25, 13.0, 2.415, 1.625, 13.5, 11.25, 0.625, 1.71, 0.83, 0.21, 8.0, 5.085, 0.42, 5.875, 14.0, 2.165, 7.625, 2.875, 3.125, 10.125, 10.25, 5.125, 1.165, 4.625, 19.5, 11.75, 6.75, 19.0, 12.75, 15.5, 1.375, 16.5, 9.54, 2.29, 5.29, 2.085, 5.04, 3.29, 4.085, 3.54, 0.58, 3.04, 4.04, 6.21, 4.71, 12.54, 16.165, 4.79, 1.21, 9.75, 6.04, 25.085, 0.17, 2.46, 4.165, 13.665, 14.79, 12.25, 0.67, 8.585, 6.665, 11.585, 11.665, 2.835, 26.335, 25.21, 9.96, 11.045, 5.625, 9.335, 3.085, 22.29, 11.46, 0.705, 7.04, 9.415, 13.335, 1.46, 4.585, 10.335, 9.585, 18.5, 10.415, 5.665, 10.75, 10.085, 8.665, 8.17, 28.0, 7.08, 1.79, 11.625, 5.835, 18.125, 0.08, 4.125, 17.75, 20.0, 5.25, 4.75, 6.165, 10.29, 3.625, 7.25, 3.375, 3.79, 10.21, 0.085, 7.835, 5.71, 10.665, 1.08, 2.21, 0.915, 10.04, 3.335, 1.29, 7.54, 7.585, 0.96, 8.125, 12.33, 9.17, 6.625, 16.0, 25.125, 13.585, 9.79, 1.415, 8.46, 0.71, 14.585, 5.415, 11.835, 2.125, 9.625, 4.915, 13.75, 21.0, 12.335, 21.5, 11.125, 12.625, 2.665, 12.125, 13.915, 22.0, 12.835, 10.915]\n",
      "         - cnt.vals: [21, 19, 19, 19, 16, 16, 15, 14, 12, 12, 12, 10, 10, 10, 10, 9, 9, 8, 8, 8, 8, 8, 8, 8, 8, 7, 7, 6, 6, 6, 6, 6, 6, 6, 6, 6, 6, 5, 5, 5, 5, 5, 5, 5, 5, 5, 4, 4, 4, 4, 4, 4, 4, 4, 4, 4, 4, 4, 3, 3, 3, 3, 3, 3, 3, 3, 3, 3, 3, 3, 3, 3, 3, 3, 3, 3, 2, 2, 2, 2, 2, 2, 2, 2, 2, 2, 2, 2, 2, 2, 2, 2, 2, 2, 2, 2, 2, 2, 2, 2, 2, 2, 2, 2, 2, 2, 2, 2, 2, 1, 1, 1, 1, 1, 1, 1, 1, 1, 1, 1, 1, 1, 1, 1, 1, 1, 1, 1, 1, 1, 1, 1, 1, 1, 1, 1, 1, 1, 1, 1, 1, 1, 1, 1, 1, 1, 1, 1, 1, 1, 1, 1, 1, 1, 1, 1, 1, 1, 1, 1, 1, 1, 1, 1, 1, 1, 1, 1, 1, 1, 1, 1, 1, 1, 1, 1, 1, 1, 1, 1, 1, 1, 1, 1, 1, 1, 1, 1, 1, 1, 1, 1, 1, 1, 1, 1, 1, 1, 1, 1, 1, 1, 1, 1, 1, 1, 1, 1, 1, 1, 1, 1, 1, 1, 1]\n"
     ]
    }
   ],
   "source": [
    "show_feature_summary(cc_df, 'Debt')"
   ]
  },
  {
   "cell_type": "markdown",
   "metadata": {},
   "source": [
    "Looks like there are no missing values. But, wait, why are the debt values so low? The debt must be in different units. Let's apply describe method on Debt column and gain some statistical information. Looks like the mean debt of applicants in around 4.75, with max debt of 28. Definitely, this value can't be in dollars. It must be in thousands of dollars. "
   ]
  },
  {
   "cell_type": "code",
   "execution_count": 54,
   "metadata": {},
   "outputs": [
    {
     "data": {
      "text/plain": [
       "count    690.000000\n",
       "mean       4.758725\n",
       "std        4.978163\n",
       "min        0.000000\n",
       "25%        1.000000\n",
       "50%        2.750000\n",
       "75%        7.207500\n",
       "max       28.000000\n",
       "Name: Debt, dtype: float64"
      ]
     },
     "execution_count": 54,
     "metadata": {},
     "output_type": "execute_result"
    }
   ],
   "source": [
    "cc_df.Debt.describe()"
   ]
  },
  {
   "cell_type": "markdown",
   "metadata": {},
   "source": [
    "- **Marriage** attribute should reflect the marital status of each applicant. Since the details are masked, we can't make a firm decision on missing values. Here, since the column is Catergorical, we replace the missing values with most.occurance value.  "
   ]
  },
  {
   "cell_type": "code",
   "execution_count": 55,
   "metadata": {},
   "outputs": [
    {
     "name": "stdout",
     "output_type": "stream",
     "text": [
      " Details of feature: Married\n",
      "         - datatype: object\n",
      "         - col.size: (690,)\n",
      "         - NaN.vals: 0\n",
      "         - uniqvals: ['u', 'y', '?', 'l']\n",
      "         - cnt.vals: [519, 163, 6, 2]\n"
     ]
    }
   ],
   "source": [
    "show_feature_summary(cc_df, 'Married')"
   ]
  },
  {
   "cell_type": "code",
   "execution_count": 56,
   "metadata": {},
   "outputs": [
    {
     "name": "stdout",
     "output_type": "stream",
     "text": [
      " Details of column: Married\n",
      "        - dtype(o): object\n",
      "        - dtype(n): object\n",
      " Details of column: Married\n",
      "      - uniqval(o): ['u', 'y', '?', 'l']\n",
      "      - cnt.val(o): [519, 163, 6, 2]\n",
      "      - uniqval(n): ['u', 'y', 'l']\n",
      "      - cnt.val(n): [525, 163, 2]\n"
     ]
    }
   ],
   "source": [
    "# Change Married datatype from int to object and fix ?\n",
    "change_feature_datatype(cc_df, 'Married', object)\n",
    "replace_feature_missingvalues(cc_df, 'Married', '?')"
   ]
  },
  {
   "cell_type": "code",
   "execution_count": 58,
   "metadata": {},
   "outputs": [
    {
     "name": "stdout",
     "output_type": "stream",
     "text": [
      " Details of feature: Married\n",
      "         - datatype: object\n",
      "         - col.size: (690,)\n",
      "         - NaN.vals: 0\n",
      "         - uniqvals: ['u', 'y', 'l']\n",
      "         - cnt.vals: [525, 163, 2]\n"
     ]
    }
   ],
   "source": [
    "show_feature_summary(cc_df, 'Married')"
   ]
  },
  {
   "cell_type": "markdown",
   "metadata": {},
   "source": [
    "- **BankCustomer** attribute should be a simple yes, no or maybe type answer. Let's see."
   ]
  },
  {
   "cell_type": "code",
   "execution_count": 59,
   "metadata": {},
   "outputs": [
    {
     "name": "stdout",
     "output_type": "stream",
     "text": [
      " Details of feature: BankCustomer\n",
      "         - datatype: object\n",
      "         - col.size: (690,)\n",
      "         - NaN.vals: 0\n",
      "         - uniqvals: ['g', 'p', '?', 'gg']\n",
      "         - cnt.vals: [519, 163, 6, 2]\n"
     ]
    }
   ],
   "source": [
    "show_feature_summary(cc_df, 'BankCustomer')"
   ]
  },
  {
   "cell_type": "code",
   "execution_count": 61,
   "metadata": {},
   "outputs": [
    {
     "name": "stdout",
     "output_type": "stream",
     "text": [
      " Details of column: BankCustomer\n",
      "      - uniqval(o): ['g', 'p', '?', 'gg']\n",
      "      - cnt.val(o): [519, 163, 6, 2]\n",
      "      - uniqval(n): ['g', 'p', 'gg']\n",
      "      - cnt.val(n): [525, 163, 2]\n"
     ]
    }
   ],
   "source": [
    "# fix '?' missing data in BankCustomer column\n",
    "replace_feature_missingvalues(cc_df, 'BankCustomer', '?')"
   ]
  },
  {
   "cell_type": "code",
   "execution_count": 62,
   "metadata": {},
   "outputs": [
    {
     "name": "stdout",
     "output_type": "stream",
     "text": [
      " Details of feature: BankCustomer\n",
      "         - datatype: object\n",
      "         - col.size: (690,)\n",
      "         - NaN.vals: 0\n",
      "         - uniqvals: ['g', 'p', 'gg']\n",
      "         - cnt.vals: [525, 163, 2]\n"
     ]
    }
   ],
   "source": [
    "show_feature_summary(cc_df, 'BankCustomer')"
   ]
  },
  {
   "cell_type": "markdown",
   "metadata": {},
   "source": [
    "- **EducationLevel** attribute is definitely a categorical variable. But, let's see how many missing values it carries. "
   ]
  },
  {
   "cell_type": "code",
   "execution_count": 63,
   "metadata": {},
   "outputs": [
    {
     "name": "stdout",
     "output_type": "stream",
     "text": [
      " Details of feature: EducationLevel\n",
      "         - datatype: object\n",
      "         - col.size: (690,)\n",
      "         - NaN.vals: 0\n",
      "         - uniqvals: ['c', 'q', 'w', 'i', 'aa', 'ff', 'k', 'cc', 'm', 'x', 'd', 'e', 'j', '?', 'r']\n",
      "         - cnt.vals: [137, 78, 64, 59, 54, 53, 51, 41, 38, 38, 30, 25, 10, 9, 3]\n"
     ]
    }
   ],
   "source": [
    "show_feature_summary(cc_df, 'EducationLevel')"
   ]
  },
  {
   "cell_type": "code",
   "execution_count": 64,
   "metadata": {},
   "outputs": [
    {
     "name": "stdout",
     "output_type": "stream",
     "text": [
      " Details of column: EducationLevel\n",
      "      - uniqval(o): ['c', 'q', 'w', 'i', 'aa', 'ff', 'k', 'cc', 'm', 'x', 'd', 'e', 'j', '?', 'r']\n",
      "      - cnt.val(o): [137, 78, 64, 59, 54, 53, 51, 41, 38, 38, 30, 25, 10, 9, 3]\n",
      "      - uniqval(n): ['c', 'q', 'w', 'i', 'aa', 'ff', 'k', 'cc', 'm', 'x', 'd', 'e', 'j', 'r']\n",
      "      - cnt.val(n): [146, 78, 64, 59, 54, 53, 51, 41, 38, 38, 30, 25, 10, 3]\n"
     ]
    }
   ],
   "source": [
    "replace_feature_missingvalues(cc_df, 'EducationLevel', '?')"
   ]
  },
  {
   "cell_type": "code",
   "execution_count": 65,
   "metadata": {},
   "outputs": [
    {
     "name": "stdout",
     "output_type": "stream",
     "text": [
      " Details of feature: EducationLevel\n",
      "         - datatype: object\n",
      "         - col.size: (690,)\n",
      "         - NaN.vals: 0\n",
      "         - uniqvals: ['c', 'q', 'w', 'i', 'aa', 'ff', 'k', 'cc', 'm', 'x', 'd', 'e', 'j', 'r']\n",
      "         - cnt.vals: [146, 78, 64, 59, 54, 53, 51, 41, 38, 38, 30, 25, 10, 3]\n"
     ]
    }
   ],
   "source": [
    "show_feature_summary(cc_df, 'EducationLevel')"
   ]
  },
  {
   "cell_type": "markdown",
   "metadata": {},
   "source": [
    "- **Ethnicity** is the next column with object datatype. That's fine! Any missing values? If so, we replace them accordingly."
   ]
  },
  {
   "cell_type": "code",
   "execution_count": 66,
   "metadata": {},
   "outputs": [
    {
     "name": "stdout",
     "output_type": "stream",
     "text": [
      " Details of feature: Ethnicity\n",
      "         - datatype: object\n",
      "         - col.size: (690,)\n",
      "         - NaN.vals: 0\n",
      "         - uniqvals: ['v', 'h', 'bb', 'ff', '?', 'z', 'j', 'dd', 'n', 'o']\n",
      "         - cnt.vals: [399, 138, 59, 57, 9, 8, 8, 6, 4, 2]\n"
     ]
    }
   ],
   "source": [
    "show_feature_summary(cc_df, 'Ethnicity')"
   ]
  },
  {
   "cell_type": "code",
   "execution_count": 67,
   "metadata": {},
   "outputs": [
    {
     "name": "stdout",
     "output_type": "stream",
     "text": [
      " Details of column: Ethnicity\n",
      "      - uniqval(o): ['v', 'h', 'bb', 'ff', '?', 'z', 'j', 'dd', 'n', 'o']\n",
      "      - cnt.val(o): [399, 138, 59, 57, 9, 8, 8, 6, 4, 2]\n",
      "      - uniqval(n): ['v', 'h', 'bb', 'ff', 'z', 'j', 'dd', 'n', 'o']\n",
      "      - cnt.val(n): [408, 138, 59, 57, 8, 8, 6, 4, 2]\n"
     ]
    }
   ],
   "source": [
    "replace_feature_missingvalues(cc_df, 'Ethnicity', '?')"
   ]
  },
  {
   "cell_type": "code",
   "execution_count": 68,
   "metadata": {},
   "outputs": [
    {
     "name": "stdout",
     "output_type": "stream",
     "text": [
      " Details of feature: Ethnicity\n",
      "         - datatype: object\n",
      "         - col.size: (690,)\n",
      "         - NaN.vals: 0\n",
      "         - uniqvals: ['v', 'h', 'bb', 'ff', 'z', 'j', 'dd', 'n', 'o']\n",
      "         - cnt.vals: [408, 138, 59, 57, 8, 8, 6, 4, 2]\n"
     ]
    }
   ],
   "source": [
    "show_feature_summary(cc_df, 'Ethnicity')"
   ]
  },
  {
   "cell_type": "markdown",
   "metadata": {},
   "source": [
    "- **YearsEmployed** should indicate the no. of years an applicant was employed. So, it should be a float. Luckily, with no missing values."
   ]
  },
  {
   "cell_type": "code",
   "execution_count": 70,
   "metadata": {},
   "outputs": [
    {
     "name": "stdout",
     "output_type": "stream",
     "text": [
      " Details of feature: YearsEmployed\n",
      "         - datatype: float64\n",
      "         - col.size: (690,)\n",
      "         - NaN.vals: 0\n",
      "         - uniqvals: [0.0, 0.25, 0.04, 1.0, 0.125, 0.5, 0.085, 1.5, 0.165, 2.5, 2.0, 1.75, 5.0, 3.5, 0.29, 0.75, 3.0, 2.25, 1.25, 0.415, 4.0, 5.5, 0.375, 0.665, 1.085, 0.54, 4.5, 6.5, 0.21, 0.585, 1.585, 0.335, 0.835, 8.5, 10.0, 0.875, 1.625, 7.0, 5.75, 4.25, 1.165, 15.0, 3.25, 7.5, 14.0, 1.415, 2.29, 3.75, 6.0, 2.75, 1.29, 3.085, 1.665, 20.0, 0.625, 1.21, 4.75, 13.875, 5.25, 1.835, 0.96, 2.625, 2.085, 11.0, 8.0, 2.375, 2.585, 12.75, 3.165, 1.375, 2.415, 5.085, 1.335, 12.5, 1.46, 3.04, 11.5, 13.5, 7.875, 14.415, 10.75, 13.0, 7.375, 28.5, 8.625, 0.79, 9.46, 0.46, 7.415, 1.71, 1.54, 2.54, 6.04, 7.585, 8.665, 5.335, 6.29, 0.455, 9.0, 2.71, 5.04, 2.165, 2.79, 5.665, 3.17, 4.58, 8.29, 4.29, 0.795, 2.335, 0.71, 7.96, 5.125, 15.5, 18.0, 4.625, 6.75, 1.875, 16.0, 3.335, 2.46, 2.125, 17.5, 3.125, 4.335, 5.165, 1.96, 3.96, 2.04, 1.04, 4.165, 5.375]\n",
      "         - cnt.vals: [70, 35, 33, 31, 30, 28, 26, 25, 22, 17, 16, 15, 13, 12, 12, 12, 11, 10, 10, 8, 8, 7, 7, 6, 6, 6, 6, 6, 6, 6, 5, 5, 5, 5, 5, 5, 5, 5, 4, 4, 4, 3, 3, 3, 3, 3, 3, 3, 3, 3, 3, 3, 3, 2, 2, 2, 2, 2, 2, 2, 2, 2, 2, 2, 2, 2, 2, 2, 2, 2, 2, 2, 2, 2, 2, 2, 1, 1, 1, 1, 1, 1, 1, 1, 1, 1, 1, 1, 1, 1, 1, 1, 1, 1, 1, 1, 1, 1, 1, 1, 1, 1, 1, 1, 1, 1, 1, 1, 1, 1, 1, 1, 1, 1, 1, 1, 1, 1, 1, 1, 1, 1, 1, 1, 1, 1, 1, 1, 1, 1, 1, 1]\n"
     ]
    }
   ],
   "source": [
    "show_feature_summary(cc_df, 'YearsEmployed')"
   ]
  },
  {
   "cell_type": "markdown",
   "metadata": {},
   "source": [
    "- **PriorDefaulter** is an interesting attribute. Let's venture if the data values are corresponding to data type. No missing data here !"
   ]
  },
  {
   "cell_type": "code",
   "execution_count": 71,
   "metadata": {},
   "outputs": [
    {
     "name": "stdout",
     "output_type": "stream",
     "text": [
      " Details of feature: PriorDefaulter\n",
      "         - datatype: object\n",
      "         - col.size: (690,)\n",
      "         - NaN.vals: 0\n",
      "         - uniqvals: ['t', 'f']\n",
      "         - cnt.vals: [361, 329]\n"
     ]
    }
   ],
   "source": [
    "show_feature_summary(cc_df, 'PriorDefaulter')"
   ]
  },
  {
   "cell_type": "markdown",
   "metadata": {},
   "source": [
    "- **Employed** attribute provides information on if the applicant is currently employed or not? No missing values here too!"
   ]
  },
  {
   "cell_type": "code",
   "execution_count": 72,
   "metadata": {},
   "outputs": [
    {
     "name": "stdout",
     "output_type": "stream",
     "text": [
      " Details of feature: Employed\n",
      "         - datatype: object\n",
      "         - col.size: (690,)\n",
      "         - NaN.vals: 0\n",
      "         - uniqvals: ['f', 't']\n",
      "         - cnt.vals: [395, 295]\n"
     ]
    }
   ],
   "source": [
    "show_feature_summary(cc_df, 'Employed')"
   ]
  },
  {
   "cell_type": "markdown",
   "metadata": {},
   "source": [
    "- **CreditScore** attribute is an feature on every applicant. It typically is in the range 0-800 in North America. Scoring scheme may be different in different countries. So, we don't worry about the overall range. Luckily, there are no missing values....that's good!"
   ]
  },
  {
   "cell_type": "code",
   "execution_count": 73,
   "metadata": {},
   "outputs": [
    {
     "name": "stdout",
     "output_type": "stream",
     "text": [
      " Details of feature: CreditScore\n",
      "         - datatype: int64\n",
      "         - col.size: (690,)\n",
      "         - NaN.vals: 0\n",
      "         - uniqvals: [0, 1, 2, 3, 6, 11, 5, 7, 4, 8, 9, 14, 12, 10, 15, 16, 17, 20, 40, 13, 19, 23, 67]\n",
      "         - cnt.vals: [395, 71, 45, 28, 23, 19, 18, 16, 15, 10, 10, 8, 8, 8, 4, 3, 2, 2, 1, 1, 1, 1, 1]\n"
     ]
    }
   ],
   "source": [
    "show_feature_summary(cc_df, 'CreditScore')"
   ]
  },
  {
   "cell_type": "markdown",
   "metadata": {},
   "source": [
    "- **DriversLicense** is just a personal identification document that is provided for any kind of application. "
   ]
  },
  {
   "cell_type": "code",
   "execution_count": 74,
   "metadata": {},
   "outputs": [
    {
     "name": "stdout",
     "output_type": "stream",
     "text": [
      " Details of feature: DriversLicense\n",
      "         - datatype: object\n",
      "         - col.size: (690,)\n",
      "         - NaN.vals: 0\n",
      "         - uniqvals: ['f', 't']\n",
      "         - cnt.vals: [374, 316]\n"
     ]
    }
   ],
   "source": [
    "show_feature_summary(cc_df, 'DriversLicense')"
   ]
  },
  {
   "cell_type": "markdown",
   "metadata": {},
   "source": [
    "- **Citizen** is just an additional personal information that typically is a character object. No missing values here too!"
   ]
  },
  {
   "cell_type": "code",
   "execution_count": 75,
   "metadata": {},
   "outputs": [
    {
     "name": "stdout",
     "output_type": "stream",
     "text": [
      " Details of feature: Citizen\n",
      "         - datatype: object\n",
      "         - col.size: (690,)\n",
      "         - NaN.vals: 0\n",
      "         - uniqvals: ['g', 's', 'p']\n",
      "         - cnt.vals: [625, 57, 8]\n"
     ]
    }
   ],
   "source": [
    "show_feature_summary(cc_df, 'Citizen')"
   ]
  },
  {
   "cell_type": "markdown",
   "metadata": {},
   "source": [
    "- **ZipCode** provides the information about where a person lives in a city. No missing values here too! I can live with the fact that ZipCode is a string and not a number. At this point, we aren't sure if we can replace missing values '?' with the most. occurance values. But, we will go ahead and replace it for our first analysis. "
   ]
  },
  {
   "cell_type": "code",
   "execution_count": 76,
   "metadata": {},
   "outputs": [
    {
     "name": "stdout",
     "output_type": "stream",
     "text": [
      " Details of feature: ZipCode\n",
      "         - datatype: object\n",
      "         - col.size: (690,)\n",
      "         - NaN.vals: 0\n",
      "         - uniqvals: ['00000', '00200', '00120', '00160', '00100', '00080', '00280', '00180', '00140', '00320', '00240', '?', '00300', '00260', '00060', '00400', '00220', '00360', '00340', '00380', '00144', '00440', '00070', '00132', '00420', '00040', '00232', '00108', '00520', '00128', '00272', '00150', '00096', '00216', '00480', '00460', '00181', '00164', '00290', '00176', '00350', '00370', '00210', '00399', '00050', '00312', '00136', '00168', '00396', '00225', '00110', '00020', '00112', '00092', '00073', '00129', '00500', '00145', '00228', '00130', '00352', '00154', '00088', '00720', '00252', '00560', '00330', '00094', '00550', '00030', '00171', '00487', '00348', '00263', '00239', '00268', '00329', '00443', '00156', '00163', '02000', '00383', '00174', '00086', '00170', '00117', '00276', '00640', '00454', '00099', '00076', '00303', '00510', '00375', '00230', '00356', '00204', '00711', '00292', '00470', '00188', '00024', '00523', '00028', '00253', '00431', '00393', '00432', '00167', '00045', '00254', '00056', '00017', '00928', '00211', '00408', '00369', '00224', '00491', '00411', '00052', '00022', '00121', '00465', '00760', '00680', '00102', '00434', '00256', '00519', '00311', '00029', '00075', '00093', '00422', '00231', '00980', '00455', '00186', '00250', '00372', '00840', '00141', '00274', '00583', '00371', '00515', '00195', '00288', '00021', '00178', '00349', '00208', '00221', '00381', '00202', '00062', '00043', '00410', '00152', '00368', '00049', '00309', '00600', '00212', '00032', '01160', '00450', '00333', '00416', '00395']\n",
      "         - cnt.vals: [132, 35, 35, 34, 30, 30, 22, 18, 16, 14, 14, 13, 13, 11, 9, 9, 9, 7, 7, 5, 4, 4, 4, 4, 4, 4, 4, 4, 4, 3, 3, 3, 3, 3, 3, 3, 3, 3, 3, 3, 2, 2, 2, 2, 2, 2, 2, 2, 2, 2, 2, 2, 2, 2, 2, 2, 2, 2, 2, 2, 2, 2, 2, 2, 2, 2, 2, 1, 1, 1, 1, 1, 1, 1, 1, 1, 1, 1, 1, 1, 1, 1, 1, 1, 1, 1, 1, 1, 1, 1, 1, 1, 1, 1, 1, 1, 1, 1, 1, 1, 1, 1, 1, 1, 1, 1, 1, 1, 1, 1, 1, 1, 1, 1, 1, 1, 1, 1, 1, 1, 1, 1, 1, 1, 1, 1, 1, 1, 1, 1, 1, 1, 1, 1, 1, 1, 1, 1, 1, 1, 1, 1, 1, 1, 1, 1, 1, 1, 1, 1, 1, 1, 1, 1, 1, 1, 1, 1, 1, 1, 1, 1, 1, 1, 1, 1, 1, 1, 1, 1, 1]\n"
     ]
    }
   ],
   "source": [
    "show_feature_summary(cc_df, 'ZipCode')"
   ]
  },
  {
   "cell_type": "code",
   "execution_count": 524,
   "metadata": {},
   "outputs": [
    {
     "name": "stdout",
     "output_type": "stream",
     "text": [
      " Details of column: ZipCode\n",
      "      - uniqval(o): [132, 35, 35, 34, 30, 30, 22, 18, 16, 14, 14, 13, 13, 11, 9, 9, 9, 7, 7, 5, 4, 4, 4, 4, 4, 4, 4, 4, 4, 3, 3, 3, 3, 3, 3, 3, 3, 3, 3, 3, 2, 2, 2, 2, 2, 2, 2, 2, 2, 2, 2, 2, 2, 2, 2, 2, 2, 2, 2, 2, 2, 2, 2, 2, 2, 2, 2, 1, 1, 1, 1, 1, 1, 1, 1, 1, 1, 1, 1, 1, 1, 1, 1, 1, 1, 1, 1, 1, 1, 1, 1, 1, 1, 1, 1, 1, 1, 1, 1, 1, 1, 1, 1, 1, 1, 1, 1, 1, 1, 1, 1, 1, 1, 1, 1, 1, 1, 1, 1, 1, 1, 1, 1, 1, 1, 1, 1, 1, 1, 1, 1, 1, 1, 1, 1, 1, 1, 1, 1, 1, 1, 1, 1, 1, 1, 1, 1, 1, 1, 1, 1, 1, 1, 1, 1, 1, 1, 1, 1, 1, 1, 1, 1, 1, 1, 1, 1, 1, 1, 1, 1]\n",
      "      - cnt.val(o): ['00000', '00200', '00120', '00160', '00080', '00100', '00280', '00180', '00140', '00320', '00240', '00300', '?', '00260', '00400', '00220', '00060', '00340', '00360', '00380', '00144', '00108', '00440', '00070', '00420', '00132', '00520', '00232', '00040', '00128', '00150', '00460', '00272', '00181', '00096', '00176', '00216', '00480', '00290', '00164', '00020', '00129', '00092', '00252', '00145', '00210', '00399', '00350', '00168', '00352', '00073', '00225', '00228', '00370', '00330', '00130', '00560', '00112', '00396', '00720', '00136', '00088', '00312', '00050', '00500', '00154', '00110', '00022', '00368', '00208', '00076', '00224', '00840', '00443', '00311', '00202', '00680', '00093', '00276', '00372', '00375', '00171', '00017', '00231', '00432', '00640', '00062', '00450', '00268', '00117', '00253', '00288', '00408', '00024', '00381', '00052', '00204', '00510', '00465', '01160', '00348', '00711', '00186', '00455', '00094', '00454', '00121', '00491', '00416', '00434', '00239', '00045', '00292', '00309', '00212', '00274', '00349', '00303', '00188', '00032', '00600', '00075', '00021', '00470', '00086', '00550', '00043', '00250', '00519', '00163', '00928', '00371', '00760', '00356', '00170', '00422', '02000', '00583', '00395', '00178', '00329', '00028', '00099', '00263', '00211', '00383', '00393', '00256', '00487', '00029', '00167', '00056', '00174', '00102', '00049', '00431', '00030', '00230', '00410', '00195', '00221', '00141', '00515', '00156', '00152', '00369', '00411', '00254', '00523', '00333', '00980']\n",
      "      - uniqval(n): [145, 35, 35, 34, 30, 30, 22, 18, 16, 14, 14, 13, 11, 9, 9, 9, 7, 7, 5, 4, 4, 4, 4, 4, 4, 4, 4, 4, 3, 3, 3, 3, 3, 3, 3, 3, 3, 3, 3, 2, 2, 2, 2, 2, 2, 2, 2, 2, 2, 2, 2, 2, 2, 2, 2, 2, 2, 2, 2, 2, 2, 2, 2, 2, 2, 2, 1, 1, 1, 1, 1, 1, 1, 1, 1, 1, 1, 1, 1, 1, 1, 1, 1, 1, 1, 1, 1, 1, 1, 1, 1, 1, 1, 1, 1, 1, 1, 1, 1, 1, 1, 1, 1, 1, 1, 1, 1, 1, 1, 1, 1, 1, 1, 1, 1, 1, 1, 1, 1, 1, 1, 1, 1, 1, 1, 1, 1, 1, 1, 1, 1, 1, 1, 1, 1, 1, 1, 1, 1, 1, 1, 1, 1, 1, 1, 1, 1, 1, 1, 1, 1, 1, 1, 1, 1, 1, 1, 1, 1, 1, 1, 1, 1, 1, 1, 1, 1, 1, 1, 1]\n",
      "      - cnt.val(n): ['00000', '00200', '00120', '00160', '00080', '00100', '00280', '00180', '00140', '00320', '00240', '00300', '00260', '00400', '00060', '00220', '00340', '00360', '00380', '00420', '00132', '00232', '00108', '00520', '00070', '00440', '00144', '00040', '00128', '00164', '00150', '00096', '00480', '00460', '00290', '00181', '00216', '00176', '00272', '00020', '00073', '00129', '00396', '00225', '00228', '00145', '00210', '00130', '00330', '00370', '00352', '00112', '00168', '00092', '00399', '00720', '00136', '00252', '00350', '00154', '00312', '00088', '00110', '00560', '00050', '00500', '00372', '00840', '00224', '00076', '00202', '00443', '00311', '00680', '00093', '00022', '00375', '00268', '00017', '00356', '00208', '00368', '00640', '00303', '00211', '00432', '00195', '00171', '00250', '00408', '00024', '00381', '00510', '01160', '00465', '00455', '00348', '00711', '00186', '00212', '00094', '00454', '00121', '00491', '00288', '00276', '00434', '00450', '00239', '00045', '00292', '00256', '00029', '00052', '00274', '00393', '00141', '00760', '00075', '00021', '00470', '00086', '00550', '00043', '00487', '00056', '00369', '00188', '00928', '00170', '00371', '02000', '00583', '00395', '00178', '00329', '00028', '00099', '00333', '00117', '00422', '00163', '00600', '00032', '00349', '00263', '00519', '00204', '00416', '00167', '00174', '00102', '00049', '00431', '00030', '00230', '00410', '00309', '00221', '00515', '00156', '00152', '00231', '00411', '00254', '00062', '00523', '00253', '00383', '00980']\n"
     ]
    }
   ],
   "source": [
    "replace_missingvalues(ccdata, 'ZipCode', '?')"
   ]
  },
  {
   "cell_type": "code",
   "execution_count": 78,
   "metadata": {},
   "outputs": [
    {
     "name": "stdout",
     "output_type": "stream",
     "text": [
      " Details of feature: ZipCode\n",
      "         - datatype: object\n",
      "         - col.size: (690,)\n",
      "         - NaN.vals: 0\n",
      "         - uniqvals: ['00000', '00200', '00120', '00160', '00100', '00080', '00280', '00180', '00140', '00320', '00240', '?', '00300', '00260', '00060', '00400', '00220', '00360', '00340', '00380', '00144', '00440', '00070', '00132', '00420', '00040', '00232', '00108', '00520', '00128', '00272', '00150', '00096', '00216', '00480', '00460', '00181', '00164', '00290', '00176', '00350', '00370', '00210', '00399', '00050', '00312', '00136', '00168', '00396', '00225', '00110', '00020', '00112', '00092', '00073', '00129', '00500', '00145', '00228', '00130', '00352', '00154', '00088', '00720', '00252', '00560', '00330', '00094', '00550', '00030', '00171', '00487', '00348', '00263', '00239', '00268', '00329', '00443', '00156', '00163', '02000', '00383', '00174', '00086', '00170', '00117', '00276', '00640', '00454', '00099', '00076', '00303', '00510', '00375', '00230', '00356', '00204', '00711', '00292', '00470', '00188', '00024', '00523', '00028', '00253', '00431', '00393', '00432', '00167', '00045', '00254', '00056', '00017', '00928', '00211', '00408', '00369', '00224', '00491', '00411', '00052', '00022', '00121', '00465', '00760', '00680', '00102', '00434', '00256', '00519', '00311', '00029', '00075', '00093', '00422', '00231', '00980', '00455', '00186', '00250', '00372', '00840', '00141', '00274', '00583', '00371', '00515', '00195', '00288', '00021', '00178', '00349', '00208', '00221', '00381', '00202', '00062', '00043', '00410', '00152', '00368', '00049', '00309', '00600', '00212', '00032', '01160', '00450', '00333', '00416', '00395']\n",
      "         - cnt.vals: [132, 35, 35, 34, 30, 30, 22, 18, 16, 14, 14, 13, 13, 11, 9, 9, 9, 7, 7, 5, 4, 4, 4, 4, 4, 4, 4, 4, 4, 3, 3, 3, 3, 3, 3, 3, 3, 3, 3, 3, 2, 2, 2, 2, 2, 2, 2, 2, 2, 2, 2, 2, 2, 2, 2, 2, 2, 2, 2, 2, 2, 2, 2, 2, 2, 2, 2, 1, 1, 1, 1, 1, 1, 1, 1, 1, 1, 1, 1, 1, 1, 1, 1, 1, 1, 1, 1, 1, 1, 1, 1, 1, 1, 1, 1, 1, 1, 1, 1, 1, 1, 1, 1, 1, 1, 1, 1, 1, 1, 1, 1, 1, 1, 1, 1, 1, 1, 1, 1, 1, 1, 1, 1, 1, 1, 1, 1, 1, 1, 1, 1, 1, 1, 1, 1, 1, 1, 1, 1, 1, 1, 1, 1, 1, 1, 1, 1, 1, 1, 1, 1, 1, 1, 1, 1, 1, 1, 1, 1, 1, 1, 1, 1, 1, 1, 1, 1, 1, 1, 1, 1]\n"
     ]
    }
   ],
   "source": [
    "show_feature_summary(cc_df, 'ZipCode')"
   ]
  },
  {
   "cell_type": "markdown",
   "metadata": {},
   "source": [
    "- **Income** of an applicant is a very relevant information for a credit card application. Income is mostly provided as a number. No missing value!"
   ]
  },
  {
   "cell_type": "code",
   "execution_count": 80,
   "metadata": {},
   "outputs": [
    {
     "name": "stdout",
     "output_type": "stream",
     "text": [
      " Details of feature: Income\n",
      "         - datatype: int64\n",
      "         - col.size: (690,)\n",
      "         - NaN.vals: 0\n",
      "         - uniqvals: [0, 1, 1000, 500, 2, 5, 300, 6, 3, 200, 100, 4, 50, 150, 7, 10, 3000, 20, 400, 560, 18, 600, 2000, 5000, 4000, 108, 17, 44, 204, 8, 1210, 67, 284, 68, 350, 351, 1200, 13, 375, 40, 16, 35, 27, 19, 15, 21, 456, 11, 809, 3065, 99, 28, 444, 540, 158, 154, 147, 2200, 146, 160, 162, 2197, 1187, 9, 1208, 168, 210, 234, 2279, 228, 225, 221, 3290, 1236, 196, 173, 195, 13212, 1212, 3257, 140, 179, 5298, 141, 41, 2184, 134, 1704, 60, 59, 58, 55, 53, 2100, 14, 42, 1065, 38, 1058, 33, 32, 2079, 25, 2072, 23, 22, 4159, 70, 1097, 4208, 130, 2206, 126, 122, 120, 117, 12, 113, 109, 5200, 105, 26726, 1260, 98, 90, 87, 1110, 246, 2283, 112, 237, 690, 15108, 769, 768, 2803, 750, 742, 5860, 80, 730, 722, 713, 687, 10000, 2732, 5800, 678, 5124, 100000, 15000, 8851, 5777, 184, 2690, 639, 1004, 790, 245, 51100, 2028, 4071, 990, 1062, 2010, 1400, 11202, 960, 948, 11177, 1950, 918, 800, 7059, 2954, 321, 892, 1249, 857, 50000, 837, 8000, 827, 824, 1655, 18027, 610, 1344, 394, 390, 7544, 367, 364, 347, 340, 2384, 327, 1349, 10561, 316, 4700, 314, 1332, 3376, 286, 278, 1300, 258, 2300, 251, 247, 1270, 396, 4500, 1430, 1442, 591, 587, 9800, 582, 1391, 1602, 567, 31285, 1583, 6700, 551, 537, 4607, 501, 484, 3552, 475, 2510, 458, 2503, 6590, 1465, 5552, 283]\n",
      "         - cnt.vals: [295, 29, 10, 10, 9, 8, 8, 8, 6, 6, 6, 5, 5, 4, 4, 4, 4, 4, 3, 3, 3, 3, 3, 3, 3, 2, 2, 2, 2, 2, 2, 2, 2, 2, 2, 2, 2, 2, 2, 2, 2, 2, 2, 2, 2, 2, 2, 2, 2, 2, 2, 2, 2, 2, 1, 1, 1, 1, 1, 1, 1, 1, 1, 1, 1, 1, 1, 1, 1, 1, 1, 1, 1, 1, 1, 1, 1, 1, 1, 1, 1, 1, 1, 1, 1, 1, 1, 1, 1, 1, 1, 1, 1, 1, 1, 1, 1, 1, 1, 1, 1, 1, 1, 1, 1, 1, 1, 1, 1, 1, 1, 1, 1, 1, 1, 1, 1, 1, 1, 1, 1, 1, 1, 1, 1, 1, 1, 1, 1, 1, 1, 1, 1, 1, 1, 1, 1, 1, 1, 1, 1, 1, 1, 1, 1, 1, 1, 1, 1, 1, 1, 1, 1, 1, 1, 1, 1, 1, 1, 1, 1, 1, 1, 1, 1, 1, 1, 1, 1, 1, 1, 1, 1, 1, 1, 1, 1, 1, 1, 1, 1, 1, 1, 1, 1, 1, 1, 1, 1, 1, 1, 1, 1, 1, 1, 1, 1, 1, 1, 1, 1, 1, 1, 1, 1, 1, 1, 1, 1, 1, 1, 1, 1, 1, 1, 1, 1, 1, 1, 1, 1, 1, 1, 1, 1, 1, 1, 1, 1, 1, 1, 1, 1, 1, 1, 1, 1, 1, 1, 1]\n"
     ]
    }
   ],
   "source": [
    "show_feature_summary(cc_df, 'Income')"
   ]
  },
  {
   "cell_type": "markdown",
   "metadata": {},
   "source": [
    "- **Approved** column is the holy-grail in this Credit Card Approval Project.  "
   ]
  },
  {
   "cell_type": "code",
   "execution_count": 81,
   "metadata": {},
   "outputs": [
    {
     "name": "stdout",
     "output_type": "stream",
     "text": [
      " Details of feature: Approved\n",
      "         - datatype: object\n",
      "         - col.size: (690,)\n",
      "         - NaN.vals: 0\n",
      "         - uniqvals: ['-', '+']\n",
      "         - cnt.vals: [383, 307]\n"
     ]
    }
   ],
   "source": [
    "show_feature_summary(cc_df, 'Approved')"
   ]
  },
  {
   "cell_type": "code",
   "execution_count": 83,
   "metadata": {},
   "outputs": [
    {
     "data": {
      "text/html": [
       "<div>\n",
       "<style scoped>\n",
       "    .dataframe tbody tr th:only-of-type {\n",
       "        vertical-align: middle;\n",
       "    }\n",
       "\n",
       "    .dataframe tbody tr th {\n",
       "        vertical-align: top;\n",
       "    }\n",
       "\n",
       "    .dataframe thead th {\n",
       "        text-align: right;\n",
       "    }\n",
       "</style>\n",
       "<table border=\"1\" class=\"dataframe\">\n",
       "  <thead>\n",
       "    <tr style=\"text-align: right;\">\n",
       "      <th></th>\n",
       "      <th>Gender</th>\n",
       "      <th>Age</th>\n",
       "      <th>Debt</th>\n",
       "      <th>Married</th>\n",
       "      <th>BankCustomer</th>\n",
       "      <th>EducationLevel</th>\n",
       "      <th>Ethnicity</th>\n",
       "      <th>YearsEmployed</th>\n",
       "      <th>PriorDefaulter</th>\n",
       "      <th>Employed</th>\n",
       "      <th>CreditScore</th>\n",
       "      <th>DriversLicense</th>\n",
       "      <th>Citizen</th>\n",
       "      <th>ZipCode</th>\n",
       "      <th>Income</th>\n",
       "      <th>Approved</th>\n",
       "    </tr>\n",
       "  </thead>\n",
       "  <tbody>\n",
       "    <tr>\n",
       "      <th>0</th>\n",
       "      <td>b</td>\n",
       "      <td>30.83</td>\n",
       "      <td>0.000</td>\n",
       "      <td>u</td>\n",
       "      <td>g</td>\n",
       "      <td>w</td>\n",
       "      <td>v</td>\n",
       "      <td>1.25</td>\n",
       "      <td>t</td>\n",
       "      <td>t</td>\n",
       "      <td>1</td>\n",
       "      <td>f</td>\n",
       "      <td>g</td>\n",
       "      <td>00202</td>\n",
       "      <td>0</td>\n",
       "      <td>+</td>\n",
       "    </tr>\n",
       "    <tr>\n",
       "      <th>1</th>\n",
       "      <td>a</td>\n",
       "      <td>58.67</td>\n",
       "      <td>4.460</td>\n",
       "      <td>u</td>\n",
       "      <td>g</td>\n",
       "      <td>q</td>\n",
       "      <td>h</td>\n",
       "      <td>3.04</td>\n",
       "      <td>t</td>\n",
       "      <td>t</td>\n",
       "      <td>6</td>\n",
       "      <td>f</td>\n",
       "      <td>g</td>\n",
       "      <td>00043</td>\n",
       "      <td>560</td>\n",
       "      <td>+</td>\n",
       "    </tr>\n",
       "    <tr>\n",
       "      <th>2</th>\n",
       "      <td>a</td>\n",
       "      <td>24.50</td>\n",
       "      <td>0.500</td>\n",
       "      <td>u</td>\n",
       "      <td>g</td>\n",
       "      <td>q</td>\n",
       "      <td>h</td>\n",
       "      <td>1.50</td>\n",
       "      <td>t</td>\n",
       "      <td>f</td>\n",
       "      <td>0</td>\n",
       "      <td>f</td>\n",
       "      <td>g</td>\n",
       "      <td>00280</td>\n",
       "      <td>824</td>\n",
       "      <td>+</td>\n",
       "    </tr>\n",
       "    <tr>\n",
       "      <th>3</th>\n",
       "      <td>b</td>\n",
       "      <td>27.83</td>\n",
       "      <td>1.540</td>\n",
       "      <td>u</td>\n",
       "      <td>g</td>\n",
       "      <td>w</td>\n",
       "      <td>v</td>\n",
       "      <td>3.75</td>\n",
       "      <td>t</td>\n",
       "      <td>t</td>\n",
       "      <td>5</td>\n",
       "      <td>t</td>\n",
       "      <td>g</td>\n",
       "      <td>00100</td>\n",
       "      <td>3</td>\n",
       "      <td>+</td>\n",
       "    </tr>\n",
       "    <tr>\n",
       "      <th>4</th>\n",
       "      <td>b</td>\n",
       "      <td>20.17</td>\n",
       "      <td>5.625</td>\n",
       "      <td>u</td>\n",
       "      <td>g</td>\n",
       "      <td>w</td>\n",
       "      <td>v</td>\n",
       "      <td>1.71</td>\n",
       "      <td>t</td>\n",
       "      <td>f</td>\n",
       "      <td>0</td>\n",
       "      <td>f</td>\n",
       "      <td>s</td>\n",
       "      <td>00120</td>\n",
       "      <td>0</td>\n",
       "      <td>+</td>\n",
       "    </tr>\n",
       "  </tbody>\n",
       "</table>\n",
       "</div>"
      ],
      "text/plain": [
       "  Gender    Age   Debt Married BankCustomer EducationLevel Ethnicity  \\\n",
       "0      b  30.83  0.000       u            g              w         v   \n",
       "1      a  58.67  4.460       u            g              q         h   \n",
       "2      a  24.50  0.500       u            g              q         h   \n",
       "3      b  27.83  1.540       u            g              w         v   \n",
       "4      b  20.17  5.625       u            g              w         v   \n",
       "\n",
       "   YearsEmployed PriorDefaulter Employed  CreditScore DriversLicense Citizen  \\\n",
       "0           1.25              t        t            1              f       g   \n",
       "1           3.04              t        t            6              f       g   \n",
       "2           1.50              t        f            0              f       g   \n",
       "3           3.75              t        t            5              t       g   \n",
       "4           1.71              t        f            0              f       s   \n",
       "\n",
       "  ZipCode  Income Approved  \n",
       "0   00202       0        +  \n",
       "1   00043     560        +  \n",
       "2   00280     824        +  \n",
       "3   00100       3        +  \n",
       "4   00120       0        +  "
      ]
     },
     "execution_count": 83,
     "metadata": {},
     "output_type": "execute_result"
    }
   ],
   "source": [
    "cc_df.head(5)"
   ]
  },
  {
   "cell_type": "code",
   "execution_count": 85,
   "metadata": {},
   "outputs": [
    {
     "name": "stdout",
     "output_type": "stream",
     "text": [
      "<class 'pandas.core.frame.DataFrame'>\n",
      "RangeIndex: 690 entries, 0 to 689\n",
      "Data columns (total 16 columns):\n",
      " #   Column          Non-Null Count  Dtype  \n",
      "---  ------          --------------  -----  \n",
      " 0   Gender          690 non-null    object \n",
      " 1   Age             690 non-null    float64\n",
      " 2   Debt            690 non-null    float64\n",
      " 3   Married         690 non-null    object \n",
      " 4   BankCustomer    690 non-null    object \n",
      " 5   EducationLevel  690 non-null    object \n",
      " 6   Ethnicity       690 non-null    object \n",
      " 7   YearsEmployed   690 non-null    float64\n",
      " 8   PriorDefaulter  690 non-null    object \n",
      " 9   Employed        690 non-null    object \n",
      " 10  CreditScore     690 non-null    int64  \n",
      " 11  DriversLicense  690 non-null    object \n",
      " 12  Citizen         690 non-null    object \n",
      " 13  ZipCode         690 non-null    object \n",
      " 14  Income          690 non-null    int64  \n",
      " 15  Approved        690 non-null    object \n",
      "dtypes: float64(3), int64(2), object(11)\n",
      "memory usage: 86.4+ KB\n"
     ]
    }
   ],
   "source": [
    "cc_df.info()"
   ]
  },
  {
   "cell_type": "markdown",
   "metadata": {},
   "source": [
    "We are going use the data version after cleaning information for `Quality`. Datatypes of all features are now categorized as below:\n",
    "- 3 Float datatypes\n",
    "- 2 Integer datatypes\n",
    "- 11 Object datatypes\n",
    "\n",
    "Let's now save it into a csv file. "
   ]
  },
  {
   "cell_type": "code",
   "execution_count": 87,
   "metadata": {},
   "outputs": [],
   "source": [
    "cc_df.to_csv('../datasets/crx.data_clean.csv')"
   ]
  },
  {
   "cell_type": "code",
   "execution_count": 90,
   "metadata": {},
   "outputs": [
    {
     "name": "stdout",
     "output_type": "stream",
     "text": [
      " datasets/\n",
      "       - crx.data\n",
      "       - crx.names\n",
      "       - crx.data_named.csv\n",
      "       - crx.data_clean.csv\n"
     ]
    }
   ],
   "source": [
    "show_files_datasets(path_data)"
   ]
  },
  {
   "cell_type": "code",
   "execution_count": null,
   "metadata": {},
   "outputs": [],
   "source": []
  }
 ],
 "metadata": {
  "kernelspec": {
   "display_name": "Python 3",
   "language": "python",
   "name": "python3"
  },
  "language_info": {
   "codemirror_mode": {
    "name": "ipython",
    "version": 3
   },
   "file_extension": ".py",
   "mimetype": "text/x-python",
   "name": "python",
   "nbconvert_exporter": "python",
   "pygments_lexer": "ipython3",
   "version": "3.8.5"
  }
 },
 "nbformat": 4,
 "nbformat_minor": 2
}
